{
  "nbformat": 4,
  "nbformat_minor": 0,
  "metadata": {
    "colab": {
      "name": "wanictf_2021_fall.ipynb",
      "provenance": [],
      "collapsed_sections": [],
      "mount_file_id": "1ZEzGXbAKxbYYjiylAYQTzeznXK4qZkd6",
      "authorship_tag": "ABX9TyNsTdTDpLAZVYN39LDTCI0O",
      "include_colab_link": true
    },
    "kernelspec": {
      "name": "python3",
      "display_name": "Python 3"
    },
    "language_info": {
      "name": "python"
    }
  },
  "cells": [
    {
      "cell_type": "markdown",
      "metadata": {
        "id": "view-in-github",
        "colab_type": "text"
      },
      "source": [
        "<a href=\"https://colab.research.google.com/github/kamehl/ex21/blob/main/wanictf_2021_fall.ipynb\" target=\"_parent\"><img src=\"https://colab.research.google.com/assets/colab-badge.svg\" alt=\"Open In Colab\"/></a>"
      ]
    },
    {
      "cell_type": "markdown",
      "metadata": {
        "id": "WTU_B2-voLAt"
      },
      "source": [
        "#Crypto"
      ]
    },
    {
      "cell_type": "markdown",
      "metadata": {
        "id": "SkdD-cUtoOrY"
      },
      "source": [
        "##fox"
      ]
    },
    {
      "cell_type": "code",
      "metadata": {
        "colab": {
          "base_uri": "https://localhost:8080/"
        },
        "id": "kHSHAswW34td",
        "outputId": "7e7e8ab8-2754-4945-da45-3d8fd57f4f92"
      },
      "source": [
        "!cat /content/drive/MyDrive/wanictf_2021_fall/crypto/fox/cry-fox/chall.py"
      ],
      "execution_count": 4,
      "outputs": [
        {
          "output_type": "stream",
          "name": "stdout",
          "text": [
            "flag = b\"FAKE{REDACTED}\"\n",
            "\n",
            "\n",
            "def bytes_to_int(B: bytes):\n",
            "    X = 0\n",
            "    for b in B:\n",
            "        X <<= 8\n",
            "        X += b\n",
            "    return X\n",
            "\n",
            "\n",
            "print(bytes_to_int(flag))\n"
          ]
        }
      ]
    },
    {
      "cell_type": "markdown",
      "metadata": {
        "id": "RQoB8Fg_4A4K"
      },
      "source": [
        "flag: $bytes$ を数値に変換している"
      ]
    },
    {
      "cell_type": "code",
      "metadata": {
        "colab": {
          "base_uri": "https://localhost:8080/"
        },
        "id": "bZROhtipoNou",
        "outputId": "46cf564e-9d15-484d-8974-5c2977c7d581"
      },
      "source": [
        "!cat /content/drive/MyDrive/wanictf_2021_fall/crypto/fox/cry-fox/output.txt"
      ],
      "execution_count": 1,
      "outputs": [
        {
          "output_type": "stream",
          "name": "stdout",
          "text": [
            "19116989514623535769166210117786818367158332986915210065591753844573169066323884981321863605962664727709419615399694310104576887228581060509732286555123028133634836954522269304382229987197\n"
          ]
        }
      ]
    },
    {
      "cell_type": "markdown",
      "metadata": {
        "id": "KjO6AK-j4bbE"
      },
      "source": [
        "逆変換はcryptodomeモジュール$^※$のlong_to_bytesが簡単"
      ]
    },
    {
      "cell_type": "code",
      "metadata": {
        "colab": {
          "base_uri": "https://localhost:8080/"
        },
        "id": "kK2xjuyFpOg1",
        "outputId": "cdc2be2e-a859-4805-b784-12c5d43b136d"
      },
      "source": [
        "!pip install pycryptodome"
      ],
      "execution_count": 1,
      "outputs": [
        {
          "output_type": "stream",
          "name": "stdout",
          "text": [
            "Collecting pycryptodome\n",
            "  Downloading pycryptodome-3.11.0-cp35-abi3-manylinux2010_x86_64.whl (1.9 MB)\n",
            "\u001b[K     |████████████████████████████████| 1.9 MB 5.0 MB/s \n",
            "\u001b[?25hInstalling collected packages: pycryptodome\n",
            "Successfully installed pycryptodome-3.11.0\n"
          ]
        }
      ]
    },
    {
      "cell_type": "markdown",
      "metadata": {
        "id": "S6WslvAU4yIK"
      },
      "source": [
        "※これまでpycryptoモジュールもよく使ってたけど、webによると長期間メンテされてないらしい"
      ]
    },
    {
      "cell_type": "code",
      "metadata": {
        "id": "MIKm3Z6HpdXh"
      },
      "source": [
        "from Crypto.Util.number import *"
      ],
      "execution_count": 2,
      "outputs": []
    },
    {
      "cell_type": "code",
      "metadata": {
        "colab": {
          "base_uri": "https://localhost:8080/"
        },
        "id": "gTrNzU8fpovm",
        "outputId": "16065cc6-6624-4d6b-ed94-49637d7b7198"
      },
      "source": [
        "long_to_bytes(19116989514623535769166210117786818367158332986915210065591753844573169066323884981321863605962664727709419615399694310104576887228581060509732286555123028133634836954522269304382229987197)"
      ],
      "execution_count": 3,
      "outputs": [
        {
          "output_type": "execute_result",
          "data": {
            "text/plain": [
              "b'FLAG{R1ng_d1n9_ding_d1ng_ding3ring3ding?__Wa_p@_pa_p@_pa_p@_pow?__or_konko-n?}'"
            ]
          },
          "metadata": {},
          "execution_count": 3
        }
      ]
    },
    {
      "cell_type": "markdown",
      "metadata": {
        "id": "dlwKvtkgnNKK"
      },
      "source": [
        "公式WriteUpの解法"
      ]
    },
    {
      "cell_type": "code",
      "metadata": {
        "colab": {
          "base_uri": "https://localhost:8080/"
        },
        "id": "MgkQ8wxn63HY",
        "outputId": "9550cb9b-a234-44c3-dfdf-5ae33071b621"
      },
      "source": [
        "x = 19116989514623535769166210117786818367158332986915210065591753844573169066323884981321863605962664727709419615399694310104576887228581060509732286555123028133634836954522269304382229987197\n",
        "\n",
        "B = []\n",
        "while True:\n",
        "  B = [0xff & x] + B\n",
        "  x >>= 8\n",
        "  if x == 0: break\n",
        "\n",
        "print(bytes(B))\n"
      ],
      "execution_count": 47,
      "outputs": [
        {
          "output_type": "stream",
          "name": "stdout",
          "text": [
            "b'FLAG{R1ng_d1n9_ding_d1ng_ding3ring3ding?__Wa_p@_pa_p@_pa_p@_pow?__or_konko-n?}'\n"
          ]
        }
      ]
    },
    {
      "cell_type": "markdown",
      "metadata": {
        "id": "iiQAS4qd9Tm9"
      },
      "source": [
        "他にもいろんなやり方がある、例えばこんな感じ\n",
        "\n",
        "でも、桁数によってうまくいかないことがある・・・"
      ]
    },
    {
      "cell_type": "code",
      "metadata": {
        "colab": {
          "base_uri": "https://localhost:8080/"
        },
        "id": "mxCRD7qd8ZWZ",
        "outputId": "395f1f35-a756-445c-cd9a-6efb815ab249"
      },
      "source": [
        "x = 19116989514623535769166210117786818367158332986915210065591753844573169066323884981321863605962664727709419615399694310104576887228581060509732286555123028133634836954522269304382229987197\n",
        "\n",
        "bytes.fromhex(\"{:x}\".format(x))\n"
      ],
      "execution_count": 56,
      "outputs": [
        {
          "output_type": "execute_result",
          "data": {
            "text/plain": [
              "b'FLAG{R1ng_d1n9_ding_d1ng_ding3ring3ding?__Wa_p@_pa_p@_pa_p@_pow?__or_konko-n?}'"
            ]
          },
          "metadata": {},
          "execution_count": 56
        }
      ]
    },
    {
      "cell_type": "markdown",
      "metadata": {
        "id": "kEB03Rri_YlQ"
      },
      "source": [
        "これなら桁数を気にしない"
      ]
    },
    {
      "cell_type": "code",
      "metadata": {
        "colab": {
          "base_uri": "https://localhost:8080/"
        },
        "id": "KxZbE36k-yW4",
        "outputId": "eed55ec1-9c4f-47f4-aa18-eba86130fa30"
      },
      "source": [
        "x = 19116989514623535769166210117786818367158332986915210065591753844573169066323884981321863605962664727709419615399694310104576887228581060509732286555123028133634836954522269304382229987197\n",
        "\n",
        "x.to_bytes((x.bit_length()+7)//8 ,'big')"
      ],
      "execution_count": 55,
      "outputs": [
        {
          "output_type": "execute_result",
          "data": {
            "text/plain": [
              "b'FLAG{R1ng_d1n9_ding_d1ng_ding3ring3ding?__Wa_p@_pa_p@_pa_p@_pow?__or_konko-n?}'"
            ]
          },
          "metadata": {},
          "execution_count": 55
        }
      ]
    },
    {
      "cell_type": "markdown",
      "metadata": {
        "id": "rcuStrn4_Y5A"
      },
      "source": [
        "こんなのも発見"
      ]
    },
    {
      "cell_type": "code",
      "metadata": {
        "colab": {
          "base_uri": "https://localhost:8080/",
          "height": 35
        },
        "id": "L-mNvJSK9_2i",
        "outputId": "8cce8f99-7996-49a8-c9e1-55bff7558667"
      },
      "source": [
        "x = 19116989514623535769166210117786818367158332986915210065591753844573169066323884981321863605962664727709419615399694310104576887228581060509732286555123028133634836954522269304382229987197\n",
        "\n",
        "d=0x100\n",
        "b=[]\n",
        "\n",
        "while x > 0:\n",
        "  b.append(chr(x%d))\n",
        "  x //= d\n",
        "\n",
        "\"\".join(reversed(b))\n"
      ],
      "execution_count": 8,
      "outputs": [
        {
          "output_type": "execute_result",
          "data": {
            "application/vnd.google.colaboratory.intrinsic+json": {
              "type": "string"
            },
            "text/plain": [
              "'FLAG{R1ng_d1n9_ding_d1ng_ding3ring3ding?__Wa_p@_pa_p@_pa_p@_pow?__or_konko-n?}'"
            ]
          },
          "metadata": {},
          "execution_count": 8
        }
      ]
    },
    {
      "cell_type": "markdown",
      "metadata": {
        "id": "V-9-H3uspu9B"
      },
      "source": [
        "##dango"
      ]
    },
    {
      "cell_type": "code",
      "metadata": {
        "colab": {
          "base_uri": "https://localhost:8080/"
        },
        "id": "_C1_IZWy5bhO",
        "outputId": "d65ef937-beb6-49cc-f124-f704224bfbbf"
      },
      "source": [
        "!cat /content/drive/MyDrive/wanictf_2021_fall/crypto/dango/cry-dango/chall.py"
      ],
      "execution_count": 5,
      "outputs": [
        {
          "output_type": "stream",
          "name": "stdout",
          "text": [
            "import secrets\n",
            "from functools import reduce\n",
            "\n",
            "flag = b\"FAKE{REDACTED}\"\n",
            "key = [secrets.token_bytes(len(flag)) for _ in range(3)]\n",
            "\n",
            "\n",
            "def XOR(*X):\n",
            "    xor = lambda A, B: bytes(x ^ y for x, y in zip(A, B))\n",
            "    return reduce(xor, X)\n",
            "\n",
            "\n",
            "ciphertext = XOR(flag, key[0])\n",
            "A = XOR(key[0], key[1], key[2])\n",
            "B = XOR(key[0], key[1])\n",
            "C = XOR(key[1], key[2])\n",
            "\n",
            "print(f\"ciphertext : {ciphertext.hex()}\")\n",
            "print(f\"A : {A.hex()}\")\n",
            "print(f\"B : {B.hex()}\")\n",
            "print(f\"C : {C.hex()}\")\n"
          ]
        }
      ]
    },
    {
      "cell_type": "markdown",
      "metadata": {
        "id": "qAwZx38Y5qzI"
      },
      "source": [
        "つまり・・・\n",
        "\n",
        ">ciphertext = flag ^ key0<br>\n",
        ">A=key0 ^ key1 ^ key2<br>\n",
        ">B=key0 ^ key1<br>\n",
        ">C=key1 ^ key2<br>\n",
        "\n",
        "なので\n",
        "\n",
        ">ciphertext ^ A ^ C = flag ^ key0 ^ key0 ^ key1 ^ key2 ^ key1 ^ key2 = flag"
      ]
    },
    {
      "cell_type": "code",
      "metadata": {
        "colab": {
          "base_uri": "https://localhost:8080/"
        },
        "id": "8RCcA511ptN_",
        "outputId": "d3755ff6-5632-4d2a-fae6-b6b57b1386b8"
      },
      "source": [
        "!cat /content/drive/MyDrive/wanictf_2021_fall/crypto/dango/cry-dango/output.txt"
      ],
      "execution_count": 5,
      "outputs": [
        {
          "output_type": "stream",
          "name": "stdout",
          "text": [
            "ciphertext : bd35b1c95ee9436db8fad5c3aa493660e606fa4dd7fe171aac75313c18ce5fcf86f0\n",
            "A : cae61858ee8c7198632c652fd8416092eb165e2f847f0ebd80637ed0ffd96c6e0359\n",
            "B : e6ed8bda14f67343d81830f0f2be3299a97b541db48cfa1873a13e8d774f1e243ce7\n",
            "C : 319fe8d6cb01539bbcb9ef9f13663d8b6274c50b0ce578c94b7910b3ca785ccea8d4\n"
          ]
        }
      ]
    },
    {
      "cell_type": "code",
      "metadata": {
        "id": "pobxEHArp5RA"
      },
      "source": [
        "ciphertext = 0xbd35b1c95ee9436db8fad5c3aa493660e606fa4dd7fe171aac75313c18ce5fcf86f0\n",
        "A = 0xcae61858ee8c7198632c652fd8416092eb165e2f847f0ebd80637ed0ffd96c6e0359\n",
        "B = 0xe6ed8bda14f67343d81830f0f2be3299a97b541db48cfa1873a13e8d774f1e243ce7\n",
        "C = 0x319fe8d6cb01539bbcb9ef9f13663d8b6274c50b0ce578c94b7910b3ca785ccea8d4"
      ],
      "execution_count": 6,
      "outputs": []
    },
    {
      "cell_type": "markdown",
      "metadata": {
        "id": "EVKmOWRk7ijT"
      },
      "source": [
        "XOR関数はそのまま流用する"
      ]
    },
    {
      "cell_type": "code",
      "metadata": {
        "id": "fUd6FTOXqMa-"
      },
      "source": [
        "import secrets\n",
        "from functools import reduce\n",
        "\n",
        "def XOR(*X):\n",
        "    xor = lambda A, B: bytes(x ^ y for x, y in zip(A, B))\n",
        "    return reduce(xor, X)"
      ],
      "execution_count": 8,
      "outputs": []
    },
    {
      "cell_type": "code",
      "metadata": {
        "colab": {
          "base_uri": "https://localhost:8080/"
        },
        "id": "gITK-ZzJqWHq",
        "outputId": "3ef9a1ce-1772-48b1-8870-d06f599cb7fb"
      },
      "source": [
        "XOR(long_to_bytes(ciphertext), long_to_bytes(A), long_to_bytes(C))"
      ],
      "execution_count": 9,
      "outputs": [
        {
          "output_type": "execute_result",
          "data": {
            "text/plain": [
              "b'FLAG{dango_sankyodai_dango__-ooo-}'"
            ]
          },
          "metadata": {},
          "execution_count": 9
        }
      ]
    },
    {
      "cell_type": "markdown",
      "metadata": {
        "id": "kBla5nv5xlYY"
      },
      "source": [
        "##Sweet curve"
      ]
    },
    {
      "cell_type": "code",
      "metadata": {
        "colab": {
          "base_uri": "https://localhost:8080/"
        },
        "id": "CLnyW8_61hBX",
        "outputId": "17d7922d-ae30-41f9-bdf5-952f34cd5c19"
      },
      "source": [
        "j!cat /content/drive/MyDrive/wanictf_2021_fall/crypto/Sweet_curve/cry-sweet-curve/parameters.txt"
      ],
      "execution_count": 10,
      "outputs": [
        {
          "output_type": "stream",
          "name": "stdout",
          "text": [
            "# Given:\n",
            "# - An elliptic curve: y**2 = x**3 - x + 1 (mod p)\n",
            "# - Two points: P(x_P, y_P) and Q(x_Q, y_Q)\n",
            "\n",
            "# Find the point P+Q\n",
            "# The flag is the x value of P+Q\n",
            "# Don't forget to convert it into a string!\n",
            "p = 0x89a4e2c7f834f5fbc6f2a314e373e3723de7df6283c5d97cbca509c61e02965b7ef96efce1d827bfdfa7f21d22803558bb549f9ea15dfe9f47d3976648c55feb\n",
            "x_P = 0x1e1cba0e07c61cf88e9f23b9859093c33c26cf83bcfb6fe24d7559cd0ea86fb2f144ae643ac5edf6f04ef065dc7c2c18d88ae02843592d5e611029fefc0fece\n",
            "y_P = 0x198420b30a4330f82380326895d0ac06a1859bc49d45cd4b08021b857d23d515163b9151fbaf7ae5f816d485d129d3b1c4630d1fb45c6790af551428a5c85667\n",
            "x_Q = 0x7e32edfd7befd8df93d7b738d6a1c95e1cfd56b3a6ccc4a62e4e0ae9059b4903e71fccbe07d8d45c762b4a3ed5c9d1a2505043d033e58adb72191259b81bc47d\n",
            "y_Q = 0x46016c676585feaf048fff9d5cbb45dbd598c6c4c81694e0881bf110b57012f0bac6eaf7376fee015c8cecba1fc92206ca346f7d72ee1d60f820091c85fa76b3\n"
          ]
        }
      ]
    },
    {
      "cell_type": "markdown",
      "metadata": {
        "id": "IRtV2BXaxn8B"
      },
      "source": [
        "楕円曲線暗号のような問題\n",
        "\n",
        "剰余群上の楕円曲線を扱うが、今回は楕円曲線上の２点の加法について理解できてればOK\n",
        "\n",
        ">$P + Q = R$<br>\n",
        ">ただし、$P,Q,R$はいずれも楕円曲線上の点\n",
        "\n",
        "とすると・・・\n",
        "\n",
        "難しいことはさておき、$x_{r}$は次の式から求まる。\n",
        "\n",
        "\n",
        ">$x_{r}=\\phi^{2}-x_{p}-x_{q}$<br>\n",
        ">$\\phi＝\\frac{y_{p}-y_{q}}{x_{p}-x_{q}}$\n",
        "\n",
        "（参考）https://techracho.bpsinc.jp/yoshi/2019_08_16/79280\n",
        "\n",
        "この時ポイントは「**割り算**」\n",
        "\n",
        "「$x$で割る」とは「$x$の逆元をかける」ことなので・・・\n",
        "\n",
        "そして剰余群の逆元はcryptodomeモジュールのinverse関数を使うのが常套\n"
      ]
    },
    {
      "cell_type": "code",
      "metadata": {
        "colab": {
          "base_uri": "https://localhost:8080/"
        },
        "id": "4uAJhBwjqkZH",
        "outputId": "cef6f586-21af-4e96-b553-bba7a45dda40"
      },
      "source": [
        "from Crypto.Util.number import *\n",
        "\n",
        "p = 0x89a4e2c7f834f5fbc6f2a314e373e3723de7df6283c5d97cbca509c61e02965b7ef96efce1d827bfdfa7f21d22803558bb549f9ea15dfe9f47d3976648c55feb\n",
        "x_P = 0x1e1cba0e07c61cf88e9f23b9859093c33c26cf83bcfb6fe24d7559cd0ea86fb2f144ae643ac5edf6f04ef065dc7c2c18d88ae02843592d5e611029fefc0fece\n",
        "y_P = 0x198420b30a4330f82380326895d0ac06a1859bc49d45cd4b08021b857d23d515163b9151fbaf7ae5f816d485d129d3b1c4630d1fb45c6790af551428a5c85667\n",
        "x_Q = 0x7e32edfd7befd8df93d7b738d6a1c95e1cfd56b3a6ccc4a62e4e0ae9059b4903e71fccbe07d8d45c762b4a3ed5c9d1a2505043d033e58adb72191259b81bc47d\n",
        "y_Q = 0x46016c676585feaf048fff9d5cbb45dbd598c6c4c81694e0881bf110b57012f0bac6eaf7376fee015c8cecba1fc92206ca346f7d72ee1d60f820091c85fa76b3\n",
        "\n",
        "x = x_P - x_Q\n",
        "y = y_P - y_Q\n",
        "\n",
        "x_inv = inverse(x, p)\n",
        "\n",
        "x_R = pow(y * x_inv, 2, p) - x_P -x_Q\n",
        "\n",
        "long_to_bytes(x_R)\n"
      ],
      "execution_count": 11,
      "outputs": [
        {
          "output_type": "execute_result",
          "data": {
            "text/plain": [
              "b'FLAG{7h1s_curv3_alw@ys_r3m1nd5_me_0f_pucca}'"
            ]
          },
          "metadata": {},
          "execution_count": 11
        }
      ]
    },
    {
      "cell_type": "markdown",
      "metadata": {
        "id": "XNPU9df_ANsY"
      },
      "source": [
        "公式WriteUpをみるとinverse()の代わりに\n",
        "\n",
        "> pow(x, -1, p)\n",
        "\n",
        "が使われている\n",
        "\n",
        "調べてみると、3.8以降のバージョンでサポートされたらしい\n",
        "\n"
      ]
    },
    {
      "cell_type": "code",
      "metadata": {
        "colab": {
          "base_uri": "https://localhost:8080/"
        },
        "id": "ilaWhRRPAno5",
        "outputId": "16477b92-fe86-438b-bc92-aa070c61a495"
      },
      "source": [
        "!python -V"
      ],
      "execution_count": 57,
      "outputs": [
        {
          "output_type": "stream",
          "name": "stdout",
          "text": [
            "Python 3.7.12\n"
          ]
        }
      ]
    },
    {
      "cell_type": "markdown",
      "metadata": {
        "id": "9ulEZDKtAvIH"
      },
      "source": [
        "残念ながらデフォルトでは使えない\n",
        "\n",
        "ところがどっこい、次のようにすればOKだったりする\n",
        "\n",
        "うまくいく理由を考えると少し賢くなれるかも・・・"
      ]
    },
    {
      "cell_type": "code",
      "metadata": {
        "colab": {
          "base_uri": "https://localhost:8080/"
        },
        "id": "wyGQXDKGGGdz",
        "outputId": "5696b56b-6580-43bd-e6c5-24f4e72a3da4"
      },
      "source": [
        "p = 0x89a4e2c7f834f5fbc6f2a314e373e3723de7df6283c5d97cbca509c61e02965b7ef96efce1d827bfdfa7f21d22803558bb549f9ea15dfe9f47d3976648c55feb\n",
        "x_P = 0x1e1cba0e07c61cf88e9f23b9859093c33c26cf83bcfb6fe24d7559cd0ea86fb2f144ae643ac5edf6f04ef065dc7c2c18d88ae02843592d5e611029fefc0fece\n",
        "y_P = 0x198420b30a4330f82380326895d0ac06a1859bc49d45cd4b08021b857d23d515163b9151fbaf7ae5f816d485d129d3b1c4630d1fb45c6790af551428a5c85667\n",
        "x_Q = 0x7e32edfd7befd8df93d7b738d6a1c95e1cfd56b3a6ccc4a62e4e0ae9059b4903e71fccbe07d8d45c762b4a3ed5c9d1a2505043d033e58adb72191259b81bc47d\n",
        "y_Q = 0x46016c676585feaf048fff9d5cbb45dbd598c6c4c81694e0881bf110b57012f0bac6eaf7376fee015c8cecba1fc92206ca346f7d72ee1d60f820091c85fa76b3\n",
        "\n",
        "x = x_P - x_Q\n",
        "y = y_P - y_Q\n",
        "\n",
        "x_inv = pow(x, p-2, p)\n",
        "\n",
        "x_R = pow(y * x_inv, 2, p) - x_P -x_Q\n",
        "\n",
        "(x_R).to_bytes((x_R.bit_length()+7)//8, 'big')"
      ],
      "execution_count": 11,
      "outputs": [
        {
          "output_type": "execute_result",
          "data": {
            "text/plain": [
              "b'FLAG{7h1s_curv3_alw@ys_r3m1nd5_me_0f_pucca}'"
            ]
          },
          "metadata": {},
          "execution_count": 11
        }
      ]
    },
    {
      "cell_type": "markdown",
      "metadata": {
        "id": "9efq7I2KdVF8"
      },
      "source": [
        "##AES-NOC"
      ]
    },
    {
      "cell_type": "code",
      "metadata": {
        "colab": {
          "base_uri": "https://localhost:8080/"
        },
        "id": "qMzwzBunBvqG",
        "outputId": "b5301369-c1b0-45ce-9875-40214f8390ba"
      },
      "source": [
        "!cat /content/drive/MyDrive/wanictf_2021_fall/crypto/AES-NOC/cry-aesnoc/chall.py"
      ],
      "execution_count": 6,
      "outputs": [
        {
          "output_type": "stream",
          "name": "stdout",
          "text": [
            "import os\n",
            "\n",
            "from Crypto.Cipher import AES\n",
            "from Crypto.Util.Padding import pad\n",
            "from Crypto.Util.strxor import strxor\n",
            "\n",
            "from secret import flag\n",
            "\n",
            "\n",
            "class AESNOC:\n",
            "    def __init__(self, key: bytes, iv: bytes):\n",
            "        self.iv = iv\n",
            "        self.key = key\n",
            "        self.block_size = AES.block_size\n",
            "\n",
            "    def encrypt(self, plaintext: bytes):\n",
            "        cipher = AES.new(self.key, AES.MODE_ECB)\n",
            "        plaintext = pad(plaintext, self.block_size)\n",
            "        P = [\n",
            "            plaintext[i : i + self.block_size]\n",
            "            for i in range(0, len(plaintext), self.block_size)\n",
            "        ]\n",
            "        C = []\n",
            "\n",
            "        P_prev = self.iv\n",
            "        for p in P:\n",
            "            c = cipher.encrypt(p)\n",
            "            C.append(strxor(c, P_prev))\n",
            "            P_prev = p\n",
            "\n",
            "        return b\"\".join(C)\n",
            "\n",
            "\n",
            "def main():\n",
            "    key = os.urandom(16)\n",
            "    iv = os.urandom(16)\n",
            "    cipher = AESNOC(key, iv)\n",
            "\n",
            "    assert len(flag) == 49\n",
            "    assert flag.startswith(b\"FLAG{\")\n",
            "    assert flag.endswith(b\"}\")\n",
            "\n",
            "    iv = iv.hex()\n",
            "    print(f\"{iv = }\")\n",
            "    while True:\n",
            "        print(\"1. Get encrypted flag\")\n",
            "        print(\"2. Encrypt\")\n",
            "        choice = int(input(\"> \"))\n",
            "        if choice == 1:\n",
            "            encrypted_flag = cipher.encrypt(flag).hex()\n",
            "            print(f\"{encrypted_flag = }\")\n",
            "        elif choice == 2:\n",
            "            plaintext = input(\"Plaintext [hex] > \")\n",
            "            plaintext = bytes.fromhex(plaintext)\n",
            "            ciphertext = cipher.encrypt(plaintext).hex()\n",
            "            print(f\"{ciphertext = }\")\n",
            "        else:\n",
            "            print(\"Bye\")\n",
            "            break\n",
            "\n",
            "\n",
            "if __name__ == \"__main__\":\n",
            "    main()\n"
          ]
        }
      ]
    },
    {
      "cell_type": "markdown",
      "metadata": {
        "id": "pGx5RY-dB9c3"
      },
      "source": [
        "まず、平文長は49$byte$\n",
        "\n",
        ">AES.block_size=16\n",
        "\n",
        "と合わせて考えると、最後のブロックは平文が１byteしか入っていない（残りはpadding）\n",
        "\n",
        "平文の最後1byteは\n",
        "\n",
        "> }\n",
        "\n",
        "で確定だから、最後のブロックの平文は全て既知\n"
      ]
    },
    {
      "cell_type": "markdown",
      "metadata": {
        "id": "2JxvWd0pr2ZD"
      },
      "source": [
        "*   ｎｃで問い合わせると好きな平文を暗号文と同じ鍵で暗号化できること\n",
        "*   平文をAES暗号化した後、1個前の平文とXORしていること\n",
        "\n",
        "<pre>\n",
        "        P_prev = self.iv\n",
        "        for p in P:\n",
        "            c = cipher.encrypt(p)\n",
        "            C.append(strxor(c, P_prev))\n",
        "            P_prev = p\n",
        "</pre>\n",
        "\n",
        "から、後ろから２番目の平文も分かる\n",
        "\n",
        "あとはこれを繰り返せば後ろから順に平文がわかるハズ\n"
      ]
    },
    {
      "cell_type": "markdown",
      "metadata": {
        "id": "u83w1UeKBfGa"
      },
      "source": [
        "<pre>\n",
        "$ nc aesnoc.crypto.wanictf.org 50000\n",
        "iv = '9ac6cf0aeb841404af41d07abda35709'\n",
        "1. Get encrypted flag\n",
        "2. Encrypt\n",
        "> 1\n",
        "encrypted_flag = '42de76f17637d3e87516e07556eccd555f89fcc13139fd40a1e804c782b1654eda7c797795638437b0698c20e6853f163968c68058d636c2cdb3a3ba4486fc1a'\n",
        "1. Get encrypted flag\n",
        "2. Encrypt\n",
        ">\n",
        "</pre>\n"
      ]
    },
    {
      "cell_type": "code",
      "metadata": {
        "id": "zOc1N2HU2QYe"
      },
      "source": [
        "iv = '9ac6cf0aeb841404af41d07abda35709'\n",
        "encrypted_flag = '42de76f17637d3e87516e07556eccd555f89fcc13139fd40a1e804c782b1654eda7c797795638437b0698c20e6853f163968c68058d636c2cdb3a3ba4486fc1a'\n"
      ],
      "execution_count": 27,
      "outputs": []
    },
    {
      "cell_type": "code",
      "metadata": {
        "colab": {
          "base_uri": "https://localhost:8080/",
          "height": 35
        },
        "id": "-sQlVFH-dcfE",
        "outputId": "06c42c97-1916-4e8f-8ecd-e523839bb8a7"
      },
      "source": [
        "b'}'.hex()"
      ],
      "execution_count": 15,
      "outputs": [
        {
          "output_type": "execute_result",
          "data": {
            "application/vnd.google.colaboratory.intrinsic+json": {
              "type": "string"
            },
            "text/plain": [
              "'7d'"
            ]
          },
          "metadata": {},
          "execution_count": 15
        }
      ]
    },
    {
      "cell_type": "markdown",
      "metadata": {
        "id": "vCGL0i7TDx4Z"
      },
      "source": [
        "<pre>\n",
        "> 2\n",
        "Plaintext [hex] > 7d\n",
        "ciphertext = 'c6f165eb86267da40ec210aba67af42c'\n",
        "1. Get encrypted flag\n",
        "2. Encrypt\n",
        ">\n",
        "</pre>"
      ]
    },
    {
      "cell_type": "code",
      "metadata": {
        "id": "QWSngnLwdjm1"
      },
      "source": [
        "!pip install pycryptodome"
      ],
      "execution_count": null,
      "outputs": []
    },
    {
      "cell_type": "code",
      "metadata": {
        "id": "NZidDhwkeK5_"
      },
      "source": [
        "from Crypto.Cipher import AES\n",
        "from Crypto.Util.Padding import pad\n",
        "from Crypto.Util.strxor import strxor"
      ],
      "execution_count": 19,
      "outputs": []
    },
    {
      "cell_type": "code",
      "metadata": {
        "id": "6wctkNXBGrEQ"
      },
      "source": [
        "ciphertext = 'c6f165eb86267da40ec210aba67af42c'"
      ],
      "execution_count": 25,
      "outputs": []
    },
    {
      "cell_type": "code",
      "metadata": {
        "colab": {
          "base_uri": "https://localhost:8080/"
        },
        "id": "NZr4sApMEp5r",
        "outputId": "7340b32e-38b6-4602-813e-562e40ab054e"
      },
      "source": [
        "strxor(bytes.fromhex(encrypted_flag[-32:]), strxor(bytes.fromhex(ciphertext), bytes.fromhex(iv)))"
      ],
      "execution_count": 28,
      "outputs": [
        {
          "output_type": "execute_result",
          "data": {
            "text/plain": [
              "b'e_la5t_bl0ck___?'"
            ]
          },
          "metadata": {},
          "execution_count": 28
        }
      ]
    },
    {
      "cell_type": "code",
      "metadata": {
        "colab": {
          "base_uri": "https://localhost:8080/",
          "height": 35
        },
        "id": "WRX2QnqAFLEh",
        "outputId": "12c0d4c3-a23f-4585-b070-79025f4e5372"
      },
      "source": [
        "b'e_la5t_bl0ck___?'.hex()"
      ],
      "execution_count": 23,
      "outputs": [
        {
          "output_type": "execute_result",
          "data": {
            "application/vnd.google.colaboratory.intrinsic+json": {
              "type": "string"
            },
            "text/plain": [
              "'655f6c6135745f626c30636b5f5f5f3f'"
            ]
          },
          "metadata": {},
          "execution_count": 23
        }
      ]
    },
    {
      "cell_type": "markdown",
      "metadata": {
        "id": "5AsuhOCKHhWc"
      },
      "source": [
        "<pre>\n",
        "> 2\n",
        "Plaintext [hex] > 655f6c6135745f626c30636b5f5f5f3f\n",
        "ciphertext = '64e5871b219ea0464043326a2c791c7776c870ca1aa134feccefc5743d6cb3c4'\n",
        "1. Get encrypted flag\n",
        "2. Encrypt\n",
        ">\n",
        "</pre>"
      ]
    },
    {
      "cell_type": "code",
      "metadata": {
        "id": "bOgN4P5NGgSy"
      },
      "source": [
        "ciphertext = '64e5871b219ea0464043326a2c791c7776c870ca1aa134feccefc5743d6cb3c4'"
      ],
      "execution_count": 29,
      "outputs": []
    },
    {
      "cell_type": "code",
      "metadata": {
        "colab": {
          "base_uri": "https://localhost:8080/"
        },
        "id": "j44eWUQzHp7U",
        "outputId": "05cea1bd-0c9f-4cd7-9246-562fda638de3"
      },
      "source": [
        "strxor(bytes.fromhex(encrypted_flag[64:-32]), strxor(bytes.fromhex(ciphertext[:32]), bytes.fromhex(iv)))"
      ],
      "execution_count": 31,
      "outputs": [
        {
          "output_type": "execute_result",
          "data": {
            "text/plain": [
              "b'$_1f_y0u_kn0w_th'"
            ]
          },
          "metadata": {},
          "execution_count": 31
        }
      ]
    },
    {
      "cell_type": "code",
      "metadata": {
        "colab": {
          "base_uri": "https://localhost:8080/",
          "height": 35
        },
        "id": "4n0MPH_iH6rF",
        "outputId": "2cf4fa05-293f-48aa-ed48-7080ef17c6d4"
      },
      "source": [
        "b'$_1f_y0u_kn0w_th'.hex()"
      ],
      "execution_count": 32,
      "outputs": [
        {
          "output_type": "execute_result",
          "data": {
            "application/vnd.google.colaboratory.intrinsic+json": {
              "type": "string"
            },
            "text/plain": [
              "'245f31665f7930755f6b6e30775f7468'"
            ]
          },
          "metadata": {},
          "execution_count": 32
        }
      ]
    },
    {
      "cell_type": "markdown",
      "metadata": {
        "id": "vbg55TQHH2aP"
      },
      "source": [
        "<pre>\n",
        "> 2\n",
        "Plaintext [hex] > 245f31665f7930755f6b6e30775f7468\n",
        "ciphertext = '8303728ca1ea817039f6bc894f62012937c82dcd70ac5be9ffb4c82f156c9893'\n",
        "1. Get encrypted flag\n",
        "2. Encrypt\n",
        ">\n",
        "</pre>"
      ]
    },
    {
      "cell_type": "code",
      "metadata": {
        "id": "6_42JDUnHufw"
      },
      "source": [
        "ciphertext = '8303728ca1ea817039f6bc894f62012937c82dcd70ac5be9ffb4c82f156c9893'"
      ],
      "execution_count": 33,
      "outputs": []
    },
    {
      "cell_type": "code",
      "metadata": {
        "colab": {
          "base_uri": "https://localhost:8080/"
        },
        "id": "LVZVeGMQII5H",
        "outputId": "479f1bc3-8c2a-4481-b291-99a6ca86d8c0"
      },
      "source": [
        "strxor(bytes.fromhex(encrypted_flag[32:64]), strxor(bytes.fromhex(ciphertext[:32]), bytes.fromhex(iv)))"
      ],
      "execution_count": 34,
      "outputs": [
        {
          "output_type": "execute_result",
          "data": {
            "text/plain": [
              "b'FLAG{Wh47_h4pp3n'"
            ]
          },
          "metadata": {},
          "execution_count": 34
        }
      ]
    },
    {
      "cell_type": "markdown",
      "metadata": {
        "id": "1U2RSvqtnlUX"
      },
      "source": [
        "#forensic"
      ]
    },
    {
      "cell_type": "markdown",
      "metadata": {
        "id": "kJvbpn0LnoQ7"
      },
      "source": [
        "##partition01"
      ]
    },
    {
      "cell_type": "markdown",
      "metadata": {
        "id": "a3NlBPoaqD2y"
      },
      "source": [
        "Linux環境なのでsleuth kitでやってみる"
      ]
    },
    {
      "cell_type": "code",
      "metadata": {
        "id": "oVSrkanVIM1_"
      },
      "source": [
        "!apt install sleuthkit"
      ],
      "execution_count": null,
      "outputs": []
    },
    {
      "cell_type": "code",
      "metadata": {
        "colab": {
          "base_uri": "https://localhost:8080/"
        },
        "id": "CQ4lx1lvn5Ea",
        "outputId": "2cadba4a-c25b-4338-8eb6-004a5c24f1cf"
      },
      "source": [
        "!tar zxvf /content/drive/MyDrive/wanictf_2021_fall/forensic/partition01/partition.tar.gz -C /content/drive/MyDrive/wanictf_2021_fall/forensic/partition01/"
      ],
      "execution_count": 38,
      "outputs": [
        {
          "output_type": "stream",
          "name": "stdout",
          "text": [
            "partition.img\n"
          ]
        }
      ]
    },
    {
      "cell_type": "markdown",
      "metadata": {
        "id": "5VBFFCYhqN3G"
      },
      "source": [
        "パーティションだろうけど・・・念のため"
      ]
    },
    {
      "cell_type": "code",
      "metadata": {
        "colab": {
          "base_uri": "https://localhost:8080/"
        },
        "id": "T2M4lNANqZGF",
        "outputId": "95e56026-1cd8-4565-de14-2b6d9e64b4d3"
      },
      "source": [
        "!file /content/drive/MyDrive/wanictf_2021_fall/forensic/partition01/partition.img"
      ],
      "execution_count": 8,
      "outputs": [
        {
          "output_type": "stream",
          "name": "stdout",
          "text": [
            "/content/drive/MyDrive/wanictf_2021_fall/forensic/partition01/partition.img: DOS/MBR boot sector; partition 1 : ID=0xee, start-CHS (0x0,0,2), end-CHS (0x3fe,57,58), startsector 1, 3932159 sectors, extended partition table (last)\n"
          ]
        }
      ]
    },
    {
      "cell_type": "markdown",
      "metadata": {
        "id": "Ezoabx04qkie"
      },
      "source": [
        "ディスクイメージのパーティション構造を確認する"
      ]
    },
    {
      "cell_type": "code",
      "metadata": {
        "colab": {
          "base_uri": "https://localhost:8080/"
        },
        "id": "Meq8bXo6o0d-",
        "outputId": "8fb5fada-5173-4a69-e2c0-0d31d924613a"
      },
      "source": [
        "!mmls /content/drive/MyDrive/wanictf_2021_fall/forensic/partition01/partition.img"
      ],
      "execution_count": 39,
      "outputs": [
        {
          "output_type": "stream",
          "name": "stdout",
          "text": [
            "GUID Partition Table (EFI)\n",
            "Offset Sector: 0\n",
            "Units are in 512-byte sectors\n",
            "\n",
            "      Slot      Start        End          Length       Description\n",
            "000:  Meta      0000000000   0000000000   0000000001   Safety Table\n",
            "001:  -------   0000000000   0000002047   0000002048   Unallocated\n",
            "002:  Meta      0000000001   0000000001   0000000001   GPT Header\n",
            "003:  Meta      0000000002   0000000033   0000000032   Partition Table\n",
            "004:  000       0000002048   0000526335   0000524288   Linux filesystem\n",
            "005:  001       0000526336   0001050623   0000524288   Linux filesystem\n",
            "006:  002       0001050624   0001574911   0000524288   Linux filesystem\n",
            "007:  003       0001574912   0002099199   0000524288   Linux filesystem\n",
            "008:  004       0002099200   0002623487   0000524288   Linux filesystem\n",
            "009:  005       0002623488   0003147775   0000524288   Linux filesystem\n",
            "010:  006       0003147776   0003672063   0000524288   Linux filesystem\n",
            "011:  007       0003672064   0003932126   0000260063   Linux filesystem\n",
            "012:  -------   0003932127   0003932159   0000000033   Unallocated\n"
          ]
        }
      ]
    },
    {
      "cell_type": "markdown",
      "metadata": {
        "id": "5TiObwHFq1UK"
      },
      "source": [
        "順番にパーティション内のファイルリストを確認する"
      ]
    },
    {
      "cell_type": "code",
      "metadata": {
        "colab": {
          "base_uri": "https://localhost:8080/"
        },
        "id": "cQ_zNLJrp5TN",
        "outputId": "d9be01d6-d895-4ba7-e6f2-b7f79562bd9d"
      },
      "source": [
        "!fls -o 0001050624 /content/drive/MyDrive/wanictf_2021_fall/forensic/partition01/partition.img"
      ],
      "execution_count": 40,
      "outputs": [
        {
          "output_type": "stream",
          "name": "stdout",
          "text": [
            "d/d 11:\tlost+found\n",
            "r/r 12:\tflag.txt\n",
            "d/d 65537:\t$OrphanFiles\n"
          ]
        }
      ]
    },
    {
      "cell_type": "markdown",
      "metadata": {
        "id": "28lNPYkprIWV"
      },
      "source": [
        "３つ目のパーティションにflag.txtという怪しいファイルがあったので確認する"
      ]
    },
    {
      "cell_type": "code",
      "metadata": {
        "colab": {
          "base_uri": "https://localhost:8080/"
        },
        "id": "nUxomeNPqDIX",
        "outputId": "25bf34b0-0127-4c1e-e2e3-84c4c856f59c"
      },
      "source": [
        "!icat -o 0001050624 /content/drive/MyDrive/wanictf_2021_fall/forensic/partition01/partition.img 12"
      ],
      "execution_count": 41,
      "outputs": [
        {
          "output_type": "stream",
          "name": "stdout",
          "text": [
            "The \"partition01\" FLAG is the name of the 3rd partition!\n",
            "\n",
            "FLAG{FLAG{FLAG{FLAG{FLAG{FLAG{FLAG{FLAG{FLAG{FLAG{FLAG{FLAG{FLAG{}}}}FLAG{FLAG{FLAG{FLAG{}FLAG{FLAG{FLAG{FLAG{}}}}}FLAG{FLAG{FLAG{FLAG{}}}}FLAG{FLAG{FLAG{FAKFLAG{FLAG{FLAG{FLAG{}}}}E{}}}}FLAG{FLAG{FLAG{FLAG{}}}}}}}FLAG{FLAG{FLAG{FLAG{}}}}}FLAG{FLAG{FLAG{FLAG{}}}FLAG{FLAG{FLAG{FLAG{}}FLAG{FLAG{FLAG{FLAG{}}}}}}FLAG{FLAG{FLAG{FLAG{}}}}FLAG{FLAG{FLAG{FLAG{}}}}FLAG{FLAG{FLAG{FLAG{}}}}FLAG{FLAG{FLAG{FLAG{}}}}FLAG{FLAG{FLAG{FLAG{}}}}FLAG{FLAG{FLAG{FLAG{}}}}FLAG{FLAG{FLAG{FLAG{}}}}FLAG{FLAG{FLAG{FLAG{}}}}FLAG{FLAG{FLAG{FLAG{}}}}FLAG{FLAG{FLAG{FLAG{}}}}FLAG{FLAG{FLAG{FLAG{}}}}FLAG{FLAG{FLAG{FLAG{}}}}FLAG{FLAG{FLAG{FLAG{}}}}}FLAG{FLAG{FLAG{FLAG{}}}}FLAG{FLAG{FLAG{FLAG{}}}}FLAG{FLAG{FLAG{FLAG{}}}}FLAG{FLAG{FLAG{FLAG{}}}}FLAG{FLAG{FLAG{FLAG{}}}}FLAG{FLAG{FLAG{FLAG{}}}}FLAG{FLAG{FLAG{FLAG{}}}}FLAG{FLAG{FLAG{FLAG{}}}}FLAG{FLAG{FLAG{FLAG{}}}}FLAG{FLAG{FLAG{FLAG{}}}}FLAG{FLAG{FLAG{FLAG{}}FLAG{FLAG{FLAG{FLAG{}}}}FLAG{FLAG{FLAG{FLAG{}}}}FLAG{FLAG{FLAG{FLAG{}}}}FLAG{FLAG{FLAG{FLAG{}}}}FLAG{FLAG{FLAG{FLAG{}}}}FLAG{FLAG{FLAG{FLAG{}}}}FLAG{FLAG{FLAG{FLAG{}}}}FLAG{FLAG{FLAG{FLAG{}}}}FLAG{FLAG{FLAG{FLAG{}}}}FLAG{FLAG{FLAG{FLAG{}}}}FLAG{FLAG{FLAG{FLAG{}}}}FLAG{FLAG{FLAG{FLAG{}}}}FLAG{FLAG{FLAG{FLAG{}}}}FLAG{FLAG{FLAG{FLAG{}}}}FLAG{FLAG{FLAG{FLAG{}}}}FLAG{FLAG{FLAG{FLAG{}}}}FLAG{FLAG{FLAG{FLAG{}}}}FLAG{FLAG{FLAG{FLAG{}}}}FLAG{FLAG{FLAG{FLAG{}}}}FLAG{FLAG{FLAG{FLAG{}}}}FLAG{FLAG{FLAG{FLAG{}}}}FLAG{FLAG{FLAG{FLAG{}}}}FLAG{FLAG{FLAG{FLAG{}}}}FLAG{FLAG{FLAG{FLAG{}}}}FLAG{FLAG{FLAG{FLAG{}}}}FLAG{FLAG{FLAG{FLAG{}}}}FLAG{FLAG{FLAG{FLAG{}}}}FLAG{FLAG{FLAG{FLAG{}}}}FLAG{FLAG{FLAG{FLAG{}}}}FLAG{FLAG{FLAG{FLAG{}}}}FLAG{FLAG{FLAG{FLAG{}}}}FLAG{FLAG{FLAG{FLAG{}}}}FLAG{FLAG{FLAG{FLAG{}}}}FLAG{FLAG{FLAG{FLAG{}}}}FLAG{FLAG{FLAG{FLAG{}}}}FLAG{FLAG{FLAG{FLAG{}}}}FLAG{FLAG{FLAG{FLAG{}}}}FLAG{FLAG{FLAG{FLAG{}}}}FLAG{FLAG{FLAG{FLAG{}}}}FLAG{FLAG{FLAG{FLAG{}}}}FLAG{FLAG{FLAG{FLAG{}}}}FLAG{FLAG{FLAG{FLAG{}}}}FLAG{FLAG{FLAG{FLAG{}}}}FLAG{FLAG{FLAG{FLAG{}}}}FLAG{FLAG{FLAG{FLAG{}}}}FLAG{FLAG{FLAG{FLAG{}}}}FLAG{FLAG{FLAG{FLAG{}}}}FLAG{FLAG{FLAG{FLAG{}}}}FLAG{FLAG{FLAG{FLAG{}}}}FLAG{FLAG{FLAG{FLAG{}}}}FLAG{FLAG{FLAG{FLAG{}}}}FLAG{FLAG{FLAG{FLAG{}}}}FLAG{FLAG{FLAG{FLAG{}}}}FLAG{FLAG{FLAG{FLAG{}}}}FLAG{FLAG{FLAG{FLAG{}}}}FLAG{FLAG{FLAG{FLAG{}}}}FLAG{FLAG{FLAG{FLAG{}}}}FLAG{FLAG{FLAG{FLAG{}}}}FLAG{FLAG{FLAG{FLAG{}}}}FLAG{FLAG{FLAG{FLAG{}}}}FLAG{FLAG{FLAG{FLAG{}}}}FLAG{FLAG{FLAG{FLAG{}}}}FLAG{FLAG{FLAG{FLAG{}}}}FLAG{FLAG{FLAG{FLAG{}}}}FLAG{FLAG{FLAG{FLAG{}}}}FLAG{FLAG{FLAG{FLAG{}}}}FLAG{FLAG{FLAG{FLAG{}}}}FLAG{FLAG{FLAG{FLAG{}}}}FLAG{FLAG{FLAG{FLAG{}}}}FLAG{FLAG{FLAG{FLAG{}}}}FLAG{FLAG{FLAG{FLAG{}}}}FLAG{FLAG{FLAG{FLAG{}}}}FLAG{FLAG{FLAG{FLAG{}}}}FLAG{FLAG{FLAG{FLAG{}}}}FLAG{FLAG{FLAG{FLAG{}}}}FLAG{FLAG{FLAG{FLAG{}}}}FLAG{FLAG{FLAG{FLAG{}}}}FLAG{FLAG{FLAG{FLAG{}}}}FLAG{FLAG{FLAG{FLAG{}}}}FLAG{FLAG{FLAG{FLAG{}}}}FLAG{FLAG{FLAG{FLAG{}}}}FLAG{FLAG{FLAG{FLAG{}}}}FLAG{FLAG{FLAG{FLAG{}}}}FLAG{FLAG{FLAG{FLAG{}}}}FLAG{FLAG{FLAG{FLAG{}}}}FLAG{FLAG{FLAG{FLAG{}}}}FLAG{FLAG{FLAG{FLAG{}}}}FLAG{FLAG{FLAG{FLAG{}}}}FLAG{FLAG{FLAG{FLAG{}}}}FLAG{FLAG{FLAG{FLAG{}}}}FLAG{FLAG{FLAG{FLAG{}}}}FLAG{FLAG{FLAG{FLAG{}}}}FLAG{FLAG{FLAG{FLAG{}}}}FLAG{FLAG{FLAG{FLAG{}}}}FLAG{FLAG{FLAG{FLAG{}}}}FLAG{FLAG{FLAG{FLAG{}}}}FLAG{FLAG{FLAG{FLAG{}}}}FLAG{FLAG{FLAG{FLAG{}}}}FLAG{FLAG{FLAG{FLAG{}}}}FLAG{FLAG{FLAG{FLAG{}}}}FLAG{FLAG{FLAG{FLAG{}}}}FLAG{FLAG{FLAG{FLAG{}}}}FLAG{FLAG{FLAG{FLAG{}}}}FLAG{FLAG{FLAG{FLAG{}}}}FLAG{FLAG{FLAG{FLAG{}}}}FLAG{FLAG{FLAG{FLAG{}}}}FLAG{FLAG{FLAG{FLAG{}}}}FLAG{FLAG{FLAG{FLAG{}}}}FLAG{FLAG{FLAG{FLAG{}}}}FLAG{FLAG{FLAG{FLAG{}}}}FLAG{FLAG{FLAG{FLAG{}}}}FLAG{FLAG{FLAG{FLAG{}}}}FLAG{FLAG{FLAG{FLAG{}}}}FLAG{FLAG{FLAG{FLAG{}}}}FLAG{FLAG{FLAG{FLAG{}}}}FLAG{FLAG{FLAG{FLAG{}}}}FLAG{FLAG{FLAG{FLAG{}}}}FLAG{FLAG{FLAG{FLAG{}}}}FLAG{FLAG{FLAG{FLAG{}}}}FLAG{FLAG{FLAG{FLAG{}}}}FLAG{FLAG{FLAG{FLAG{}}}}FLAG{FLAG{FLAG{FLAG{}}}}FLAG{FLAG{FLAG{FLAG{}}}}FLAG{FLAG{FLAG{FLAG{}}}}FLAG{FLAG{FLAG{FLAG{}}}}FLAG{FLAG{FLAG{FLAG{}}}}FLAG{FLAG{FLAG{FLAG{}}}}FLAG{FLAG{FLAG{FLAG{}}}}FLAG{FLAG{FLAG{FLAG{}}}}FLAG{FLAG{FLAG{FLAG{}}}}FLAG{FLAG{FLAG{FLAG{}}}}FLAG{FLAG{FLAG{FLAG{}}}}FLAG{FLAG{FLAG{FLAG{}}}}FLAG{FLAG{FLAG{FLAG{}}}}FLAG{FLAG{FLAG{FLAG{}}}}FLAG{FLAG{FLAG{FLAG{}}}}FLAG{FLAG{FLAG{FLAG{}}}}FLAG{FLAG{FLAG{FLAG{}}}}FLAG{FLAG{FLAG{FLAG{}}}}FLAG{FLAG{FLAG{FLAG{}}}}FLAG{FLAG{FLAG{FLAG{}}}}FLAG{FLAG{FLAG{FLAG{}}}}FLAG{FLAG{FLAG{FLAG{}}}}FLAG{FLAG{FLAG{FLAG{}}}}FLAG{FLAG{FLAG{FLAG{}}}}FLAG{FLAG{FLAG{FLAG{}}}}FLAG{FLAG{FLAG{FLAG{}}}}FLAG{FLAG{FLAG{FLAG{}}}}FLAG{FLAG{FLAG{FLAG{}}}}FLAG{FLAG{FLAG{FLAG{}}}}FLAG{FLAG{FLAG{FLAG{}}}}FLAG{FLAG{FLAG{FLAG{}}}}FLAG{FLAG{FLAG{FLAG{}}}}FLAG{FLAG{FLAG{FLAG{}}}}FLAG{FLAG{FLAG{FLAG{}}}}FLAG{FLAG{FLAG{FLAG{}}}}FLAG{FLAG{FLAG{FLAG{}}}}FLAG{FLAG{FLAG{FLAG{}}}}FLAG{FLAG{FLAG{FLAG{}}}}FLAG{FLAG{FLAG{FLAG{}}}}FLAG{FLAG{FLAG{FLAG{}}}}FLAG{FLAG{FLAG{FLAG{}}}}FLAG{FLAG{FLAG{FLAG{}}}}FLAG{FLAG{FLAG{FLAG{}}}}FLAG{FLAG{FLAG{FLAG{}}}}FLAG{FLAG{FLAG{FLAG{}}}}FLAG{FLAG{FLAG{FLAG{}}}}FLAG{FLAG{FLAG{FLAG{}}}}FLAG{FLAG{FLAG{FLAG{}}}}FLAG{FLAG{FLAG{FLAG{}}}}FLAG{FLAG{FLAG{FLAG{}}}}FLAG{FLAG{FLAG{FLAG{}}}}FLAG{FLAG{FLAG{FLAG{}}}}FLAG{FLAG{FLAG{FLAG{}}}}FLAG{FLAG{FLAG{FLAG{}}}}FLAG{FLAG{FLAG{FLAG{}}}}FLAG{FLAG{FLAG{FLAG{}}}}FLAG{FLAG{FLAG{FLAG{}}}}FLAG{FLAG{FLAG{FLAG{}}}}FLAG{FLAG{FLAG{FLAG{}}}}FLAG{FLAG{FLAG{FLAG{}}}}FLAG{FLAG{FLAG{FLAG{}}}}FLAG{FLAG{FLAG{FLAG{}}}}FLAG{FLAG{FLAG{FLAG{}}}}FLAG{FLAG{FLAG{FLAG{}}}}FLAG{FLAG{FLAG{FLAG{}}}}FLAG{FLAG{FLAG{FLAG{}}}}FLAG{FLAG{FLAG{FLAG{}}}}FLAG{FLAG{FLAG{FLAG{}}}}FLAG{FLAG{FLAG{FLAG{}}}}FLAG{FLAG{FLAG{FLAG{}}}}FLAG{FLAG{FLAG{FLAG{}}}}FLAG{FLAG{FLAG{FLAG{}}}}FLAG{FLAG{FLAG{FLAG{}}}}FLAG{FLAG{FLAG{FLAG{}}}}FLAG{FLAG{FLAG{FLAG{}}}}FLAG{FLAG{FLAG{FLAG{}}}}FLAG{FLAG{FLAG{FLAG{}}}}FLAG{FLAG{FLAG{FLAG{}}}}FLAG{FLAG{FLAG{FLAG{}}}}FLAG{FLAG{FLAG{FLAG{}}}}FLAG{FLAG{FLAG{FLAG{}}}}FLAG{FLAG{FLAG{FLAG{}}}}FLAG{FLAG{FLAG{FLAG{}}}}FLAG{FLAG{FLAG{FLAG{}}}}FLAG{FLAG{FLAG{FLAG{}}}}FLAG{FLAG{FLAG{FLAG{}}}}FLAG{FLAG{FLAG{FLAG{}}}}FLAG{FLAG{FLAG{FLAG{}}}}FLAG{FLAG{FLAG{FLAG{}}}}FLAG{FLAG{FLAG{FLAG{}}}}FLAG{FLAG{FLAG{FLAG{}}}}FLAG{FLAG{FLAG{FLAG{}}}}FLAG{FLAG{FLAG{FLAG{}}}}FLAG{FLAG{FLAG{FLAG{}}}}FLAG{FLAG{FLAG{FLAG{}}}}FLAG{FLAG{FLAG{FLAG{}}}}FLAG{FLAG{FLAG{FLAG{}}}}FLAG{FLAG{FLAG{FLAG{}}}}FLAG{FLAG{FLAG{FLAG{}}}}FLAG{FLAG{FLAG{FLAG{}}}}FLAG{FLAG{FLAG{FLAG{}}}}FLAG{FLAG{FLAG{FLAG{}}}}FLAG{FLAG{FLAG{FLAG{}}}}FLAG{FLAG{FLAG{FLAG{}}}}FLAG{FLAG{FLAG{FLAG{}}}}FLAG{FLAG{FLAG{FLAG{}}}}FLAG{FLAG{FLAG{FLAG{}}}}FLAG{FLAG{FLAG{FLAG{}}}}FLAG{FLAG{FLAG{FLAG{}}}}FLAG{FLAG{FLAG{FLAG{}}}}FLAG{FLAG{FLAG{FLAG{}}}}FLAG{FLAG{FLAG{FLAG{}}}}FLAG{FLAG{FLAG{FLAG{}}}}FLAG{FLAG{FLAG{FLAG{}}}}FLAG{FLAG{FLAG{FLAG{}}}}FLAG{FLAG{FLAG{FLAG{}}}}FLAG{FLAG{FLAG{FLAG{}}}}FLAG{FLAG{FLAG{FLAG{}}}}FLAG{FLAG{FLAG{FLAG{}}}}FLAG{FLAG{FLAG{FLAG{}}}}FLAG{FLAG{FLAG{FLAG{}}}}FLAG{FLAG{FLAG{FLAG{}}}}FLAG{FLAG{FLAG{FLAG{}}}}FLAG{FLAG{FLAG{FLAG{}}}}FLAG{FLAG{FLAG{FLAG{}}}}FLAG{FLAG{FLAG{FLAG{}}}}FLAG{FLAG{FLAG{FLAG{}}}}FLAG{FLAG{FLAG{FLAG{}}}}FLAG{FLAG{FLAG{FLAG{}}}}FLAG{FLAG{FLAG{FLAG{}}}}FLAG{FLAG{FLAG{FLAG{}}}}FLAG{FLAG{FLAG{FLAG{}}}}FLAG{FLAG{FLAG{FLAG{}}}}v}}FLAG{FLAG{FLAG{FLAG{}}}}}FLAG{FLAG{FLAG{FLAG{}}}}}}}}}FLAG{FLAG{FLAG{FLAG{FLAG{FLAG{FLAG{FLAG{}FLAG{FLAG{FLAG{FLAG{}}}}FLAG{FLAG{FLAG{FLAG{}}}}FLAG{FLAG{FLAG{FLAG{}}}}FLAG{FLAG{FLAG{FLAG{}}}}}FLAG{FLAG{FLAG{FLAG{}}}}FLAG{FLAG{FLAG{FLAG{}}}}}}}FLAG{FLAG{FLAG{FLAG{}}}FLAG{FLAG{FLAG{FLAG{}}}}FLAG{FLAG{FLAG{FLAG{}}}}FLAG{FLAG{FLAG{FLAG{}}}}FLAG{FLAG{FLAG{FLAG{}}}}FLAG{FLAG{FLAG{FLAG{}}}}FLAG{FLAG{FLAG{FLAG{}}}}FLAG{FLAG{FLAG{FLAG{}}}}}}}}FLAG{FLAG{FLAG{FLAG{}}}}}"
          ]
        }
      ]
    },
    {
      "cell_type": "markdown",
      "metadata": {
        "id": "PlpXiv3jrTMb"
      },
      "source": [
        "３つ目のパーティションの名前が”partition01”のFLAGだと書いてあるので、確認する"
      ]
    },
    {
      "cell_type": "code",
      "metadata": {
        "colab": {
          "base_uri": "https://localhost:8080/"
        },
        "id": "VUxYKyRSqJiD",
        "outputId": "6b3ec273-0599-4e5b-94f8-07f60fbf2dee"
      },
      "source": [
        "!fsstat -o 0001050624 /content/drive/MyDrive/wanictf_2021_fall/forensic/partition01/partition.img "
      ],
      "execution_count": 42,
      "outputs": [
        {
          "output_type": "stream",
          "name": "stdout",
          "text": [
            "FILE SYSTEM INFORMATION\n",
            "--------------------------------------------\n",
            "File System Type: Ext4\n",
            "Volume Name: FLAG{GPT03}\n",
            "Volume ID: 409e326462f68eaf944ae5a676bcebb1\n",
            "\n",
            "Last Written at: 2021-10-28 07:11:56 (UTC)\n",
            "Last Checked at: 2021-10-28 07:11:18 (UTC)\n",
            "\n",
            "Last Mounted at: 2021-10-28 07:11:43 (UTC)\n",
            "Unmounted properly\n",
            "Last mounted on: /media/ishioka/FLAG{GPT03}\n",
            "\n",
            "Source OS: Linux\n",
            "Dynamic Structure\n",
            "Compat Features: Journal, Ext Attributes, Resize Inode, Dir Index\n",
            "InCompat Features: Filetype, Extents, 64bit, Flexible Block Groups, \n",
            "Read Only Compat Features: Sparse Super, Large File, Huge File, Extra Inode Size\n",
            "\n",
            "Journal ID: 00\n",
            "Journal Inode: 8\n",
            "\n",
            "METADATA INFORMATION\n",
            "--------------------------------------------\n",
            "Inode Range: 1 - 65537\n",
            "Root Directory: 2\n",
            "Free Inodes: 65524\n",
            "Inode Size: 128\n",
            "\n",
            "CONTENT INFORMATION\n",
            "--------------------------------------------\n",
            "Block Groups Per Flex Group: 16\n",
            "Block Range: 0 - 65535\n",
            "Block Size: 4096\n",
            "Free Blocks: 59314\n",
            "\n",
            "BLOCK GROUP INFORMATION\n",
            "--------------------------------------------\n",
            "Number of Block Groups: 2\n",
            "Inodes per group: 32768\n",
            "Blocks per group: 32768\n",
            "\n",
            "Group: 0:\n",
            "  Block Group Flags: [INODE_ZEROED, \b\b]\n",
            "  Inode Range: 1 - 32768\n",
            "  Block Range: 0 - 32767\n",
            "  Layout:\n",
            "    Super Block: 0 - 0\n",
            "    Group Descriptor Table: 1 - 1\n",
            "    Group Descriptor Growth Blocks: 2 - 32\n",
            "    Data bitmap: 33 - 33\n",
            "    Inode bitmap: 35 - 35\n",
            "    Inode Table: 37 - 1060\n",
            "    Uninit Data Bitmaps: 35 - 48\n",
            "    Uninit Inode Bitmaps: 37 - 50\n",
            "    Uninit Inode Table: 2085 - 16420\n",
            "    Data Blocks: 16449 - 32767\n",
            "  Free Inodes: 32756 (99%)\n",
            "  Free Blocks: 30675 (93%)\n",
            "  Total Directories: 2\n",
            "  Stored Checksum: 0xB659\n",
            "\n",
            "Group: 1:\n",
            "  Block Group Flags: [INODE_UNINIT, INODE_ZEROED, \b\b]\n",
            "  Inode Range: 32769 - 65536\n",
            "  Block Range: 32768 - 65535\n",
            "  Layout:\n",
            "    Super Block: 32768 - 32768\n",
            "    Group Descriptor Table: 32769 - 32769\n",
            "    Group Descriptor Growth Blocks: 32770 - 32800\n",
            "    Data bitmap: 34 - 34\n",
            "    Inode bitmap: 36 - 36\n",
            "    Inode Table: 1061 - 2084\n",
            "    Data Blocks: 32801 - 65535\n",
            "  Free Inodes: 32768 (100%)\n",
            "  Free Blocks: 28639 (87%)\n",
            "  Total Directories: 0\n",
            "  Stored Checksum: 0xA5CF\n"
          ]
        }
      ]
    },
    {
      "cell_type": "markdown",
      "metadata": {
        "id": "dOKKyJsfn3-g"
      },
      "source": [
        "##partition02"
      ]
    },
    {
      "cell_type": "markdown",
      "metadata": {
        "id": "h_vvbv0xrl9O"
      },
      "source": [
        "パーティションの構造を再度確認する"
      ]
    },
    {
      "cell_type": "code",
      "metadata": {
        "colab": {
          "base_uri": "https://localhost:8080/"
        },
        "id": "LF6DFClloGWD",
        "outputId": "8d0fb3ce-badd-46cb-a495-3aa60453ad28"
      },
      "source": [
        "!mmls /content/drive/MyDrive/wanictf_2021_fall/forensic/partition01/partition.img"
      ],
      "execution_count": 3,
      "outputs": [
        {
          "output_type": "stream",
          "name": "stdout",
          "text": [
            "GUID Partition Table (EFI)\n",
            "Offset Sector: 0\n",
            "Units are in 512-byte sectors\n",
            "\n",
            "      Slot      Start        End          Length       Description\n",
            "000:  Meta      0000000000   0000000000   0000000001   Safety Table\n",
            "001:  -------   0000000000   0000002047   0000002048   Unallocated\n",
            "002:  Meta      0000000001   0000000001   0000000001   GPT Header\n",
            "003:  Meta      0000000002   0000000033   0000000032   Partition Table\n",
            "004:  000       0000002048   0000526335   0000524288   Linux filesystem\n",
            "005:  001       0000526336   0001050623   0000524288   Linux filesystem\n",
            "006:  002       0001050624   0001574911   0000524288   Linux filesystem\n",
            "007:  003       0001574912   0002099199   0000524288   Linux filesystem\n",
            "008:  004       0002099200   0002623487   0000524288   Linux filesystem\n",
            "009:  005       0002623488   0003147775   0000524288   Linux filesystem\n",
            "010:  006       0003147776   0003672063   0000524288   Linux filesystem\n",
            "011:  007       0003672064   0003932126   0000260063   Linux filesystem\n",
            "012:  -------   0003932127   0003932159   0000000033   Unallocated\n"
          ]
        }
      ]
    },
    {
      "cell_type": "markdown",
      "metadata": {
        "id": "et5eqSKArqaW"
      },
      "source": [
        "順にファイルリストを見ていく"
      ]
    },
    {
      "cell_type": "code",
      "metadata": {
        "colab": {
          "base_uri": "https://localhost:8080/"
        },
        "id": "4AWh8C4_oT3r",
        "outputId": "4c13079d-d7a8-4acb-fd50-986af8b6ffc4"
      },
      "source": [
        "!fls /content/drive/MyDrive/wanictf_2021_fall/forensic/partition01/partition.img -o 0002099200"
      ],
      "execution_count": 5,
      "outputs": [
        {
          "output_type": "stream",
          "name": "stdout",
          "text": [
            "d/d 11:\tlost+found\n",
            "r/r 12:\tflag01.txt\n",
            "r/r 13:\tflag01.png\n",
            "d/d 65537:\t$OrphanFiles\n"
          ]
        }
      ]
    },
    {
      "cell_type": "code",
      "metadata": {
        "colab": {
          "base_uri": "https://localhost:8080/"
        },
        "id": "6jhxLC80ok4h",
        "outputId": "7e040e55-0084-4b07-b767-5c7447106003"
      },
      "source": [
        "!fls /content/drive/MyDrive/wanictf_2021_fall/forensic/partition01/partition.img -o 0003147776"
      ],
      "execution_count": 6,
      "outputs": [
        {
          "output_type": "stream",
          "name": "stdout",
          "text": [
            "d/d 11:\tlost+found\n",
            "r/r 12:\tflag02.txt\n",
            "r/r 13:\tflag02.png\n",
            "d/d 65537:\t$OrphanFiles\n"
          ]
        }
      ]
    },
    {
      "cell_type": "markdown",
      "metadata": {
        "id": "HVw2rQDJrvxc"
      },
      "source": [
        "flag01.pngとflag02.pngを発見\n",
        "\n",
        "結合して表示する"
      ]
    },
    {
      "cell_type": "code",
      "metadata": {
        "colab": {
          "base_uri": "https://localhost:8080/",
          "height": 303
        },
        "id": "4Kyi7jLjotGB",
        "outputId": "7dde21ed-b4b0-4923-ebe5-a85f2d9a2f1c"
      },
      "source": [
        "!icat /content/drive/MyDrive/wanictf_2021_fall/forensic/partition01/partition.img 13 -o 0002099200 > hoge.png\n",
        "!icat /content/drive/MyDrive/wanictf_2021_fall/forensic/partition01/partition.img 13 -o 0003147776 >> hoge.png\n",
        "\n",
        "from IPython.display import Image,display_png\n",
        "display_png(Image('hoge.png'))\n"
      ],
      "execution_count": 7,
      "outputs": [
        {
          "output_type": "display_data",
          "data": {
            "image/png": "[encoded data removed]"
          },
          "metadata": {}
        }
      ]
    },
    {
      "cell_type": "markdown",
      "metadata": {
        "id": "tthTie_92BGI"
      },
      "source": [
        "#misc"
      ]
    },
    {
      "cell_type": "markdown",
      "metadata": {
        "id": "I3ixY3v42D1C"
      },
      "source": [
        "##binary"
      ]
    },
    {
      "cell_type": "markdown",
      "metadata": {
        "id": "Jp3lSFLpOqv6"
      },
      "source": [
        "binary.csvのデータ部分をlistに取り出して"
      ]
    },
    {
      "cell_type": "code",
      "metadata": {
        "id": "X836Jq4sqY4d"
      },
      "source": [
        "with open(\"/content/drive/MyDrive/wanictf_2021_fall/misc/binary/mis-binary/binary.csv\", \"r\") as f:\n",
        "  f.readline()\n",
        "  bits = [x[-2] for x in f]\n"
      ],
      "execution_count": 44,
      "outputs": []
    },
    {
      "cell_type": "markdown",
      "metadata": {
        "id": "CkcZMMZdOkUL"
      },
      "source": [
        "復号の処理はsample.pyをそのまま流用"
      ]
    },
    {
      "cell_type": "code",
      "metadata": {
        "colab": {
          "base_uri": "https://localhost:8080/"
        },
        "id": "iuGY0hnR2oya",
        "outputId": "f3f45869-850a-40f6-b05a-7f725d12eaf0"
      },
      "source": [
        "s = \"\"\n",
        "c = 0\n",
        "for i in range(len(bits)):\n",
        "    val = int(bits[i])\n",
        "    c = (c << 1) | val\n",
        "    if i % 8 == 7:\n",
        "        s = s + chr(c)\n",
        "        c = 0\n",
        "\n",
        "print(s)\n"
      ],
      "execution_count": 45,
      "outputs": [
        {
          "output_type": "stream",
          "name": "stdout",
          "text": [
            "FLAG{binary-is-essential-for-communication}\n",
            "\n"
          ]
        }
      ]
    },
    {
      "cell_type": "markdown",
      "metadata": {
        "id": "LCpMZZewr2AR"
      },
      "source": [
        "##docker_dive"
      ]
    },
    {
      "cell_type": "code",
      "metadata": {
        "id": "S1ctTuoysZMI"
      },
      "source": [
        "!apt install file"
      ],
      "execution_count": null,
      "outputs": []
    },
    {
      "cell_type": "code",
      "metadata": {
        "colab": {
          "base_uri": "https://localhost:8080/"
        },
        "id": "rau2RMtyr4jQ",
        "outputId": "84c9085b-f719-46f5-bcef-bb0b0074c0cf"
      },
      "source": [
        "!file /content/drive/MyDrive/wanictf_2021_fall/misc/docker_dive/mis-docker/solver"
      ],
      "execution_count": 3,
      "outputs": [
        {
          "output_type": "stream",
          "name": "stdout",
          "text": [
            "/content/drive/MyDrive/wanictf_2021_fall/misc/docker_dive/mis-docker/solver: ELF 64-bit LSB shared object, x86-64, version 1 (SYSV), dynamically linked, interpreter /lib64/ld-linux-x86-64.so.2, BuildID[sha1]=bcc91d289bc2ab32a131ab077081264f89f741b7, for GNU/Linux 3.2.0, stripped\n"
          ]
        }
      ]
    },
    {
      "cell_type": "code",
      "metadata": {
        "colab": {
          "base_uri": "https://localhost:8080/"
        },
        "id": "Y-Z4Ba3ZskRU",
        "outputId": "bba9ea3e-3601-4f61-bcab-13eccb714575"
      },
      "source": [
        "!cat /content/drive/MyDrive/wanictf_2021_fall/misc/docker_dive/mis-docker/Dockerfile"
      ],
      "execution_count": 4,
      "outputs": [
        {
          "output_type": "stream",
          "name": "stdout",
          "text": [
            "FROM alpine:3.14\n",
            "WORKDIR /home/misc\n",
            "ADD ./solver /home/misc/solver\n",
            "RUN chmod 550 /home/misc/solver\n",
            "RUN apk add libc6-compat\n",
            "RUN ls /home/misc -lh\n"
          ]
        }
      ]
    },
    {
      "cell_type": "markdown",
      "metadata": {
        "id": "j8phfLFHt2sA"
      },
      "source": [
        "以下、ローカルでdockerコマンドを入力\n",
        "\n",
        "<pre>\n",
        "$ docker build\n",
        "\"docker build\" requires exactly 1 argument.\n",
        "See 'docker build --help'.\n",
        "\n",
        "Usage:  docker build [OPTIONS] PATH | URL | -\n",
        "\n",
        "Build an image from a Dockerfile\n",
        "(base) teruakinoMacBook-Air:mis-docker teruaki$ docker build .\n",
        "[+] Building 10.5s (11/11) FINISHED\n",
        " => [internal] load build definition from Dockerfile                                            0.1s\n",
        " => => transferring dockerfile: 37B                                                             0.0s\n",
        " => [internal] load .dockerignore                                                               0.0s\n",
        " => => transferring context: 2B                                                                 0.0s\n",
        " => [internal] load metadata for docker.io/library/alpine:3.14                                  3.8s\n",
        " => [internal] load build context                                                               0.1s\n",
        " => => transferring context: 28B                                                                0.0s\n",
        " => [1/6] FROM docker.io/library/alpine:3.14@sha256:635f0aa53d99017b38d1a0aa5b2082f7812b03e3cd  2.5s\n",
        " => => resolve docker.io/library/alpine:3.14@sha256:635f0aa53d99017b38d1a0aa5b2082f7812b03e3cd  0.0s\n",
        " => => sha256:635f0aa53d99017b38d1a0aa5b2082f7812b03e3cdb299103fe77b5c8a07f1d2 1.64kB / 1.64kB  0.0s\n",
        " => => sha256:5e604d3358ab7b6b734402ce2e19ddd822a354dc14843f34d36c603521dbb4f9 528B / 528B      0.0s\n",
        " => => sha256:0a97eee8041e2b6c0e65abb2700b0705d0da5525ca69060b9e0bde8a3d17afdb 1.47kB / 1.47kB  0.0s\n",
        " => => sha256:97518928ae5f3d52d4164b314a7e73654eb686ecd8aafa0b79acd980773a740d 2.82MB / 2.82MB  1.7s\n",
        " => => extracting sha256:97518928ae5f3d52d4164b314a7e73654eb686ecd8aafa0b79acd980773a740d       0.6s\n",
        " => [2/6] WORKDIR /home/misc                                                                    0.1s\n",
        " => [3/6] ADD ./solver /home/misc/solver                                                        0.1s\n",
        " => [4/6] RUN chmod 550 /home/misc/solver                                                       0.6s\n",
        " => [5/6] RUN apk add libc6-compat                                                              1.8s\n",
        " => [6/6] RUN ls /home/misc -lh                                                                 0.5s\n",
        " => exporting to image                                                                          0.2s\n",
        " => => exporting layers                                                                         0.2s\n",
        " => => writing image sha256:59e659ba7adcfb6b58363a888b6cbab5290b1eb75421ab5b5febc942dde389cf    0.0s\n",
        "\n",
        "Use 'docker scan' to run Snyk tests against images to find vulnerabilities and learn how to fix them\n",
        "</pre>"
      ]
    },
    {
      "cell_type": "markdown",
      "metadata": {
        "id": "r8cOxj1zuQKi"
      },
      "source": [
        "<pre>\n",
        "$ docker images\n",
        "REPOSITORY              TAG       IMAGE ID       CREATED          SIZE\n",
        "<none>                  <none>    59e659ba7adc   44 seconds ago   7.81MB\n",
        "\n",
        "$ docker run -it 59e659ba7adc\n",
        "/home/misc # ls\n",
        "solver\n",
        "/home/misc # ./solver\n",
        "musl libc (x86_64)\n",
        "Version 1.2.2\n",
        "Dynamic Program Loader\n",
        "Usage: /lib/ld-musl-x86_64.so.1 [options] [--] pathname\n",
        "FLAG{y0u_Kn0W_H0w_to_Get_1nto_7he_DockeR}/home/misc #\n",
        "</pre>"
      ]
    },
    {
      "cell_type": "markdown",
      "metadata": {
        "id": "s_6OezDbMF8R"
      },
      "source": [
        "##digital ASK"
      ]
    },
    {
      "cell_type": "code",
      "metadata": {
        "colab": {
          "base_uri": "https://localhost:8080/"
        },
        "id": "3kx1kSVI2x0h",
        "outputId": "fb98f35c-b42e-40d5-a5d9-e6b4b3da0c05"
      },
      "source": [
        "with open('/content/drive/MyDrive/wanictf_2021_fall/misc/digital_ASK/mis-ask/digital_ask.csv', 'r') as f:\n",
        "  f.readline()\n",
        "  raw_bits = [x[-2] for x in f]\n",
        "\n",
        "len(raw_bits)"
      ],
      "execution_count": 47,
      "outputs": [
        {
          "output_type": "execute_result",
          "data": {
            "text/plain": [
              "95040"
            ]
          },
          "metadata": {},
          "execution_count": 47
        }
      ]
    },
    {
      "cell_type": "markdown",
      "metadata": {
        "id": "lLzWYvEVPOVf"
      },
      "source": [
        "矩形波の単位（時間）を調べる"
      ]
    },
    {
      "cell_type": "code",
      "metadata": {
        "colab": {
          "base_uri": "https://localhost:8080/"
        },
        "id": "3lILnN4eMnrU",
        "outputId": "b967765d-309f-4664-e2b8-985270e80655"
      },
      "source": [
        "j = 0\n",
        "y = \"\"\n",
        "delta = []\n",
        "for i, x in enumerate(raw_bits):\n",
        "  if not x == y:\n",
        "    delta.append(i-j)\n",
        "    j = i\n",
        "    y = x\n",
        "\n",
        "delta[:15]"
      ],
      "execution_count": 56,
      "outputs": [
        {
          "output_type": "execute_result",
          "data": {
            "text/plain": [
              "[0, 800, 16, 16, 16, 16, 16, 16, 16, 16, 16, 16, 16, 16, 16]"
            ]
          },
          "metadata": {},
          "execution_count": 56
        }
      ]
    },
    {
      "cell_type": "markdown",
      "metadata": {
        "id": "7wqQqbvCPbgW"
      },
      "source": [
        "単位時間16個分だろうと予想が付く"
      ]
    },
    {
      "cell_type": "code",
      "metadata": {
        "colab": {
          "base_uri": "https://localhost:8080/"
        },
        "id": "-3tplBpnNGHB",
        "outputId": "ed35fdaf-1a37-47e4-bc8b-8523accbef40"
      },
      "source": [
        "bits = [x for x in raw_bits[::16]]\n",
        "\n",
        "bits[:15]"
      ],
      "execution_count": 58,
      "outputs": [
        {
          "output_type": "execute_result",
          "data": {
            "text/plain": [
              "['0', '0', '0', '0', '0', '0', '0', '0', '0', '0', '0', '0', '0', '0', '0']"
            ]
          },
          "metadata": {},
          "execution_count": 58
        }
      ]
    },
    {
      "cell_type": "markdown",
      "metadata": {
        "id": "m-q7FpJSPxDk"
      },
      "source": [
        "preambleを探して・・・"
      ]
    },
    {
      "cell_type": "code",
      "metadata": {
        "colab": {
          "base_uri": "https://localhost:8080/"
        },
        "id": "cqWQiaXUOENo",
        "outputId": "61e7c159-c7b7-4d54-a709-b68a6ca6ee1f"
      },
      "source": [
        "\"\".join(bits).index(\"10\"*16)"
      ],
      "execution_count": 59,
      "outputs": [
        {
          "output_type": "execute_result",
          "data": {
            "text/plain": [
              "50"
            ]
          },
          "metadata": {},
          "execution_count": 59
        }
      ]
    },
    {
      "cell_type": "markdown",
      "metadata": {
        "id": "TXKNABxfP3j3"
      },
      "source": [
        "その後を復号する\n",
        "\n",
        "復号処理はsample.pyをそのまま流用"
      ]
    },
    {
      "cell_type": "code",
      "metadata": {
        "colab": {
          "base_uri": "https://localhost:8080/"
        },
        "id": "pzPd3-TUOM6u",
        "outputId": "0ef9fb86-791d-4d66-867e-99d3a4407a36"
      },
      "source": [
        "bits = bits[50:]\n",
        "\n",
        "s = \"\"\n",
        "c = 0\n",
        "\n",
        "for i in range(len(bits)):\n",
        "    val = int(bits[i])\n",
        "    c = (c << 1) | val\n",
        "    if i % 8 == 7:\n",
        "        s = s + chr(c)\n",
        "        c = 0\n",
        "\n",
        "print(s)"
      ],
      "execution_count": 60,
      "outputs": [
        {
          "output_type": "stream",
          "name": "stdout",
          "text": [
            "ªªªªåFLAG{please-understand-frame-format-of-wireless-communication}\n",
            "\u0000\u0000\u0000\u0000\u0000\u0000*ªªª¹Q\u0010QÞÜ\u001b\u0019X\\ÙK][\u0019\\Ý\u0018[\u000bY[YKYÜX]\u000b[Ù]Ú\\[\u0019\\ÜËXÛÛ[][XØ]\u001a[ÛB\u0000\u0000\u0000\u0000\u0000\n",
            "ªªª®TdÄ\u0014w·\u0006ÆV\u00176R×VæFW'7F\u0016æBÖg&\u0016ÖRÖf÷&Ö\u0017BÖöb×v&VÆW72Ö6öÖ×Væ6\u0017FöçÐ \u0000\u0000\u0000\u0000\u0000\u0002ªªª«\u00191\u0005\u001díÁ±ÍµÕ¹ÉÍÑ¹µÉµµ½ÉµÐµ½µÝ¥É±ÍÌµ½µµÕ¹¥Ñ¥½¹ô(\u0000\u0000\u0000\u0000\u0000\u0000ªªªªåFLAG{please-understand-frame-format-of-wireless-communication}\n",
            "\u0000\u0000\u0000\u0000\u0000\u0000*ªªª¹Q\u0010QÞÜ\u001b\u0019X\\ÙK][\u0019\\Ý\u0018[\u000bY[YKYÜX]\u000b[Ù]Ú\\[\u0019\\ÜËXÛÛ[][XØ]\u001a[ÛB\u0000\u0000\u0000\u0000\u0000\n",
            "ªªª®TdÄ\u0014w·\u0006ÆV\u00176R×VæFW'7F\u0016æBÖg&\u0016ÖRÖf÷&Ö\u0017BÖöb×v&VÆW72Ö6öÖ×Væ6\u0017FöçÐ \u0000\u0000\u0000\u0000\u0000\u0002ªªª«\u00191\u0005\u001díÁ±ÍµÕ¹ÉÍÑ¹µÉµµ½ÉµÐµ½µÝ¥É±ÍÌµ½µµÕ¹¥Ñ¥½¹ô(\u0000\u0000\u0000\u0000\u0000\u0000ªªªªåFLAG{please-understand-frame-format-of-wireless-communication}\n",
            "\u0000\u0000\u0000\u0000\u0000\u0000*ªªª¹Q\u0010QÞÜ\u001b\u0019X\\ÙK][\u0019\\Ý\u0018[\u000bY[YKYÜX]\u000b[Ù]Ú\\[\u0019\\ÜËXÛÛ[][XØ]\u001a[ÛB\n"
          ]
        }
      ]
    },
    {
      "cell_type": "markdown",
      "metadata": {
        "id": "HcJS42NmfUMY"
      },
      "source": [
        "##ASK_over_the_air"
      ]
    },
    {
      "cell_type": "markdown",
      "metadata": {
        "id": "MyyFKuWuQEvy"
      },
      "source": [
        "とにかく、試行錯誤\n",
        "\n",
        "最初の立ち上がりがpreambleだろうと予想して、単位波がどのくらいになるのかを推定"
      ]
    },
    {
      "cell_type": "code",
      "metadata": {
        "id": "w0FJ-XMPOixt"
      },
      "source": [
        "with open(\"/content/drive/MyDrive/wanictf_2021_fall/misc/ASK_over_the_air/mis-ask-over-the-air/ask-over-the-air.csv\", \"r\") as f:\n",
        "  f.readline()\n",
        "  raw_data = [(float(x.split(\",\")[1]), float(x.split(\",\")[2])) for x in f]\n",
        "\n",
        "raw_data[746:]\n"
      ],
      "execution_count": null,
      "outputs": []
    },
    {
      "cell_type": "markdown",
      "metadata": {
        "id": "9woynkb9xbGr"
      },
      "source": [
        "当日はI信号とQ信号の意味がよく分からなかったので、とりあえず足すことにした・・・\n",
        "\n",
        "が、本来は二乗和のルートを計算するのが正解らいし"
      ]
    },
    {
      "cell_type": "code",
      "metadata": {
        "id": "lKAeY0HefpJ_"
      },
      "source": [
        "[x[0] + x[1] for x in raw_data]"
      ],
      "execution_count": null,
      "outputs": []
    },
    {
      "cell_type": "markdown",
      "metadata": {
        "id": "F7B9fKuIRFbQ"
      },
      "source": [
        "閾値の検索\n",
        "\n",
        "なんとなく分かるんだけど、結構迷う、なんせ試行錯誤\n",
        "\n",
        "１シンボルを幾つにするかはpreambleから推定可能\n"
      ]
    },
    {
      "cell_type": "code",
      "metadata": {
        "colab": {
          "base_uri": "https://localhost:8080/",
          "height": 282
        },
        "id": "_C8cZ5aAjL-X",
        "outputId": "e75d3712-3d8f-4a64-ebb8-3d407a5bf855"
      },
      "source": [
        "%matplotlib inline\n",
        "import matplotlib.pyplot as plt\n",
        "import numpy as np\n",
        "y = [1 if abs(x[0] + x[1]) > 0.001 else 0 for x in raw_data][736:]\n",
        "x = [x for x in range(len(y))]\n",
        "plt.plot(x, y)"
      ],
      "execution_count": 118,
      "outputs": [
        {
          "output_type": "execute_result",
          "data": {
            "text/plain": [
              "[<matplotlib.lines.Line2D at 0x7fc3d62f19d0>]"
            ]
          },
          "metadata": {},
          "execution_count": 118
        },
        {
          "output_type": "display_data",
          "data": {
            "image/png": "[encoded data removed]",
            "text/plain": [
              "<Figure size 432x288 with 1 Axes>"
            ]
          },
          "metadata": {
            "needs_background": "light"
          }
        }
      ]
    },
    {
      "cell_type": "markdown",
      "metadata": {
        "id": "P1dis0JZQz73"
      },
      "source": [
        "ノイズがあるらしいので過半数が「１」なら「１」、そうでないなら「０」ということに・・・"
      ]
    },
    {
      "cell_type": "code",
      "metadata": {
        "id": "nb-aRdDWpFCS"
      },
      "source": [
        "bits = [1 if sum(y[i:i+16]) > 8 else 0 for i in range(0, len(y), 16)]"
      ],
      "execution_count": 119,
      "outputs": []
    },
    {
      "cell_type": "markdown",
      "metadata": {
        "id": "y6kcSFvgRZYO"
      },
      "source": [
        "とりあえず頭の方を復号してみて「FLAG」という文字列がでるまでいろんな値を試行錯誤した結果・・・"
      ]
    },
    {
      "cell_type": "code",
      "metadata": {
        "colab": {
          "base_uri": "https://localhost:8080/"
        },
        "id": "Kv9mioyJjrkC",
        "outputId": "5297ddaf-5076-4f73-e768-944faa2f57fb"
      },
      "source": [
        "s = \"\"\n",
        "c = 0\n",
        "\n",
        "for i in range(len(bits)):\n",
        "    val = int(bits[i])\n",
        "    c = (c << 1) | val\n",
        "    if i % 8 == 7:\n",
        "        s = s + chr(c)\n",
        "        c = 0\n",
        "\n",
        "print(s)"
      ],
      "execution_count": 120,
      "outputs": [
        {
          "output_type": "stream",
          "name": "stdout",
          "text": [
            "ªªªªåFLAG{you-can-decode-many-IoT-communications}\n",
            "\u0000\u0000\u0000\u0000\u0000\n"
          ]
        }
      ]
    },
    {
      "cell_type": "markdown",
      "metadata": {
        "id": "4HBUu9NC1dPe"
      },
      "source": [
        "公式Write Upを参考に再構成してみた\n"
      ]
    },
    {
      "cell_type": "code",
      "metadata": {
        "colab": {
          "base_uri": "https://localhost:8080/",
          "height": 282
        },
        "id": "ST2_n0YKynKn",
        "outputId": "8e22f516-a87d-4a0d-9dd3-6481aca0fb36"
      },
      "source": [
        "%matplotlib inline\n",
        "import matplotlib.pyplot as plt\n",
        "import numpy as np\n",
        "import math\n",
        "y = [1 if math.sqrt(x[0]**2 + x[1]**2) > 2.50e-03 else 0 for x in raw_data][736:736+16*40]\n",
        "x = [x for x in range(len(y))]\n",
        "plt.plot(x, y)"
      ],
      "execution_count": 40,
      "outputs": [
        {
          "output_type": "execute_result",
          "data": {
            "text/plain": [
              "[<matplotlib.lines.Line2D at 0x7f4d028ab310>]"
            ]
          },
          "metadata": {},
          "execution_count": 40
        },
        {
          "output_type": "display_data",
          "data": {
            "image/png": "[encoded data removed]",
            "text/plain": [
              "<Figure size 432x288 with 1 Axes>"
            ]
          },
          "metadata": {
            "needs_background": "light"
          }
        }
      ]
    },
    {
      "cell_type": "markdown",
      "metadata": {
        "id": "IQ_6px3DxGCX"
      },
      "source": [
        "#reversing"
      ]
    },
    {
      "cell_type": "markdown",
      "metadata": {
        "id": "Hic3xswfxIPr"
      },
      "source": [
        "##ltrace"
      ]
    },
    {
      "cell_type": "code",
      "metadata": {
        "id": "zngdK4hUtO4W"
      },
      "source": [
        "!apt install ltrace"
      ],
      "execution_count": null,
      "outputs": []
    },
    {
      "cell_type": "code",
      "metadata": {
        "id": "8pifbJrQ25YU"
      },
      "source": [
        "!chmod +x /content/drive/MyDrive/wanictf_2021_fall/reversing/ltrace/rev-ltrace/ltrace"
      ],
      "execution_count": 125,
      "outputs": []
    },
    {
      "cell_type": "code",
      "metadata": {
        "colab": {
          "base_uri": "https://localhost:8080/"
        },
        "id": "2APS5oKmxM4R",
        "outputId": "6fa881ae-b5ff-4c18-f37a-da85d26b46c8"
      },
      "source": [
        "!ltrace -s 255 /content/drive/MyDrive/wanictf_2021_fall/reversing/ltrace/rev-ltrace/ltrace"
      ],
      "execution_count": 126,
      "outputs": [
        {
          "output_type": "stream",
          "name": "stdout",
          "text": [
            "printf(\"Input flag : \")                          = 13\n",
            "__isoc99_scanf(0x5591f8988012, 0x7ffd14fc3820, 0x7ffd14fc31d0, 0Input flag : aa\n",
            ") = 1\n",
            "strcmp(\"aa\", \"FLAG{c4n_y0u_7r4c3_dyn4m1c_l1br4ry_c4ll5?}\") = 27\n",
            "puts(\"Incorrect\"Incorrect\n",
            ")                                = 10\n",
            "+++ exited (status 1) +++\n"
          ]
        }
      ]
    },
    {
      "cell_type": "markdown",
      "metadata": {
        "id": "3CTuoD-x6l2n"
      },
      "source": [
        "##pwsh"
      ]
    },
    {
      "cell_type": "code",
      "metadata": {
        "id": "SXI8EhQyxkhb"
      },
      "source": [
        "!apt-get update"
      ],
      "execution_count": null,
      "outputs": []
    },
    {
      "cell_type": "code",
      "metadata": {
        "id": "eL3cxAyd6tU-"
      },
      "source": [
        "!apt-get install -y wget apt-transport-https software-properties-common"
      ],
      "execution_count": null,
      "outputs": []
    },
    {
      "cell_type": "code",
      "metadata": {
        "id": "Sgy2dfC-60_A"
      },
      "source": [
        "!wget -q https://packages.microsoft.com/config/ubuntu/20.04/packages-microsoft-prod.deb"
      ],
      "execution_count": 130,
      "outputs": []
    },
    {
      "cell_type": "code",
      "metadata": {
        "id": "zDSuePbp7GdG"
      },
      "source": [
        "!dpkg -i packages-microsoft-prod.deb"
      ],
      "execution_count": null,
      "outputs": []
    },
    {
      "cell_type": "code",
      "metadata": {
        "id": "rfusk3tV7Jtu"
      },
      "source": [
        "!apt-get update"
      ],
      "execution_count": null,
      "outputs": []
    },
    {
      "cell_type": "code",
      "metadata": {
        "id": "5uetAnRq7Q64"
      },
      "source": [
        "!apt-get install -y powershell"
      ],
      "execution_count": null,
      "outputs": []
    },
    {
      "cell_type": "code",
      "metadata": {
        "id": "xMKKRNI87V9d"
      },
      "source": [
        "!pwsh"
      ],
      "execution_count": null,
      "outputs": []
    },
    {
      "cell_type": "markdown",
      "metadata": {
        "id": "yobAyDu78CRG"
      },
      "source": [
        "エラーが出て実行できなかった・・・\n",
        "\n",
        "仕方ないので、以下、ローカル環境\n",
        "\n",
        "<pre>\n",
        "# pwsh\n",
        "PowerShell 7.2.0\n",
        "Copyright (c) Microsoft Corporation.\n",
        "\n",
        "https://aka.ms/powershell\n",
        "Type 'help' to get help.\n",
        "\n",
        "PS /ws/reversing/pwsh/rev-pwsh>\n",
        "</pre>\n"
      ]
    },
    {
      "cell_type": "code",
      "metadata": {
        "colab": {
          "base_uri": "https://localhost:8080/"
        },
        "id": "0hmKrNs17add",
        "outputId": "2b51bc51-53aa-4ee5-b707-ce801f7f9f2d"
      },
      "source": [
        "!cat /content/drive/MyDrive/wanictf_2021_fall/reversing/pwsh/rev-pwsh/pwsh.ps1"
      ],
      "execution_count": 138,
      "outputs": [
        {
          "output_type": "stream",
          "name": "stdout",
          "text": [
            "((\"{39}{4}{12}{45}{21}{0}{36}{25}{26}{27}{7}{13}{30}{16}{31}{48}{23}{18}{19}{20}{24}{28}{3}{38}{11}{5}{2}{8}{46}{34}{29}{1}{35}{15}{10}{33}{9}{32}{22}{37}{40}{6}{43}{17}{47}{44}{14}{41}{42}\"-f ' world of PowerShe','d_p','cl','d3','ch','1n_','else','ost cW4Passwo','34r1n68r30b','{\n",
            "  Writ','l}','_','o ','r','W4Incor','w3r5h3l','W','\n",
            " ','t ','-eq c','W4FLAG{','he','t c','(fj7inpu','y0u_','fj7input =',' ','Read-H','5ucc33','473','dc','4','e-Outpu','cW4) ','u5c','0','ll!cW4\n",
            "\n",
            "','W4Co','d','e','rrect!cW4\n",
            "} ','rec','tcW4\n",
            "}\n",
            "',' {','tput c','cW4Welcome to t','f',' Write-Ou','\n",
            "\n",
            "if ')).replACe('cW4',[STRiNg][CHAr]34).replACe('8r3',[STRiNg][CHAr]95).replACe('fj7',[STRiNg][CHAr]36) |& ( $VErboSEPReFErencE.TostRIng()[1,3]+'x'-Join'')\n"
          ]
        }
      ]
    },
    {
      "cell_type": "markdown",
      "metadata": {
        "id": "__AqBYAq8_-s"
      },
      "source": [
        "googleさんに聞いたところ\n",
        "\n",
        ">\"|&\"　の前が実行文字列<br>\n",
        ">\"|&\"　の後が実行処理\n",
        "\n",
        "らしい・・・※（参考） https://binary-pulsar.hatenablog.jp/entry/2018/09/19/000000\n",
        "\n",
        "\n",
        "\n",
        "<pre>\n",
        "PS /ws/reversing/pwsh/rev-pwsh> ((\"{39}{4}{12}{45}{21}{0}{36}{25}{26}{27}{7}{13}{30}{16}{31}{48}{23}{18}{19}{20}{24}{28}{3}{38}{11}{5}{2}{8}{46}{34}{29}{1}{35}{15}{10}{33}{9}{32}{22}{37}{40}{6}{43}{17}{47}{44}{14}{41}{42}\"-f ' world of PowerShe','d_p','cl','d3','ch','1n_','else','ost cW4Passwo','34r1n68r30b','{\n",
        ">>   Writ','l}','_','o ','r','W4Incor','w3r5h3l','W','\n",
        ">>  ','t ','-eq c','W4FLAG{','he','t c','(fj7inpu','y0u_','fj7input =',' ','Read-H','5ucc33','473','dc','4','e-Outpu','cW4) ','u5c','0','ll!cW4\n",
        ">>\n",
        ">> ','W4Co','d','e','rrect!cW4\n",
        ">> } ','rec','tcW4\n",
        ">> }\n",
        ">> ',' {','tput c','cW4Welcome to t','f',' Write-Ou','\n",
        ">>\n",
        ">> if ')).replACe('cW4',[STRiNg][CHAr]34).replACe('8r3',[STRiNg][CHAr]95).replACe('fj7',[STRiNg][CHAr]36)\n",
        "echo \"Welcome to the world of PowerShell!\"\n",
        "\n",
        "$input = Read-Host \"Password\"\n",
        "\n",
        "if ($input -eq \"FLAG{y0u_5ucc33d3d_1n_cl34r1n6_0bfu5c473d_p0w3r5h3ll}\") {\n",
        "  Write-Output \"Correct!\"\n",
        "} else {\n",
        "  Write-Output \"Incorrect\"\n",
        "}\n",
        "\n",
        "</pre>"
      ]
    },
    {
      "cell_type": "markdown",
      "metadata": {
        "id": "no7hgrAw981z"
      },
      "source": [
        "#pwn"
      ]
    },
    {
      "cell_type": "markdown",
      "metadata": {
        "id": "jTtmyq1v9_Kn"
      },
      "source": [
        "##nc"
      ]
    },
    {
      "cell_type": "code",
      "metadata": {
        "colab": {
          "base_uri": "https://localhost:8080/"
        },
        "id": "oHAoxOJR887Y",
        "outputId": "0322961d-fc93-485c-d968-be096b423db4"
      },
      "source": [
        "!nc nc.pwn.wanictf.org 9001"
      ],
      "execution_count": 139,
      "outputs": [
        {
          "output_type": "stream",
          "name": "stdout",
          "text": [
            "welcome to WaniCTF 2021!!!\n",
            "ls\n",
            "chall\n",
            "flag.txt\n",
            "redir.sh\n",
            "cat flag.txt\n",
            "FLAG{the-1st-step-to-pwn-is-netcatting}\n",
            "\n"
          ]
        }
      ]
    },
    {
      "cell_type": "markdown",
      "metadata": {
        "id": "zCkgl7fM_34f"
      },
      "source": [
        "##BOF"
      ]
    },
    {
      "cell_type": "code",
      "metadata": {
        "colab": {
          "base_uri": "https://localhost:8080/"
        },
        "id": "z4pH2xQr-FdT",
        "outputId": "d27a8883-d77a-4b1e-d586-6c8a1606cfc7"
      },
      "source": [
        "!nc bof.pwn.wanictf.org 9002"
      ],
      "execution_count": 141,
      "outputs": [
        {
          "output_type": "stream",
          "name": "stdout",
          "text": [
            "ふっかつのじゅもんを　いれてください\n",
            "aaaaaaaaaaaaaaaaaaaaaaaaaaaaaaaaaaaaaaaaaaaaaaaaaaaaaaaaaaaaaaaaaaaaaaaaaaaaaaaaaaaaaaaaaaaaaaaaaaaaaa\n",
            "よくぞもどられた！\n",
            "FLAG{D0_y0U_kN0w_BuFf3r_0Ver_fL0w?_ThA2k_y0U_fOR_s01v1ng!!}\n",
            "Segmentation fault (core dumped)\n"
          ]
        }
      ]
    },
    {
      "cell_type": "markdown",
      "metadata": {
        "id": "71yLZa_7xogT"
      },
      "source": [
        "#web"
      ]
    },
    {
      "cell_type": "markdown",
      "metadata": {
        "id": "em1ChNvGxsYu"
      },
      "source": [
        "##post"
      ]
    },
    {
      "cell_type": "code",
      "metadata": {
        "colab": {
          "base_uri": "https://localhost:8080/"
        },
        "id": "vkvG9y7a_do0",
        "outputId": "3ea9b475-d6e3-4a47-831e-6dec370483be"
      },
      "source": [
        "!curl -XPOST -d 'data=hoge' https://post.web.wanictf.org/chal/1"
      ],
      "execution_count": 1,
      "outputs": [
        {
          "output_type": "stream",
          "name": "stdout",
          "text": [
            "<!DOCTYPE html>\n",
            "<html>\n",
            "  <head>\n",
            "    <!-- Required meta tags -->\n",
            "    <meta charset=\"utf-8\">\n",
            "    <meta name=\"viewport\" content=\"width=device-width, initial-scale=1, shrink-to-fit=no\">\n",
            "\n",
            "    <!-- Bootstrap CSS -->\n",
            "    <link rel=\"stylesheet\" href=\"https://cdn.jsdelivr.net/npm/bootstrap@4.5.3/dist/css/bootstrap.min.css\"\n",
            "      integrity=\"sha384-TX8t27EcRE3e/ihU7zmQxVncDAy5uIKz4rEkgIXeMed4M0jlfIDPvg6uqKI2xXr2\" crossorigin=\"anonymous\">\n",
            "  </head>\n",
            "\n",
            "  <body>\n",
            "    <nav class=\"navbar navbar-expand-sm navbar-light bg-light\">\n",
            "      <a class=\"navbar-brand\" href=\"/\">POST Challenge</a>\n",
            "    </nav>\n",
            "    <div class=\"container\">\n",
            "      \n",
            "      \n",
            "  Congratulations! Challenge 1 FLAG: y0u\n",
            "\n",
            "<!-- debug: {\"requestHeader\":{\"host\":\"post.web.wanictf.org\",\"user-agent\":\"curl/7.58.0\",\"content-length\":\"9\",\"accept\":\"*/*\",\"content-type\":\"application/x-www-form-urlencoded\",\"x-forwarded-for\":\"34.80.71.213\",\"x-forwarded-proto\":\"https\",\"x-real-ip\":\"34.80.71.213\",\"accept-encoding\":\"gzip\"},\"requestBody\":{\"data\":\"hoge\"}} -->\n",
            "    </div>\n",
            "    <script src=\"https://code.jquery.com/jquery-3.5.1.slim.min.js\"\n",
            "      integrity=\"sha384-DfXdz2htPH0lsSSs5nCTpuj/zy4C+OGpamoFVy38MVBnE+IbbVYUew+OrCXaRkfj\"\n",
            "      crossorigin=\"anonymous\"></script>\n",
            "    <script src=\"https://cdn.jsdelivr.net/npm/bootstrap@4.5.3/dist/js/bootstrap.bundle.min.js\"\n",
            "      integrity=\"sha384-ho+j7jyWK8fNQe+A12Hb8AhRq26LrZ/JpcUGGOn+Y7RsweNrtN/tE3MoK7ZeZDyx\"\n",
            "      crossorigin=\"anonymous\"></script>\n",
            "    \n",
            "  </body>\n",
            "</html>"
          ]
        }
      ]
    },
    {
      "cell_type": "code",
      "metadata": {
        "colab": {
          "base_uri": "https://localhost:8080/"
        },
        "id": "3EoV4PeHxzQv",
        "outputId": "16b3653c-a61d-4142-f633-6189a03a980d"
      },
      "source": [
        "!curl -XPOST -A \"Mozilla/5.0\" -d 'data=hoge' https://post.web.wanictf.org/chal/2"
      ],
      "execution_count": 2,
      "outputs": [
        {
          "output_type": "stream",
          "name": "stdout",
          "text": [
            "<!DOCTYPE html>\n",
            "<html>\n",
            "  <head>\n",
            "    <!-- Required meta tags -->\n",
            "    <meta charset=\"utf-8\">\n",
            "    <meta name=\"viewport\" content=\"width=device-width, initial-scale=1, shrink-to-fit=no\">\n",
            "\n",
            "    <!-- Bootstrap CSS -->\n",
            "    <link rel=\"stylesheet\" href=\"https://cdn.jsdelivr.net/npm/bootstrap@4.5.3/dist/css/bootstrap.min.css\"\n",
            "      integrity=\"sha384-TX8t27EcRE3e/ihU7zmQxVncDAy5uIKz4rEkgIXeMed4M0jlfIDPvg6uqKI2xXr2\" crossorigin=\"anonymous\">\n",
            "  </head>\n",
            "\n",
            "  <body>\n",
            "    <nav class=\"navbar navbar-expand-sm navbar-light bg-light\">\n",
            "      <a class=\"navbar-brand\" href=\"/\">POST Challenge</a>\n",
            "    </nav>\n",
            "    <div class=\"container\">\n",
            "      \n",
            "      \n",
            "  Congratulations! Challenge 2 FLAG: ar3\n",
            "\n",
            "<!-- debug: {\"requestHeader\":{\"host\":\"post.web.wanictf.org\",\"user-agent\":\"Mozilla/5.0\",\"content-length\":\"9\",\"accept\":\"*/*\",\"content-type\":\"application/x-www-form-urlencoded\",\"x-forwarded-for\":\"34.80.71.213\",\"x-forwarded-proto\":\"https\",\"x-real-ip\":\"34.80.71.213\",\"accept-encoding\":\"gzip\"},\"requestBody\":{\"data\":\"hoge\"}} -->\n",
            "    </div>\n",
            "    <script src=\"https://code.jquery.com/jquery-3.5.1.slim.min.js\"\n",
            "      integrity=\"sha384-DfXdz2htPH0lsSSs5nCTpuj/zy4C+OGpamoFVy38MVBnE+IbbVYUew+OrCXaRkfj\"\n",
            "      crossorigin=\"anonymous\"></script>\n",
            "    <script src=\"https://cdn.jsdelivr.net/npm/bootstrap@4.5.3/dist/js/bootstrap.bundle.min.js\"\n",
            "      integrity=\"sha384-ho+j7jyWK8fNQe+A12Hb8AhRq26LrZ/JpcUGGOn+Y7RsweNrtN/tE3MoK7ZeZDyx\"\n",
            "      crossorigin=\"anonymous\"></script>\n",
            "    \n",
            "  </body>\n",
            "</html>"
          ]
        }
      ]
    },
    {
      "cell_type": "code",
      "metadata": {
        "colab": {
          "base_uri": "https://localhost:8080/"
        },
        "id": "_O2vcJujyVle",
        "outputId": "b470eca5-e995-4add-f251-24497cafe469"
      },
      "source": [
        "!curl -d 'data[hoge]=fuga' https://post.web.wanictf.org/chal/3"
      ],
      "execution_count": 3,
      "outputs": [
        {
          "output_type": "stream",
          "name": "stdout",
          "text": [
            "<!DOCTYPE html>\n",
            "<html>\n",
            "  <head>\n",
            "    <!-- Required meta tags -->\n",
            "    <meta charset=\"utf-8\">\n",
            "    <meta name=\"viewport\" content=\"width=device-width, initial-scale=1, shrink-to-fit=no\">\n",
            "\n",
            "    <!-- Bootstrap CSS -->\n",
            "    <link rel=\"stylesheet\" href=\"https://cdn.jsdelivr.net/npm/bootstrap@4.5.3/dist/css/bootstrap.min.css\"\n",
            "      integrity=\"sha384-TX8t27EcRE3e/ihU7zmQxVncDAy5uIKz4rEkgIXeMed4M0jlfIDPvg6uqKI2xXr2\" crossorigin=\"anonymous\">\n",
            "  </head>\n",
            "\n",
            "  <body>\n",
            "    <nav class=\"navbar navbar-expand-sm navbar-light bg-light\">\n",
            "      <a class=\"navbar-brand\" href=\"/\">POST Challenge</a>\n",
            "    </nav>\n",
            "    <div class=\"container\">\n",
            "      \n",
            "      \n",
            "  Congratulations! Challenge 3 FLAG: http\n",
            "\n",
            "<!-- debug: {\"requestHeader\":{\"host\":\"post.web.wanictf.org\",\"user-agent\":\"curl/7.58.0\",\"content-length\":\"15\",\"accept\":\"*/*\",\"content-type\":\"application/x-www-form-urlencoded\",\"x-forwarded-for\":\"34.80.71.213\",\"x-forwarded-proto\":\"https\",\"x-real-ip\":\"34.80.71.213\",\"accept-encoding\":\"gzip\"},\"requestBody\":{\"data\":{\"hoge\":\"fuga\"}}} -->\n",
            "    </div>\n",
            "    <script src=\"https://code.jquery.com/jquery-3.5.1.slim.min.js\"\n",
            "      integrity=\"sha384-DfXdz2htPH0lsSSs5nCTpuj/zy4C+OGpamoFVy38MVBnE+IbbVYUew+OrCXaRkfj\"\n",
            "      crossorigin=\"anonymous\"></script>\n",
            "    <script src=\"https://cdn.jsdelivr.net/npm/bootstrap@4.5.3/dist/js/bootstrap.bundle.min.js\"\n",
            "      integrity=\"sha384-ho+j7jyWK8fNQe+A12Hb8AhRq26LrZ/JpcUGGOn+Y7RsweNrtN/tE3MoK7ZeZDyx\"\n",
            "      crossorigin=\"anonymous\"></script>\n",
            "    \n",
            "  </body>\n",
            "</html>"
          ]
        }
      ]
    },
    {
      "cell_type": "code",
      "metadata": {
        "colab": {
          "base_uri": "https://localhost:8080/"
        },
        "id": "02PNjieC7g2P",
        "outputId": "c55d39fa-9185-40f8-9886-10e501296bee"
      },
      "source": [
        "!curl -X POST -i -H \"Content-Type: application/json\" -d '{\"hoge\":1,\"fuga\":null}' https://post.web.wanictf.org/chal/4"
      ],
      "execution_count": 4,
      "outputs": [
        {
          "output_type": "stream",
          "name": "stdout",
          "text": [
            "HTTP/2 200 \r\n",
            "content-type: text/html; charset=utf-8\r\n",
            "date: Sun, 07 Nov 2021 10:37:40 GMT\r\n",
            "etag: W/\"59e-oss1u7mVm+w80vSr7KcaKjZ6xJQ\"\r\n",
            "x-powered-by: Express\r\n",
            "content-length: 1438\r\n",
            "\r\n",
            "<!DOCTYPE html>\n",
            "<html>\n",
            "  <head>\n",
            "    <!-- Required meta tags -->\n",
            "    <meta charset=\"utf-8\">\n",
            "    <meta name=\"viewport\" content=\"width=device-width, initial-scale=1, shrink-to-fit=no\">\n",
            "\n",
            "    <!-- Bootstrap CSS -->\n",
            "    <link rel=\"stylesheet\" href=\"https://cdn.jsdelivr.net/npm/bootstrap@4.5.3/dist/css/bootstrap.min.css\"\n",
            "      integrity=\"sha384-TX8t27EcRE3e/ihU7zmQxVncDAy5uIKz4rEkgIXeMed4M0jlfIDPvg6uqKI2xXr2\" crossorigin=\"anonymous\">\n",
            "  </head>\n",
            "\n",
            "  <body>\n",
            "    <nav class=\"navbar navbar-expand-sm navbar-light bg-light\">\n",
            "      <a class=\"navbar-brand\" href=\"/\">POST Challenge</a>\n",
            "    </nav>\n",
            "    <div class=\"container\">\n",
            "      \n",
            "      \n",
            "  Congratulations! Challenge 4 FLAG: p0st\n",
            "\n",
            "<!-- debug: {\"requestHeader\":{\"host\":\"post.web.wanictf.org\",\"user-agent\":\"curl/7.58.0\",\"content-length\":\"22\",\"accept\":\"*/*\",\"content-type\":\"application/json\",\"x-forwarded-for\":\"34.80.71.213\",\"x-forwarded-proto\":\"https\",\"x-real-ip\":\"34.80.71.213\",\"accept-encoding\":\"gzip\"},\"requestBody\":{\"hoge\":1,\"fuga\":null}} -->\n",
            "    </div>\n",
            "    <script src=\"https://code.jquery.com/jquery-3.5.1.slim.min.js\"\n",
            "      integrity=\"sha384-DfXdz2htPH0lsSSs5nCTpuj/zy4C+OGpamoFVy38MVBnE+IbbVYUew+OrCXaRkfj\"\n",
            "      crossorigin=\"anonymous\"></script>\n",
            "    <script src=\"https://cdn.jsdelivr.net/npm/bootstrap@4.5.3/dist/js/bootstrap.bundle.min.js\"\n",
            "      integrity=\"sha384-ho+j7jyWK8fNQe+A12Hb8AhRq26LrZ/JpcUGGOn+Y7RsweNrtN/tE3MoK7ZeZDyx\"\n",
            "      crossorigin=\"anonymous\"></script>\n",
            "    \n",
            "  </body>\n",
            "</html>"
          ]
        }
      ]
    },
    {
      "cell_type": "code",
      "metadata": {
        "colab": {
          "base_uri": "https://localhost:8080/"
        },
        "id": "_8YEL6a5-aVC",
        "outputId": "db70845b-74ac-4244-ab94-a6770aebeedd"
      },
      "source": [
        "!curl -X POST -F data=@/content/drive/MyDrive/wanictf_2021_fall/web/POST_Challenge/web-http-post/app/public/images/wani.png https://post.web.wanictf.org/chal/5"
      ],
      "execution_count": 2,
      "outputs": [
        {
          "output_type": "stream",
          "name": "stdout",
          "text": [
            "<!DOCTYPE html>\n",
            "<html>\n",
            "  <head>\n",
            "    <!-- Required meta tags -->\n",
            "    <meta charset=\"utf-8\">\n",
            "    <meta name=\"viewport\" content=\"width=device-width, initial-scale=1, shrink-to-fit=no\">\n",
            "\n",
            "    <!-- Bootstrap CSS -->\n",
            "    <link rel=\"stylesheet\" href=\"https://cdn.jsdelivr.net/npm/bootstrap@4.5.3/dist/css/bootstrap.min.css\"\n",
            "      integrity=\"sha384-TX8t27EcRE3e/ihU7zmQxVncDAy5uIKz4rEkgIXeMed4M0jlfIDPvg6uqKI2xXr2\" crossorigin=\"anonymous\">\n",
            "  </head>\n",
            "\n",
            "  <body>\n",
            "    <nav class=\"navbar navbar-expand-sm navbar-light bg-light\">\n",
            "      <a class=\"navbar-brand\" href=\"/\">POST Challenge</a>\n",
            "    </nav>\n",
            "    <div class=\"container\">\n",
            "      \n",
            "      \n",
            "  Congratulations! Challenge 5 FLAG: m@ster!\n",
            "\n",
            "<!-- debug: {\"requestHeader\":{\"host\":\"post.web.wanictf.org\",\"user-agent\":\"curl/7.58.0\",\"content-length\":\"135385\",\"accept\":\"*/*\",\"content-type\":\"multipart/form-data; boundary=------------------------c92eef57b8eae81b\",\"x-forwarded-for\":\"35.237.44.20\",\"x-forwarded-proto\":\"https\",\"x-real-ip\":\"35.237.44.20\",\"accept-encoding\":\"gzip\"},\"requestBody\":{}} -->\n",
            "    </div>\n",
            "    <script src=\"https://code.jquery.com/jquery-3.5.1.slim.min.js\"\n",
            "      integrity=\"sha384-DfXdz2htPH0lsSSs5nCTpuj/zy4C+OGpamoFVy38MVBnE+IbbVYUew+OrCXaRkfj\"\n",
            "      crossorigin=\"anonymous\"></script>\n",
            "    <script src=\"https://cdn.jsdelivr.net/npm/bootstrap@4.5.3/dist/js/bootstrap.bundle.min.js\"\n",
            "      integrity=\"sha384-ho+j7jyWK8fNQe+A12Hb8AhRq26LrZ/JpcUGGOn+Y7RsweNrtN/tE3MoK7ZeZDyx\"\n",
            "      crossorigin=\"anonymous\"></script>\n",
            "    \n",
            "  </body>\n",
            "</html>"
          ]
        }
      ]
    },
    {
      "cell_type": "code",
      "metadata": {
        "id": "suknLGk-AzcY"
      },
      "source": [
        ""
      ],
      "execution_count": null,
      "outputs": []
    }
  ]
}