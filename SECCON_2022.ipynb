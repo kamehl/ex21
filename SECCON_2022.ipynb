{
  "cells": [
    {
      "cell_type": "markdown",
      "metadata": {
        "id": "view-in-github",
        "colab_type": "text"
      },
      "source": [
        "<a href=\"https://colab.research.google.com/github/kamehl/ex21/blob/main/SECCON_2022.ipynb\" target=\"_parent\"><img src=\"https://colab.research.google.com/assets/colab-badge.svg\" alt=\"Open In Colab\"/></a>"
      ]
    },
    {
      "cell_type": "markdown",
      "metadata": {
        "id": "SNk6Xma3f4ID"
      },
      "source": [
        "#SECCON 2022"
      ]
    },
    {
      "cell_type": "markdown",
      "metadata": {
        "id": "V4UnMx2ogAye"
      },
      "source": [
        "##crypoto"
      ]
    },
    {
      "cell_type": "markdown",
      "metadata": {
        "id": "wNx6P75Ag1wn"
      },
      "source": [
        "###pqpq"
      ]
    },
    {
      "cell_type": "code",
      "execution_count": null,
      "metadata": {
        "id": "UnoAOje7g2Z0"
      },
      "outputs": [],
      "source": [
        "!pip install pycryptodome"
      ]
    },
    {
      "cell_type": "code",
      "execution_count": 8,
      "metadata": {
        "id": "ZZGGnt5KhARm"
      },
      "outputs": [],
      "source": [
        "e = 131074\n",
        "n = 587926815910957928506680558951380405698765957736660571041732511939308424899531125274073420353104933723578377320050609109973567093301465914201779673281463229043539776071848986139657349676692718889679333084650490543298408820393827884588301690661795023628407437321580294262453190086595632660415087049509707898690300735866307908684649384093580089579066927072306239235691848372795522705863097316041992762430583002647242874432616919707048872023450089003861892443175057\n",
        "c1 = 92883677608593259107779614675340187389627152895287502713709168556367680044547229499881430201334665342299031232736527233576918819872441595012586353493994687554993850861284698771856524058389658082754805340430113793873484033099148690745409478343585721548477862484321261504696340989152768048722100452380071775092776100545951118812510485258151625980480449364841902275382168289834835592610827304151460005023283820809211181376463308232832041617730995269229706500778999\n",
        "c2 = 46236476834113109832988500718245623668321130659753618396968458085371710919173095425312826538494027621684566936459628333712619089451210986870323342712049966508077935506288610960911880157875515961210931283604254773154117519276154872411593688579702575956948337592659599321668773003355325067112181265438366718228446448254354388848428310614023369655106639341893255469632846938342940907002778575355566044700049191772800859575284398246115317686284789740336401764665472\n",
        "cm = 357982930129036534232652210898740711702843117900101310390536835935714799577440705618646343456679847613022604725158389766496649223820165598357113877892553200702943562674928769780834623569501835458020870291541041964954580145140283927441757571859062193670500697241155641475887438532923910772758985332976303801843564388289302751743334888885607686066607804176327367188812325636165858751339661015759861175537925741744142766298156196248822715533235458083173713289585866"
      ]
    },
    {
      "cell_type": "code",
      "execution_count": null,
      "metadata": {
        "id": "g4AOIr_QhJWT"
      },
      "outputs": [],
      "source": [
        "from Crypto.Util.number import *"
      ]
    },
    {
      "cell_type": "markdown",
      "source": [
        "eが偶数なので次のように展開できる。\n",
        "\n",
        ">$c2 = (p-q)^{e} = p^{e} +\\displaystyle \\sum_{i,j}^{0<i,j<e}x_{ij}p^iq^j+q^{e}$\n",
        "\n",
        "※ポイントは$q^{e}$の前が「＋」になる部分。\n",
        "\n",
        "$c1$と$c2$を足したり引いたりすると$p$と$q$の倍数がそれぞれ作れるので、\n",
        "$n$とユークリッドの互助法を使えば$(p,q,r)$がすべて求まる。\n",
        "\n",
        "※$p$か$q$の倍数を作ればOKだけど、$pq$の倍数になってもダメ。"
      ],
      "metadata": {
        "id": "_L354Fc9b9fV"
      }
    },
    {
      "cell_type": "code",
      "execution_count": null,
      "metadata": {
        "colab": {
          "base_uri": "https://localhost:8080/"
        },
        "id": "QUUBd67AhOK5",
        "outputId": "ab58095e-8db9-45f0-debb-d91eb461b21f"
      },
      "outputs": [
        {
          "output_type": "stream",
          "name": "stdout",
          "text": [
            "p = 7572427786695057270624844967644562609112132599800420296747189080920032359205995588384031542287784540006438555802994008688795974493684400576592403320929717\n",
            "q = 8609258896430210586523688955272794335561428099377427081622836355194006054569349679983850344916908011330202034512905353365631416251631307084038768336538857\n",
            "r = 9018251874561850467651399512661829039310834429345808807288228370045576292997274498659156953954383290793552486677903139680704353709352146165598701061994853\n"
          ]
        }
      ],
      "source": [
        "p = GCD(n, c1+c2)\n",
        "q = GCD(n, c1-c2)\n",
        "r = n//q//p\n",
        "print(f\"p = {p}\")\n",
        "print(f\"q = {q}\")\n",
        "print(f\"r = {r}\")"
      ]
    },
    {
      "cell_type": "markdown",
      "source": [
        "eが２の倍数なので$\\phi(n) = (p-1)(q-1)(r-1)$での逆元が計算できない。\n",
        "\n",
        "でも、$e/2$は素数だから$e/2$の逆元$d$は計算できる。\n",
        "\n",
        "ちなみに\n",
        "\n",
        ">$ed\\ mod\\ \\phi(n) = 2$\n",
        "\n",
        "なので\n",
        "\n",
        ">$cm^{d} = (m^{e})^{d} = m^{ed} = m^{k\\phi(n)+2} = m^{2}\\ mod\\ n$\n",
        "\n",
        "ただし、$k$は任意の整数。あと、\n",
        "\n",
        ">$cm^{d} = m_{p}^{2}\\ mod\\ p$<br>\n",
        ">$cm^{d} = m_{q}^{2}\\ mod\\ q$<br>\n",
        ">$cm^{d} = m_{r}^{2}\\ mod\\ r$\n",
        "\n",
        "も計算可能。"
      ],
      "metadata": {
        "id": "nf73xk4_fIEp"
      }
    },
    {
      "cell_type": "code",
      "source": [
        "phi = (p-1) * (q-1) * (r-1)\n",
        "d = inverse(e//2, phi)\n",
        "\n",
        "m2_mod_p = pow(cm, d, p)\n",
        "m2_mod_q = pow(cm, d, q)\n",
        "m2_mod_r = pow(cm, d, r)\n"
      ],
      "metadata": {
        "id": "6hoef2yhZK2Q"
      },
      "execution_count": null,
      "outputs": []
    },
    {
      "cell_type": "markdown",
      "source": [
        "法が奇素数である平方余剰は簡単に計算できるらしいので、下のURLのソースをパクって対応。\n",
        "\n",
        "https://rosettacode.org/wiki/Tonelli-Shanks_algorithm#Python"
      ],
      "metadata": {
        "id": "7TT2v677iF9b"
      }
    },
    {
      "cell_type": "code",
      "source": [
        "def legendre(a, p):\n",
        "    return pow(a, (p - 1) // 2, p)\n",
        "\n",
        "def tonelli(n, p):\n",
        "    assert legendre(n, p) == 1, \"not a square (mod p)\"\n",
        "    q = p - 1\n",
        "    s = 0\n",
        "    while q % 2 == 0:\n",
        "        q //= 2\n",
        "        s += 1\n",
        "    if s == 1:\n",
        "        return pow(n, (p + 1) // 4, p)\n",
        "    for z in range(2, p):\n",
        "        if p - 1 == legendre(z, p):\n",
        "            break\n",
        "    c = pow(z, q, p)\n",
        "    r = pow(n, (q + 1) // 2, p)\n",
        "    t = pow(n, q, p)\n",
        "    m = s\n",
        "    t2 = 0\n",
        "    while (t - 1) % p != 0:\n",
        "        t2 = (t * t) % p\n",
        "        for i in range(1, m):\n",
        "            if (t2 - 1) % p == 0:\n",
        "                break\n",
        "            t2 = (t2 * t2) % p\n",
        "        b = pow(c, 1 << (m - i - 1), p)\n",
        "        r = (r * b) % p\n",
        "        c = (b * b) % p\n",
        "        t = (t * c) % p\n",
        "        m = i\n",
        "    return r\n"
      ],
      "metadata": {
        "id": "JBcpSrq4YKnY"
      },
      "execution_count": null,
      "outputs": []
    },
    {
      "cell_type": "markdown",
      "source": [
        "ただし、平方余剰は２個存在する。平方根が２個存在するのと同じ感じ。"
      ],
      "metadata": {
        "id": "XR6ESg3VYbiM"
      }
    },
    {
      "cell_type": "code",
      "source": [
        "mp1 = tonelli(m2_mod_p, p)\n",
        "mp2 = p - mp1\n",
        "\n",
        "mq1 = tonelli(m2_mod_q, q)\n",
        "mq2 = q - mq1\n",
        "\n",
        "mr1 = tonelli(m2_mod_r, r)\n",
        "mr2 = r - mr1"
      ],
      "metadata": {
        "id": "o6Vs4GoUY5As"
      },
      "execution_count": null,
      "outputs": []
    },
    {
      "cell_type": "markdown",
      "source": [
        "あとは中国人の余剰定理で$m$の候補をしらみつぶしに探す。\n",
        "\n",
        "※平方余剰は2個あるので、８つのパターンをすべて考える必要がある。"
      ],
      "metadata": {
        "id": "xYBo3LZJi7xA"
      }
    },
    {
      "cell_type": "code",
      "source": [
        "!pip install sympy"
      ],
      "metadata": {
        "id": "KvGuWIzyaxtq"
      },
      "execution_count": null,
      "outputs": []
    },
    {
      "cell_type": "code",
      "source": [
        "import sympy.ntheory.modular"
      ],
      "metadata": {
        "id": "h8LiSC9Xa3eL"
      },
      "execution_count": null,
      "outputs": []
    },
    {
      "cell_type": "code",
      "source": [
        "X = [p,q,r]\n",
        "for i in (mp1, mp2):\n",
        "    for j in (mq1, mq2):\n",
        "        for k in (mr1, mr2):\n",
        "            Y = [i, j, k]\n",
        "            (x, y) = sympy.ntheory.modular.crt(X,Y)\n",
        "            flag = long_to_bytes(x)\n",
        "            if b'SECCON' in flag:\n",
        "                print(flag)\n"
      ],
      "metadata": {
        "colab": {
          "base_uri": "https://localhost:8080/"
        },
        "id": "Sg7PKZ60aoKu",
        "outputId": "d2bb7c92-6e85-4e2f-bce8-1c9a272d7e57"
      },
      "execution_count": null,
      "outputs": [
        {
          "output_type": "stream",
          "name": "stdout",
          "text": [
            "b'\\x12=\\x04q\\x9b\\xb8\\x1c\\x10C\\x02\\x1e\\x13`\\xac>A\\x9c\\xf9\\x9d\\xc2\\x83\\xc2\\xcd\\x15\\x97\\x86\\x8e\\xd2\\x85*s\\r\\x18~\\x9b\\xbai\\xb1\\x07\\xacF\\x0f\\xfcrZ\\xf1\\xd0\\x1f\\xb0q\\xe4\\xbf\\xd2\\x87G\\x1b\\xdc\\xd2u\\x97\\xb3\\xcc?\\xba\\xba@\\xae\\x96\\xdc\\x1b\\x10\\xd3\\x00f\\nH\\x99d\\xf7{\\xea \\x82T\\xf5\\x03\\x81\\xd0:\\r\\x8d\\xa6P\\x92\\xa0\\x1d\\x91n u6}:\\x98\\r\\xa0\\xbc\\xe5\\x84y\\x01\\x89\\xa4P\\xf4\\xf9\\xe4\\xf2\\x95\\x8d\\x85\\x11\\xfezN\\x06- e(\\x80\\xd2\\x01\\x8e\\x94&\\xf7amQ\\x08@\\xd4w\\x8e\\xbbP\\xfa\\x17SECCON{being_able_to_s0lve_this_1s_great!}'\n"
          ]
        }
      ]
    },
    {
      "cell_type": "markdown",
      "source": [
        "以下、サンプルコード。"
      ],
      "metadata": {
        "id": "GMArlWFyZCGk"
      }
    },
    {
      "cell_type": "code",
      "source": [
        "from Crypto.Util.number import *\n",
        "import sympy.ntheory.modular\n",
        "\n",
        "#ネットからパクったコード\n",
        "#https://rosettacode.org/wiki/Tonelli-Shanks_algorithm#Python\n",
        "#\n",
        "def legendre(a, p):\n",
        "    return pow(a, (p - 1) // 2, p)\n",
        "\n",
        "def tonelli(n, p):\n",
        "    assert legendre(n, p) == 1, \"not a square (mod p)\"\n",
        "    q = p - 1\n",
        "    s = 0\n",
        "    while q % 2 == 0:\n",
        "        q //= 2\n",
        "        s += 1\n",
        "    if s == 1:\n",
        "        return pow(n, (p + 1) // 4, p)\n",
        "    for z in range(2, p):\n",
        "        if p - 1 == legendre(z, p):\n",
        "            break\n",
        "    c = pow(z, q, p)\n",
        "    r = pow(n, (q + 1) // 2, p)\n",
        "    t = pow(n, q, p)\n",
        "    m = s\n",
        "    t2 = 0\n",
        "    while (t - 1) % p != 0:\n",
        "        t2 = (t * t) % p\n",
        "        for i in range(1, m):\n",
        "            if (t2 - 1) % p == 0:\n",
        "                break\n",
        "            t2 = (t2 * t2) % p\n",
        "        b = pow(c, 1 << (m - i - 1), p)\n",
        "        r = (r * b) % p\n",
        "        c = (b * b) % p\n",
        "        t = (t * c) % p\n",
        "        m = i\n",
        "    return r\n",
        "\n",
        "#output.txtのデータ\n",
        "#\n",
        "e = 131074\n",
        "n = 587926815910957928506680558951380405698765957736660571041732511939308424899531125274073420353104933723578377320050609109973567093301465914201779673281463229043539776071848986139657349676692718889679333084650490543298408820393827884588301690661795023628407437321580294262453190086595632660415087049509707898690300735866307908684649384093580089579066927072306239235691848372795522705863097316041992762430583002647242874432616919707048872023450089003861892443175057\n",
        "c1 = 92883677608593259107779614675340187389627152895287502713709168556367680044547229499881430201334665342299031232736527233576918819872441595012586353493994687554993850861284698771856524058389658082754805340430113793873484033099148690745409478343585721548477862484321261504696340989152768048722100452380071775092776100545951118812510485258151625980480449364841902275382168289834835592610827304151460005023283820809211181376463308232832041617730995269229706500778999\n",
        "c2 = 46236476834113109832988500718245623668321130659753618396968458085371710919173095425312826538494027621684566936459628333712619089451210986870323342712049966508077935506288610960911880157875515961210931283604254773154117519276154872411593688579702575956948337592659599321668773003355325067112181265438366718228446448254354388848428310614023369655106639341893255469632846938342940907002778575355566044700049191772800859575284398246115317686284789740336401764665472\n",
        "cm = 357982930129036534232652210898740711702843117900101310390536835935714799577440705618646343456679847613022604725158389766496649223820165598357113877892553200702943562674928769780834623569501835458020870291541041964954580145140283927441757571859062193670500697241155641475887438532923910772758985332976303801843564388289302751743334888885607686066607804176327367188812325636165858751339661015759861175537925741744142766298156196248822715533235458083173713289585866\n",
        "\n",
        "#nの因数分解\n",
        "#GCDはpycryptodomeを利用\n",
        "#\n",
        "p = GCD(n, c1+c2)\n",
        "q = GCD(n, c1-c2)\n",
        "r = n//q//p\n",
        "\n",
        "#eが偶数なので逆元が求まらないので、e//2の逆元を計算\n",
        "#ただし、このdで復号すると平文の２乗しか計算できない\n",
        "#\n",
        "phi = (p-1) * (q-1) * (r-1)\n",
        "d = inverse(e//2, phi)\n",
        "\n",
        "#奇素数を法とする平方剰余は簡単に計算できるらしいのでプログラムごとパクる\n",
        "#ただし、答えは２個出てくる（平方根が＋と−で二つあるのと同じ）\n",
        "#https://ja.wikipedia.org/wiki/平方剰余\n",
        "#\n",
        "m2_mod_p = pow(cm, d, p)\n",
        "m2_mod_q = pow(cm, d, q)\n",
        "m2_mod_r = pow(cm, d, r)\n",
        "\n",
        "mp1 = tonelli(m2_mod_p, p)\n",
        "mp2 = p - mp1\n",
        "\n",
        "mq1 = tonelli(m2_mod_q, q)\n",
        "mq2 = q - mq1\n",
        "\n",
        "mr1 = tonelli(m2_mod_r, r)\n",
        "mr2 = r - mr1\n",
        "\n",
        "#平文のp,q,rの剰余が分かったのであとは中国人の剰余定理を使えばflagゲット\n",
        "#ただし、剰余はp,q,rのそれぞれで２個ずつあるので、フラグっぽいのをしらみつぶしで探す\n",
        "#あと、crtはsympyのやつを利用\n",
        "#\n",
        "X = [p,q,r]\n",
        "for i in (mp1, mp2):\n",
        "    for j in (mq1, mq2):\n",
        "        for k in (mr1, mr2):\n",
        "            Y = [i, j, k]\n",
        "            (x, y) = sympy.ntheory.modular.crt(X,Y)\n",
        "            flag = long_to_bytes(x)\n",
        "            if b'SECCON' in flag:\n",
        "                print(flag)"
      ],
      "metadata": {
        "id": "Nr7SYa_ta6ZF",
        "colab": {
          "base_uri": "https://localhost:8080/"
        },
        "outputId": "d0756d91-7285-4155-ded2-bb5f6908dbfe"
      },
      "execution_count": 5,
      "outputs": [
        {
          "output_type": "stream",
          "name": "stdout",
          "text": [
            "b'\\x12=\\x04q\\x9b\\xb8\\x1c\\x10C\\x02\\x1e\\x13`\\xac>A\\x9c\\xf9\\x9d\\xc2\\x83\\xc2\\xcd\\x15\\x97\\x86\\x8e\\xd2\\x85*s\\r\\x18~\\x9b\\xbai\\xb1\\x07\\xacF\\x0f\\xfcrZ\\xf1\\xd0\\x1f\\xb0q\\xe4\\xbf\\xd2\\x87G\\x1b\\xdc\\xd2u\\x97\\xb3\\xcc?\\xba\\xba@\\xae\\x96\\xdc\\x1b\\x10\\xd3\\x00f\\nH\\x99d\\xf7{\\xea \\x82T\\xf5\\x03\\x81\\xd0:\\r\\x8d\\xa6P\\x92\\xa0\\x1d\\x91n u6}:\\x98\\r\\xa0\\xbc\\xe5\\x84y\\x01\\x89\\xa4P\\xf4\\xf9\\xe4\\xf2\\x95\\x8d\\x85\\x11\\xfezN\\x06- e(\\x80\\xd2\\x01\\x8e\\x94&\\xf7amQ\\x08@\\xd4w\\x8e\\xbbP\\xfa\\x17SECCON{being_able_to_s0lve_this_1s_great!}'\n"
          ]
        }
      ]
    },
    {
      "cell_type": "code",
      "source": [],
      "metadata": {
        "id": "VIeUWJgCQD1o"
      },
      "execution_count": null,
      "outputs": []
    }
  ],
  "metadata": {
    "colab": {
      "provenance": [],
      "collapsed_sections": [],
      "authorship_tag": "ABX9TyPYtQx6o1v2LC8uFDRyc4fh",
      "include_colab_link": true
    },
    "kernelspec": {
      "display_name": "Python 3",
      "name": "python3"
    },
    "language_info": {
      "name": "python"
    }
  },
  "nbformat": 4,
  "nbformat_minor": 0
}