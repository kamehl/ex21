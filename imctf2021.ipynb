{
  "nbformat": 4,
  "nbformat_minor": 0,
  "metadata": {
    "colab": {
      "name": "imctf2021.ipynb",
      "provenance": [],
      "toc_visible": true,
      "mount_file_id": "1vaJW_nyKT_hDW47XMKpDDLtYCGmw7a5N",
      "authorship_tag": "ABX9TyOYJ3sma5Raa9g5ZqHdDBni",
      "include_colab_link": true
    },
    "kernelspec": {
      "name": "python3",
      "display_name": "Python 3"
    },
    "language_info": {
      "name": "python"
    }
  },
  "cells": [
    {
      "cell_type": "markdown",
      "metadata": {
        "id": "view-in-github",
        "colab_type": "text"
      },
      "source": [
        "<a href=\"https://colab.research.google.com/github/kamehl/ex21/blob/main/imctf2021.ipynb\" target=\"_parent\"><img src=\"https://colab.research.google.com/assets/colab-badge.svg\" alt=\"Open In Colab\"/></a>"
      ]
    },
    {
      "cell_type": "code",
      "execution_count": 1,
      "metadata": {
        "id": "fRYFeAEaTK6S"
      },
      "outputs": [],
      "source": [
        "ciphertext = \"6157316a64475a374d484a6c4d484a6c58324e79655842304d4639706331397a6458426c636c397a5a574e31\""
      ]
    },
    {
      "cell_type": "markdown",
      "source": [
        "#crypto"
      ],
      "metadata": {
        "id": "QcJbkc0FzYdH"
      }
    },
    {
      "cell_type": "markdown",
      "source": [
        "##love letter"
      ],
      "metadata": {
        "id": "rJLlHSyfprOT"
      }
    },
    {
      "cell_type": "markdown",
      "source": [
        "換字式暗号化なので、次のサイトで一撃。\n",
        "\n",
        "https://quipqiup.com/"
      ],
      "metadata": {
        "id": "vG0sY0lNt1jt"
      }
    },
    {
      "cell_type": "markdown",
      "source": [
        "##common"
      ],
      "metadata": {
        "id": "cmrqRmjazaVY"
      }
    },
    {
      "cell_type": "code",
      "source": [
        "n = 21141157755370440356159016558867591002795131037765353220781763950242197787546988623583333748613811615876039600044067795582387314625044873018261912055648316947575307397145571269092683237196318163742534102252564452361648000741215145961263035358948910750394941304616916013217678630294578579032413375393774307079767343057241805957456859330160131811246961956716626217712879502367810458962663138839207104998925545962808329297100387478763021607429645752111666523372296094568288414788741918520918522347389517685977356020153749161423831061236785869435119648010372663034476232600939002450611487244980761240697255092515294619063\n",
        "e1 = 65536\n",
        "c1 = 3791139181938569737398685036032381737646987513051659017777895787043616313081106838760662536132081707503545049439606032069727376790572333643094529595081085118571506461893089039469054703087386815141490544138726142314337827447061522144729907408053083672097701520947030283539764963562701091579919487153984526052282424975277999492006498441654336183574233720547915500793830555227254993335348447191157770264921144000194606354966874727918714437428556969904356868934618577114911104025392029907939301331113924863412657322707967483351467004854177190395076310650546542866389721479249039989850401261446124771193559166329619972412\n",
        "e2 = 65538\n",
        "c2 = 9479987054301003593696498729807102589604512322454236806662495038269939932383233766107579478386705533651017857595249113906203900757985576318399557582785561924440535008414598465159052407108648112038858687677552218404377633749009339690058222162908839308847763582094729669124528370642665466262258176588951705959922822288462616323273663488143476234490690202535922260303842658128571121608034815328952318543895796544411651444423903851422043107669054499710424643274879906277104856140792871842468587164924689276336292808339852752054246714774764674969279059667783378523996744567909634744703888058392004064096159069736198607229"
      ],
      "metadata": {
        "id": "RVEWWBgITR7Z"
      },
      "execution_count": 1,
      "outputs": []
    },
    {
      "cell_type": "markdown",
      "source": [
        ">$c1 = m^{e1} mod(n)$<br>\n",
        ">$c2 = m^{e2} mod(n)$\n",
        "\n",
        "式変形すると・・・\n",
        "\n",
        ">$c2-c1 = m^{e1}\\times\\left( m^{e2-e1} - 1\\right) mod(n)$<br>\n",
        ">$c2-c1 = m^{e1}\\times\\left( m^{2} - 1\\right) mod(n)$<br>\n",
        ">$m^{2} = \\left\\{ \\left( c2-c1\\right)\\times inv\\left( m^{e1}\\right) +1\\right\\} mod(n)$<br>\n",
        "\n",
        "$m^{2}$なら計算できそう"
      ],
      "metadata": {
        "id": "X6ldEq4MzfUD"
      }
    },
    {
      "cell_type": "code",
      "source": [
        "c3 = c2-c1"
      ],
      "metadata": {
        "id": "8_JlIUOPYYyr"
      },
      "execution_count": 3,
      "outputs": []
    },
    {
      "cell_type": "code",
      "source": [
        "import sympy\n",
        "\n",
        "d = sympy.invert(c1, n)"
      ],
      "metadata": {
        "id": "F73MxTEBYsA3"
      },
      "execution_count": 14,
      "outputs": []
    },
    {
      "cell_type": "code",
      "source": [
        "m2 = c3 * d % n"
      ],
      "metadata": {
        "id": "whVq1xw_Z1Dj"
      },
      "execution_count": 16,
      "outputs": []
    },
    {
      "cell_type": "code",
      "source": [
        "sympy.sqrt(m2+1)"
      ],
      "metadata": {
        "colab": {
          "base_uri": "https://localhost:8080/",
          "height": 37
        },
        "id": "VkghcLL1anfJ",
        "outputId": "94a089e6-2a3f-4ebb-bea4-5ba5f066788b"
      },
      "execution_count": 17,
      "outputs": [
        {
          "output_type": "execute_result",
          "data": {
            "text/latex": "$\\displaystyle 11102790441908549537282775747379306669309330780040183964070327776381$",
            "text/plain": [
              "11102790441908549537282775747379306669309330780040183964070327776381"
            ]
          },
          "metadata": {},
          "execution_count": 17
        }
      ]
    },
    {
      "cell_type": "code",
      "source": [
        "!pip install pycryptodome"
      ],
      "metadata": {
        "colab": {
          "base_uri": "https://localhost:8080/"
        },
        "id": "4AtMB-CUbJpv",
        "outputId": "6df882e7-c02a-40f0-a926-3988f8d0b56e"
      },
      "execution_count": 2,
      "outputs": [
        {
          "output_type": "stream",
          "name": "stdout",
          "text": [
            "Collecting pycryptodome\n",
            "  Downloading pycryptodome-3.12.0-cp35-abi3-manylinux2010_x86_64.whl (2.0 MB)\n",
            "\u001b[K     |████████████████████████████████| 2.0 MB 5.3 MB/s \n",
            "\u001b[?25hInstalling collected packages: pycryptodome\n",
            "Successfully installed pycryptodome-3.12.0\n"
          ]
        }
      ]
    },
    {
      "cell_type": "code",
      "source": [
        "from Crypto.Util.number import *\n",
        "\n",
        "long_to_bytes(11102790441908549537282775747379306669309330780040183964070327776381)"
      ],
      "metadata": {
        "colab": {
          "base_uri": "https://localhost:8080/"
        },
        "id": "hy5Ssch1bUar",
        "outputId": "cad1166a-d175-491e-886a-2a3fb92e6abf"
      },
      "execution_count": 3,
      "outputs": [
        {
          "output_type": "execute_result",
          "data": {
            "text/plain": [
              "b'imctf{y0u_are_an_rsa_exp0rt}'"
            ]
          },
          "metadata": {},
          "execution_count": 3
        }
      ]
    },
    {
      "cell_type": "markdown",
      "source": [
        "##pxkemxn"
      ],
      "metadata": {
        "id": "DnycG0ddzCG1"
      }
    },
    {
      "cell_type": "code",
      "source": [
        "M = 54354118932293738974277735009690054672438569183669264435593776508452144737651\n",
        "X = []\n",
        "X.append(27562969846242726464849700066934036402432300755063353950289314180737804494366)\n",
        "X.append(53881790667921922669270635160364649792695336386197364717009941696103524473701)\n",
        "X.append(18353049655762832365359178635985811169156727614439565352194778213695599906765)\n",
        "X"
      ],
      "metadata": {
        "colab": {
          "base_uri": "https://localhost:8080/"
        },
        "id": "RvpAqsG6b42h",
        "outputId": "b25900c1-ec14-4842-d2b4-4104b0acbaee"
      },
      "execution_count": 6,
      "outputs": [
        {
          "output_type": "execute_result",
          "data": {
            "text/plain": [
              "[27562969846242726464849700066934036402432300755063353950289314180737804494366,\n",
              " 53881790667921922669270635160364649792695336386197364717009941696103524473701,\n",
              " 18353049655762832365359178635985811169156727614439565352194778213695599906765]"
            ]
          },
          "metadata": {},
          "execution_count": 6
        }
      ]
    },
    {
      "cell_type": "markdown",
      "source": [
        "A、Bは初期化時点で固定されるので、X[0]〜X[2]からAが求まる。\n",
        "\n",
        "<pre>\n",
        "    X[1] = A*X[0] + B mod M\n",
        "    X[2] = A*X[1] + B mod M\n",
        "    X[2] - X[1] = A*(X[1] - X[0]) mod M\n",
        "    A = (X[2] - X[1]) * inv(X[1] - X[0]) mod M\n",
        "</pre>\n"
      ],
      "metadata": {
        "id": "pv6vHAVCiLxW"
      }
    },
    {
      "cell_type": "code",
      "source": [
        "import sympy\n",
        "\n",
        "D = sympy.invert(X[1]-X[0], M)\n",
        "D"
      ],
      "metadata": {
        "colab": {
          "base_uri": "https://localhost:8080/",
          "height": 37
        },
        "id": "pqm3q6RPj9mi",
        "outputId": "5718364f-7342-4981-b564-e9250fa4a96a"
      },
      "execution_count": 7,
      "outputs": [
        {
          "output_type": "execute_result",
          "data": {
            "text/latex": "$\\displaystyle 41930284717522653140224594896152154410316861871128518105790131924618364636888$",
            "text/plain": [
              "41930284717522653140224594896152154410316861871128518105790131924618364636888"
            ]
          },
          "metadata": {},
          "execution_count": 7
        }
      ]
    },
    {
      "cell_type": "code",
      "source": [
        "A = (X[2]-X[1]) * D % M\n",
        "A"
      ],
      "metadata": {
        "colab": {
          "base_uri": "https://localhost:8080/",
          "height": 37
        },
        "id": "bFH0pVMfkNPC",
        "outputId": "606a19f9-cc97-4865-d4d6-9c602dc46e5d"
      },
      "execution_count": 8,
      "outputs": [
        {
          "output_type": "execute_result",
          "data": {
            "text/latex": "$\\displaystyle 3888188529568654032289763479153589114108256385402749337961355305249441503481$",
            "text/plain": [
              "3888188529568654032289763479153589114108256385402749337961355305249441503481"
            ]
          },
          "metadata": {},
          "execution_count": 8
        }
      ]
    },
    {
      "cell_type": "markdown",
      "source": [
        " Aが求まればBも求まる。"
      ],
      "metadata": {
        "id": "7gJyfSbDyksJ"
      }
    },
    {
      "cell_type": "code",
      "source": [
        "B = (X[1] - A * X[0]) % M\n",
        "B"
      ],
      "metadata": {
        "colab": {
          "base_uri": "https://localhost:8080/",
          "height": 37
        },
        "id": "0xaz_jXakbAa",
        "outputId": "b8c406b3-d312-47ce-9367-5f7f8c70c2cb"
      },
      "execution_count": 10,
      "outputs": [
        {
          "output_type": "execute_result",
          "data": {
            "text/latex": "$\\displaystyle 39846490493920068598077178114888801382526803639516069440643562985086349730290$",
            "text/plain": [
              "39846490493920068598077178114888801382526803639516069440643562985086349730290"
            ]
          },
          "metadata": {},
          "execution_count": 10
        }
      ]
    },
    {
      "cell_type": "markdown",
      "source": [
        "あとはX[100]まで順番に計算すればOK"
      ],
      "metadata": {
        "id": "-VOJMfxHyrRh"
      }
    },
    {
      "cell_type": "code",
      "source": [
        "x = X[0]\n",
        "for i in range(1,101):\n",
        "    x = (A*x + B) % M\n",
        "    if i in [1, 2, 100]:\n",
        "        print(i, '=>', x)"
      ],
      "metadata": {
        "colab": {
          "base_uri": "https://localhost:8080/"
        },
        "id": "34LXxANRkwhQ",
        "outputId": "321f2de2-c0e2-4856-bf55-80420548c8d7"
      },
      "execution_count": 12,
      "outputs": [
        {
          "output_type": "stream",
          "name": "stdout",
          "text": [
            "1 => 53881790667921922669270635160364649792695336386197364717009941696103524473701\n",
            "2 => 18353049655762832365359178635985811169156727614439565352194778213695599906765\n",
            "100 => 41406001562898874001864598429475444818799641840147213206874340730032400227277\n"
          ]
        }
      ]
    },
    {
      "cell_type": "markdown",
      "source": [
        "#rev"
      ],
      "metadata": {
        "id": "iym3tHCZ2wYp"
      }
    },
    {
      "cell_type": "markdown",
      "source": [
        "##E・Mo・I・XL"
      ],
      "metadata": {
        "id": "rJbjxybt2yZL"
      }
    },
    {
      "cell_type": "markdown",
      "source": [
        "hintoに従ってoletoolsをインストールしてみる"
      ],
      "metadata": {
        "id": "Jyc9V1OC3pZx"
      }
    },
    {
      "cell_type": "code",
      "source": [
        "!pip install -U oletools"
      ],
      "metadata": {
        "colab": {
          "base_uri": "https://localhost:8080/"
        },
        "id": "3oA5xdtp3DJG",
        "outputId": "2471ee4d-1aa9-492b-9c3b-4952c5282276"
      },
      "execution_count": 1,
      "outputs": [
        {
          "output_type": "stream",
          "name": "stdout",
          "text": [
            "Requirement already satisfied: oletools in /usr/local/lib/python3.7/dist-packages (0.60)\n",
            "Requirement already satisfied: easygui in /usr/local/lib/python3.7/dist-packages (from oletools) (0.98.2)\n",
            "Requirement already satisfied: olefile>=0.46 in /usr/local/lib/python3.7/dist-packages (from oletools) (0.46)\n",
            "Requirement already satisfied: colorclass in /usr/local/lib/python3.7/dist-packages (from oletools) (2.2.2)\n",
            "Requirement already satisfied: msoffcrypto-tool in /usr/local/lib/python3.7/dist-packages (from oletools) (4.12.0)\n",
            "Requirement already satisfied: pcodedmp>=1.2.5 in /usr/local/lib/python3.7/dist-packages (from oletools) (1.2.6)\n",
            "Requirement already satisfied: pyparsing<3,>=2.1.0 in /usr/local/lib/python3.7/dist-packages (from oletools) (2.4.7)\n",
            "Requirement already satisfied: cryptography>=2.3 in /usr/local/lib/python3.7/dist-packages (from msoffcrypto-tool->oletools) (36.0.1)\n",
            "Requirement already satisfied: cffi>=1.12 in /usr/local/lib/python3.7/dist-packages (from cryptography>=2.3->msoffcrypto-tool->oletools) (1.15.0)\n",
            "Requirement already satisfied: pycparser in /usr/local/lib/python3.7/dist-packages (from cffi>=1.12->cryptography>=2.3->msoffcrypto-tool->oletools) (2.21)\n"
          ]
        }
      ]
    },
    {
      "cell_type": "code",
      "source": [
        "!olevba --reveal /content/drive/MyDrive/imctf2021/rev/EMoIXL/EmoXL.xlsm"
      ],
      "metadata": {
        "colab": {
          "base_uri": "https://localhost:8080/"
        },
        "id": "HIIWKpj43bzs",
        "outputId": "6040462b-abec-4401-c247-9e25710cc97a"
      },
      "execution_count": 2,
      "outputs": [
        {
          "output_type": "stream",
          "name": "stdout",
          "text": [
            "olevba 0.60 on Python 3.7.12 - http://decalage.info/python/oletools\n",
            "===============================================================================\n",
            "FILE: /content/drive/MyDrive/imctf2021/rev/EMoIXL/EmoXL.xlsm\n",
            "Type: OpenXML\n",
            "WARNING  For now, VBA stomping cannot be detected for files in memory\n",
            "-------------------------------------------------------------------------------\n",
            "VBA MACRO ThisWorkbook.cls \n",
            "in file: xl/vbaProject.bin - OLE stream: 'VBA/ThisWorkbook'\n",
            "- - - - - - - - - - - - - - - - - - - - - - - - - - - - - - - - - - - - - - - \n",
            "Private Sub \u001b[93mWorkbook_Open\u001b[39m()\n",
            "    Module1.GetPayload\n",
            "End Sub\n",
            "-------------------------------------------------------------------------------\n",
            "VBA MACRO Sheet1.cls \n",
            "in file: xl/vbaProject.bin - OLE stream: 'VBA/Sheet1'\n",
            "- - - - - - - - - - - - - - - - - - - - - - - - - - - - - - - - - - - - - - - \n",
            "(empty macro)\n",
            "-------------------------------------------------------------------------------\n",
            "VBA MACRO Module1.bas \n",
            "in file: xl/vbaProject.bin - OLE stream: 'VBA/Module1'\n",
            "- - - - - - - - - - - - - - - - - - - - - - - - - - - - - - - - - - - - - - - \n",
            "Sub GetPayload()\n",
            "    Dim payload As String: payload = vbNullString\n",
            "    Dim ws As Worksheet\n",
            "    Set ws = ThisWorkbook.Worksheets(1)\n",
            "    With ThisWorkbook\n",
            "        With .BuiltinDocumentProperties\n",
            "            payload = payload + .Item(ws.Cells(1048573, 16384).Value)\n",
            "            payload = payload + .Item(ws.Cells(1048574, 16384).Value)\n",
            "            payload = payload + .Item(ws.Cells(1048572, 16384).Value)\n",
            "            payload = payload + .Item(ws.Cells(1048575, 16384).Value)\n",
            "            payload = payload + .Item(ws.Cells(1048576, 16384).Value)\n",
            "        End With\n",
            "    End With\n",
            "    payload = _\n",
            "    \"p\" & \"w\" & \"s\" & \"h\" & \" \" & \"-\" & \"n\" & \"o\" & _\n",
            "    \"p\" & \" \" & \"-\" & \"e\" & _\n",
            "    \"p\" & \" \" & \"B\" & \"y\" & _\n",
            "    \"p\" & \"a\" & \"s\" & \"s\" & \" \" & \"-\" & \"e\" & \" \" + _\n",
            "    payload\n",
            "    \u001b[91mCreateObject\u001b[39m(\"WScript.\u001b[91mShell\u001b[39m\").\u001b[91mRun\u001b[39m payload\n",
            "End Sub\n",
            "\n",
            "+----------+--------------------+---------------------------------------------+\n",
            "|Type      |Keyword             |Description                                  |\n",
            "+----------+--------------------+---------------------------------------------+\n",
            "|\u001b[93mAutoExec\u001b[39m  |Workbook_Open       |Runs when the Excel Workbook is opened       |\n",
            "|\u001b[91mSuspicious\u001b[39m|Shell               |May run an executable file or a system       |\n",
            "|          |                    |command                                      |\n",
            "|\u001b[91mSuspicious\u001b[39m|WScript.Shell       |May run an executable file or a system       |\n",
            "|          |                    |command                                      |\n",
            "|\u001b[91mSuspicious\u001b[39m|Run                 |May run an executable file or a system       |\n",
            "|          |                    |command                                      |\n",
            "|\u001b[91mSuspicious\u001b[39m|CreateObject        |May create an OLE object                     |\n",
            "|\u001b[91mSuspicious\u001b[39m|Hex Strings         |Hex-encoded strings were detected, may be    |\n",
            "|          |                    |used to obfuscate strings (option --decode to|\n",
            "|          |                    |see all)                                     |\n",
            "|\u001b[91mSuspicious\u001b[39m|VBA obfuscated      |VBA string expressions were detected, may be |\n",
            "|          |Strings             |used to obfuscate strings (option --decode to|\n",
            "|          |                    |see all)                                     |\n",
            "|VBA string|pwsh -nop -ep Bypass|\"p\" & \"w\" & \"s\" & \"h\" & \" \" & \"-\" & \"n\" & \"o\"|\n",
            "|          |-e                  |&     \"p\" & \" \" & \"-\" & \"e\" &     \"p\" & \" \" &|\n",
            "|          |                    |\"B\" & \"y\" &     \"p\" & \"a\" & \"s\" & \"s\" & \" \" &|\n",
            "|          |                    |\"-\" & \"e\" & \" \"                              |\n",
            "+----------+--------------------+---------------------------------------------+\n",
            "MACRO SOURCE CODE WITH DEOBFUSCATED VBA STRINGS (EXPERIMENTAL):\n",
            "\n",
            "\n",
            "Private Sub Workbook_Open()\n",
            "    Module1.GetPayload\n",
            "End Sub\n",
            "\n",
            "Attribute VB_Name = \"Sheet1\"\n",
            "Attribute VB_Base = \"0{00020820-0000-0000-C000-000000000046}\"\n",
            "Attribute VB_GlobalNameSpace = False\n",
            "Attribute VB_Creatable = False\n",
            "Attribute VB_PredeclaredId = True\n",
            "Attribute VB_Exposed = True\n",
            "Attribute VB_TemplateDerived = False\n",
            "Attribute VB_Customizable = True\n",
            "\n",
            "Attribute VB_Name = \"Module1\"\n",
            "Sub GetPayload()\n",
            "    Dim payload As String: payload = vbNullString\n",
            "    Dim ws As Worksheet\n",
            "    Set ws = ThisWorkbook.Worksheets(1)\n",
            "    With ThisWorkbook\n",
            "        With .BuiltinDocumentProperties\n",
            "            payload = payload + .Item(ws.Cells(1048573, 16384).Value)\n",
            "            payload = payload + .Item(ws.Cells(1048574, 16384).Value)\n",
            "            payload = payload + .Item(ws.Cells(1048572, 16384).Value)\n",
            "            payload = payload + .Item(ws.Cells(1048575, 16384).Value)\n",
            "            payload = payload + .Item(ws.Cells(1048576, 16384).Value)\n",
            "        End With\n",
            "    End With\n",
            "    payload =     \"pwsh -nop -ep Bypass -e \" +     payload\n",
            "    CreateObject(\"WScript.Shell\").Run payload\n",
            "End Sub\n",
            "\n",
            "\n",
            "\n"
          ]
        }
      ]
    },
    {
      "cell_type": "markdown",
      "source": [
        "Worksheets(1)のws.Cells(1048572, 16384)〜ws.Cells(1048576, 16384)の値を使っているので調べてみる。"
      ],
      "metadata": {
        "id": "rsI-re_n3y5Y"
      }
    },
    {
      "cell_type": "code",
      "source": [
        "import openpyxl\n",
        "\n",
        "wb = openpyxl.load_workbook(\"/content/drive/MyDrive/imctf2021/rev/EMoIXL/EmoXL.xlsm\", keep_vba=True)\n",
        "sheet = wb[\"Sheet1\"]\n",
        "\n",
        "print(\"{}, {}, {}, {}, {}\".format(\n",
        "      sheet.cell(1048573, 16384).value,\n",
        "      sheet.cell(1048574, 16384).value,\n",
        "      sheet.cell(1048572, 16384).value,\n",
        "      sheet.cell(1048575, 16384).value,\n",
        "      sheet.cell(1048576, 16384).value))\n"
      ],
      "metadata": {
        "colab": {
          "base_uri": "https://localhost:8080/"
        },
        "id": "OQGtGG7EQQhs",
        "outputId": "1c52f851-b329-4da0-8da3-07f9a8769f0e"
      },
      "execution_count": 2,
      "outputs": [
        {
          "output_type": "stream",
          "name": "stdout",
          "text": [
            "title, subject, keywords, category, comments\n"
          ]
        }
      ]
    },
    {
      "cell_type": "markdown",
      "source": [
        "調べたところ、BuiltinDocumentPropertiesはExcelファイルのメタ情報らいし・・・\n",
        "\n",
        "次のようにすれば取り出せる"
      ],
      "metadata": {
        "id": "vU2iGy034KIc"
      }
    },
    {
      "cell_type": "code",
      "source": [
        "print(\"{}{}{}{}{}\".format(\n",
        "      wb.properties.title,\n",
        "      wb.properties.subject,\n",
        "      wb.properties.keywords,\n",
        "      wb.properties.category,\n",
        "      wb.properties.description))"
      ],
      "metadata": {
        "colab": {
          "base_uri": "https://localhost:8080/"
        },
        "id": "yMew9jDhKtc-",
        "outputId": "8761006d-e90e-41e2-840b-d752629e434d"
      },
      "execution_count": 3,
      "outputs": [
        {
          "output_type": "stream",
          "name": "stdout",
          "text": [
            "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\n"
          ]
        }
      ]
    },
    {
      "cell_type": "markdown",
      "source": [
        "明らかにbase64なのでデコードしてみる"
      ],
      "metadata": {
        "id": "yC1mAERJ4Z8L"
      }
    },
    {
      "cell_type": "code",
      "source": [
        "import base64\n",
        "\n",
        "str_b64 = \"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\"\n",
        "\n",
        "base64.b64decode(str_b64).decode('utf-16')\n"
      ],
      "metadata": {
        "colab": {
          "base_uri": "https://localhost:8080/",
          "height": 140
        },
        "id": "fPbn99LZLv7Q",
        "outputId": "27f52cfc-aee1-4b40-9c15-f637bceda813"
      },
      "execution_count": 5,
      "outputs": [
        {
          "output_type": "execute_result",
          "data": {
            "application/vnd.google.colaboratory.intrinsic+json": {
              "type": "string"
            },
            "text/plain": [
              "'$password = (Read-Host \"Password\")\\n$txt = [System.Text.Encoding]::Default.GetString(\\n    [System.Convert]::FromBase64String(\\n        (\\n            @(\"5a\", \"56\", \"39\", \"74\", \"62\", \"31\", \"39\", \"30\", \"61\", \"57\", \"39\", \"75\", \"58\", \"32\", \"4a\", \"35\", \"58\", \"32\", \"4e\", \"68\", \"63\", \"6d\", \"78\", \"35\", \"58\", \"33\", \"4a\", \"68\", \"5a\", \"56\", \"39\", \"71\", \"5a\", \"58\", \"42\", \"7a\", \"5a\", \"57\", \"34\", \"3d\") |\\n            ForEach-Object { [char][byte]\"0x$_\" }\\n        ) -join \"\"\\n    )\\n)\\n$txt2 = [System.Text.Encoding]::Default.GetString(\\n    [System.Convert]::FromBase64String(\\n        (\\n            @(\"5a\", \"6d\", \"78\", \"68\", \"5a\", \"79\", \"41\", \"36\", \"49\", \"47\", \"6c\", \"74\", \"59\", \"33\", \"52\", \"6d\", \"65\", \"30\", \"6c\", \"66\", \"63\", \"6d\", \"56\", \"68\", \"62\", \"47\", \"78\", \"35\", \"58\", \"33\", \"4a\", \"6c\", \"59\", \"57\", \"78\", \"73\", \"65\", \"56\", \"39\", \"79\", \"5a\", \"57\", \"46\", \"73\", \"62\", \"48\", \"6c\", \"66\", \"63\", \"6d\", \"56\", \"68\", \"62\", \"47\", \"78\", \"35\", \"58\", \"33\", \"4a\", \"6c\", \"59\", \"57\", \"78\", \"73\", \"65\", \"56\", \"39\", \"79\", \"5a\", \"57\", \"46\", \"73\", \"62\", \"48\", \"6c\", \"66\", \"62\", \"47\", \"6c\", \"72\", \"5a\", \"56\", \"39\", \"35\", \"62\", \"33\", \"56\", \"39\") |\\n            ForEach-Object { [char][byte]\"0x$_\" }\\n        ) -join \"\"\\n    )\\n)\\n$isPassed = ($password -eq $txt)\\nWrite-Host ($isPassed ? \"good you are passed\" : \"incorrect password\") -ForegroundColor ($isPassed ? \"Green\" : \"Red\")\\nif ($isPassed) {\\n    Write-Host $txt2 -ForegroundColor Blue\\n}\\n$host.UI.RawUI.ReadKey() | Out-Null\\n'"
            ]
          },
          "metadata": {},
          "execution_count": 5
        }
      ]
    },
    {
      "cell_type": "markdown",
      "source": [
        "またbase64の変換が２個含まれているので、何も考えずデコードしてみる"
      ],
      "metadata": {
        "id": "VCTlOEOmots9"
      }
    },
    {
      "cell_type": "code",
      "source": [
        "import base64\n",
        "\n",
        "txt = (\"5a\", \"56\", \"39\", \"74\", \"62\", \"31\", \"39\", \"30\", \"61\", \"57\", \"39\", \"75\", \"58\", \"32\", \"4a\", \"35\", \"58\", \"32\", \"4e\", \"68\", \"63\", \"6d\", \"78\", \"35\", \"58\", \"33\", \"4a\", \"68\", \"5a\", \"56\", \"39\", \"71\", \"5a\", \"58\", \"42\", \"7a\", \"5a\", \"57\", \"34\", \"3d\")\n",
        "txt2 = (\"5a\", \"6d\", \"78\", \"68\", \"5a\", \"79\", \"41\", \"36\", \"49\", \"47\", \"6c\", \"74\", \"59\", \"33\", \"52\", \"6d\", \"65\", \"30\", \"6c\", \"66\", \"63\", \"6d\", \"56\", \"68\", \"62\", \"47\", \"78\", \"35\", \"58\", \"33\", \"4a\", \"6c\", \"59\", \"57\", \"78\", \"73\", \"65\", \"56\", \"39\", \"79\", \"5a\", \"57\", \"46\", \"73\", \"62\", \"48\", \"6c\", \"66\", \"63\", \"6d\", \"56\", \"68\", \"62\", \"47\", \"78\", \"35\", \"58\", \"33\", \"4a\", \"6c\", \"59\", \"57\", \"78\", \"73\", \"65\", \"56\", \"39\", \"79\", \"5a\", \"57\", \"46\", \"73\", \"62\", \"48\", \"6c\", \"66\", \"62\", \"47\", \"6c\", \"72\", \"5a\", \"56\", \"39\", \"35\", \"62\", \"33\", \"56\", \"39\")\n",
        "\n",
        "print(base64.b64decode(bytearray([ int(x,16) for x in txt]).decode()))\n",
        "print(base64.b64decode(bytearray([ int(x,16) for x in txt2]).decode()))"
      ],
      "metadata": {
        "colab": {
          "base_uri": "https://localhost:8080/"
        },
        "id": "E3R6JOMblvje",
        "outputId": "71c328dd-48aa-4df7-997e-44712d8e6714"
      },
      "execution_count": 15,
      "outputs": [
        {
          "output_type": "stream",
          "name": "stdout",
          "text": [
            "b'e_mo_tion_by_carly_rae_jepsen'\n",
            "b'flag : imctf{I_really_really_really_really_really_really_like_you}'\n"
          ]
        }
      ]
    },
    {
      "cell_type": "markdown",
      "source": [
        "flagゲット"
      ],
      "metadata": {
        "id": "dbx0Ysbmo5rz"
      }
    }
  ]
}